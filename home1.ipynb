{
 "cells": [
  {
   "cell_type": "code",
   "execution_count": 1,
   "metadata": {},
   "outputs": [
    {
     "name": "stdout",
     "output_type": "stream",
     "text": [
      "Populating the interactive namespace from numpy and matplotlib\n"
     ]
    }
   ],
   "source": [
    "import json\n",
    "import bz2\n",
    "import regex\n",
    "from tqdm import tqdm\n",
    "from scipy import sparse\n",
    "import pandas as pd\n",
    "import numpy as np\n",
    "import nltk\n",
    "import matplotlib.pyplot as plt\n",
    "import seaborn as sns\n",
    "%matplotlib inline\n",
    "%pylab inline"
   ]
  },
  {
   "cell_type": "code",
   "execution_count": 2,
   "metadata": {},
   "outputs": [
    {
     "name": "stderr",
     "output_type": "stream",
     "text": [
      "201030it [01:07, 2989.12it/s]\n"
     ]
    }
   ],
   "source": [
    "responses = []\n",
    "with bz2.BZ2File('banki_responses.json.bz2', 'r') as thefile:\n",
    "    for row in tqdm(thefile):\n",
    "        resp = json.loads(row)\n",
    "        if not resp['rating_not_checked'] and (len(resp['text'].split()) > 0):\n",
    "            responses.append(resp)"
   ]
  },
  {
   "cell_type": "code",
   "execution_count": 3,
   "metadata": {},
   "outputs": [
    {
     "data": {
      "text/plain": [
       "{'city': 'г. Москва',\n",
       " 'rating_not_checked': False,\n",
       " 'title': 'Жалоба',\n",
       " 'num_comments': 0,\n",
       " 'bank_license': 'лицензия № 2562',\n",
       " 'author': 'uhnov1',\n",
       " 'bank_name': 'Бинбанк',\n",
       " 'datetime': '2015-06-08 12:50:54',\n",
       " 'text': 'Добрый день! Я не являюсь клиентом банка и поручителем по кредитному договору, а также не являюсь каким-либо другим лицом, письменно  оформившим отношения с банком по поводу урегулирования чьей-либо  задолженности.  Начиная с марта 2015 года начали приходить бесконечные письма из ООО \"Примо коллект\"на мой адрес: город Москва, Уваровский переулок, дом 10, квартира 111, с угрозами о возбуждении уголовного дела в отношении гражданина Филиппова Эдуарда Владимировича, который уклоняется от уплаты взятых им кредитов: договор № 81014 от 20.10.2013 года и договор № 2464946 от 09.10.2014 года. Со всей ответственностью\\xa0 хочу Вас заверить, что вышеуказанный гражданин, которого Вы разыскиваете, мне не знаком и никогда в моем адресе не был зарегистрирован. Каким образом Вы не удостоверившись в подлинности его документов оформили на его имя кредитный договор, мне по меньшей мере не понятно,\\xa0 и почему по Вашей милости я должна переживать и бояться за себе и свое имущество. Письма доставляют мне серьезные неудобства, нарушают мои гражданские права, а также нарушают закон о защите персональных данных. Убедительно прошу прекратить посылать на мой адрес письма с угрозами по вопросам, к которым я не имею отношения. В случае отклонения моей претензии буду вынуждена обратиться с жалобами в  другие органы: Росспотребнадзор, Центральный банк, Службу Финансового  омбудсмена. Кроме этого будет подано заявление в полицию и заявление в  суд возмещение причиненного мне морального вреда. Надеюсь на скорое решение моего вопроса.',\n",
       " 'rating_grade': None}"
      ]
     },
     "execution_count": 3,
     "metadata": {},
     "output_type": "execute_result"
    }
   ],
   "source": [
    "responses[0]"
   ]
  },
  {
   "cell_type": "markdown",
   "metadata": {},
   "source": [
    "## Формируем данные"
   ]
  },
  {
   "cell_type": "code",
   "execution_count": 4,
   "metadata": {},
   "outputs": [],
   "source": [
    "data = pd.DataFrame.from_dict(responses)\n",
    "data = data.dropna()"
   ]
  },
  {
   "cell_type": "code",
   "execution_count": 5,
   "metadata": {},
   "outputs": [
    {
     "data": {
      "text/html": [
       "<div>\n",
       "<style scoped>\n",
       "    .dataframe tbody tr th:only-of-type {\n",
       "        vertical-align: middle;\n",
       "    }\n",
       "\n",
       "    .dataframe tbody tr th {\n",
       "        vertical-align: top;\n",
       "    }\n",
       "\n",
       "    .dataframe thead th {\n",
       "        text-align: right;\n",
       "    }\n",
       "</style>\n",
       "<table border=\"1\" class=\"dataframe\">\n",
       "  <thead>\n",
       "    <tr style=\"text-align: right;\">\n",
       "      <th></th>\n",
       "      <th>author</th>\n",
       "      <th>bank_license</th>\n",
       "      <th>bank_name</th>\n",
       "      <th>city</th>\n",
       "      <th>datetime</th>\n",
       "      <th>num_comments</th>\n",
       "      <th>rating_grade</th>\n",
       "      <th>rating_not_checked</th>\n",
       "      <th>text</th>\n",
       "      <th>title</th>\n",
       "    </tr>\n",
       "  </thead>\n",
       "  <tbody>\n",
       "    <tr>\n",
       "      <th>14</th>\n",
       "      <td>yura1189</td>\n",
       "      <td>лицензия № 2673</td>\n",
       "      <td>Тинькофф Банк</td>\n",
       "      <td>г. Москва</td>\n",
       "      <td>2015-06-05 13:52:40</td>\n",
       "      <td>0</td>\n",
       "      <td>2.0</td>\n",
       "      <td>False</td>\n",
       "      <td>Также как и многие давний клиент банка, был до...</td>\n",
       "      <td>В Шоке</td>\n",
       "    </tr>\n",
       "    <tr>\n",
       "      <th>19</th>\n",
       "      <td>agelun</td>\n",
       "      <td>лицензия № 1481</td>\n",
       "      <td>Сбербанк России</td>\n",
       "      <td>г. Москва</td>\n",
       "      <td>2015-06-05 15:00:54</td>\n",
       "      <td>2</td>\n",
       "      <td>1.0</td>\n",
       "      <td>False</td>\n",
       "      <td>Открыт вклад и счет в USD. Плюс к этому есть з...</td>\n",
       "      <td>Некомпетентность сотрудников банка</td>\n",
       "    </tr>\n",
       "    <tr>\n",
       "      <th>33</th>\n",
       "      <td>Joker888</td>\n",
       "      <td>лицензия № 1481</td>\n",
       "      <td>Сбербанк России</td>\n",
       "      <td>г. Ростов-на-Дону</td>\n",
       "      <td>2015-06-05 21:35:40</td>\n",
       "      <td>1</td>\n",
       "      <td>1.0</td>\n",
       "      <td>False</td>\n",
       "      <td>Доброго времени! Вчера мне поступило смс-уведо...</td>\n",
       "      <td>Навязывание страховки</td>\n",
       "    </tr>\n",
       "    <tr>\n",
       "      <th>76</th>\n",
       "      <td>qwarta45</td>\n",
       "      <td>лицензия № 3006</td>\n",
       "      <td>АктивКапитал Банк</td>\n",
       "      <td>г. Санкт-Петербург</td>\n",
       "      <td>2015-06-06 23:42:39</td>\n",
       "      <td>0</td>\n",
       "      <td>1.0</td>\n",
       "      <td>False</td>\n",
       "      <td>05.06.2015г. около 15 часов, пришел в указанны...</td>\n",
       "      <td>Нарушение договора банковского вклада</td>\n",
       "    </tr>\n",
       "    <tr>\n",
       "      <th>85</th>\n",
       "      <td>721</td>\n",
       "      <td>лицензия № 1481</td>\n",
       "      <td>Сбербанк России</td>\n",
       "      <td>г. Москва</td>\n",
       "      <td>2015-06-04 13:27:04</td>\n",
       "      <td>4</td>\n",
       "      <td>1.0</td>\n",
       "      <td>False</td>\n",
       "      <td>Для оплаты коммунальных платежей пользуюсь пла...</td>\n",
       "      <td>Невозможно оплатить отчисления на капремонт \"Т...</td>\n",
       "    </tr>\n",
       "  </tbody>\n",
       "</table>\n",
       "</div>"
      ],
      "text/plain": [
       "      author     bank_license          bank_name                city  \\\n",
       "14  yura1189  лицензия № 2673      Тинькофф Банк           г. Москва   \n",
       "19    agelun  лицензия № 1481    Сбербанк России           г. Москва   \n",
       "33  Joker888  лицензия № 1481    Сбербанк России   г. Ростов-на-Дону   \n",
       "76  qwarta45  лицензия № 3006  АктивКапитал Банк  г. Санкт-Петербург   \n",
       "85       721  лицензия № 1481    Сбербанк России           г. Москва   \n",
       "\n",
       "               datetime  num_comments  rating_grade  rating_not_checked  \\\n",
       "14  2015-06-05 13:52:40             0           2.0               False   \n",
       "19  2015-06-05 15:00:54             2           1.0               False   \n",
       "33  2015-06-05 21:35:40             1           1.0               False   \n",
       "76  2015-06-06 23:42:39             0           1.0               False   \n",
       "85  2015-06-04 13:27:04             4           1.0               False   \n",
       "\n",
       "                                                 text  \\\n",
       "14  Также как и многие давний клиент банка, был до...   \n",
       "19  Открыт вклад и счет в USD. Плюс к этому есть з...   \n",
       "33  Доброго времени! Вчера мне поступило смс-уведо...   \n",
       "76  05.06.2015г. около 15 часов, пришел в указанны...   \n",
       "85  Для оплаты коммунальных платежей пользуюсь пла...   \n",
       "\n",
       "                                                title  \n",
       "14                                             В Шоке  \n",
       "19                 Некомпетентность сотрудников банка  \n",
       "33                              Навязывание страховки  \n",
       "76              Нарушение договора банковского вклада  \n",
       "85  Невозможно оплатить отчисления на капремонт \"Т...  "
      ]
     },
     "execution_count": 5,
     "metadata": {},
     "output_type": "execute_result"
    }
   ],
   "source": [
    "data.head()"
   ]
  },
  {
   "cell_type": "markdown",
   "metadata": {},
   "source": [
    "## Количесво отзывов по банкам и городам"
   ]
  },
  {
   "cell_type": "code",
   "execution_count": 15,
   "metadata": {},
   "outputs": [],
   "source": [
    "count_by_city = data.groupby(['bank_name','city'])"
   ]
  },
  {
   "cell_type": "code",
   "execution_count": 16,
   "metadata": {},
   "outputs": [
    {
     "data": {
      "text/plain": [
       "bank_name  city                                \n",
       "2Т Банк    г. Moscow                                 1\n",
       "           г. Mscow                                  1\n",
       "           г. Белгород (Москва)                      1\n",
       "           г. Бугульма                               1\n",
       "           г. Волгодонск                             2\n",
       "           г. Воронеж                                1\n",
       "           г. Дмитров                                1\n",
       "           г. Екатеринбург                           3\n",
       "           г. Истра                                  1\n",
       "           г. Казань                                 1\n",
       "           г. Калининград                            2\n",
       "           г. Красноармейск                          1\n",
       "           г. Краснодар                              5\n",
       "           г. Красноярск                             1\n",
       "           г. Липецк                                 1\n",
       "           г. Луховицы Московской обл.               1\n",
       "           г. Магнитогорск                           1\n",
       "           г. Марфино (Одинцовский р-н)              2\n",
       "           г. Миккели (Москва)                       1\n",
       "           г. Моска                                  1\n",
       "           г. Москва                               216\n",
       "           г. Нижний Новгород                        5\n",
       "           г. Новороссийск                           6\n",
       "           г. Новороссийск (Краснодарский край)      1\n",
       "           г. Новосибирск                            4\n",
       "           г. Очер                                   1\n",
       "           г. Пермь                                  2\n",
       "           г. Россия                                 1\n",
       "           г. Ростов-на-Дону                         1\n",
       "           г. Самара                                 1\n",
       "           г. Санкт-Петербург                      101\n",
       "           г. Санкт-Петербург (Хабаровск)            1\n",
       "           г. Санкт-петербург                        1\n",
       "           г. Саратов                                1\n",
       "           г. Сочи                                   1\n",
       "           г. Сочи (Краснодар)                       1\n",
       "           г. Тюмень                                 2\n",
       "           г. Химки (Москва и область)               1\n",
       "           г. Челябинск                              1\n",
       "           г. Ярославль                              1\n",
       "           г. г. Калининград                         1\n",
       "           г. клин                                   1\n",
       "           г. санкт-петербург                        1\n",
       "АБ Финанс  г. Воронеж                                1\n",
       "           г. Москва                                 6\n",
       "           г. Мытищи                                 1\n",
       "           г. Нижний Новгород                        1\n",
       "           г. Санкт-Петербург                        1\n",
       "           г. Тюмень                                 2\n",
       "АББ        г. Москва                                 1\n",
       "Name: text, dtype: int64"
      ]
     },
     "execution_count": 16,
     "metadata": {},
     "output_type": "execute_result"
    }
   ],
   "source": [
    "count_by_city.count()['text'].head(50)"
   ]
  },
  {
   "cell_type": "code",
   "execution_count": 17,
   "metadata": {},
   "outputs": [
    {
     "data": {
      "text/plain": [
       "count    74710.000000\n",
       "mean      1776.943194\n",
       "std       1409.132727\n",
       "min         66.000000\n",
       "25%        896.000000\n",
       "50%       1397.000000\n",
       "75%       2193.000000\n",
       "max      32082.000000\n",
       "Name: text, dtype: float64"
      ]
     },
     "execution_count": 17,
     "metadata": {},
     "output_type": "execute_result"
    }
   ],
   "source": [
    "len_data = data.text.apply(len)\n",
    "len_data.describe()"
   ]
  },
  {
   "cell_type": "markdown",
   "metadata": {},
   "source": [
    "## Длины отзывов в символах"
   ]
  },
  {
   "cell_type": "code",
   "execution_count": 18,
   "metadata": {},
   "outputs": [
    {
     "data": {
      "image/png": "[encoded data removed]",
      "text/plain": [
       "<Figure size 432x288 with 1 Axes>"
      ]
     },
     "metadata": {
      "needs_background": "light"
     },
     "output_type": "display_data"
    }
   ],
   "source": [
    "length = len_data[len_data < 5000].hist()"
   ]
  },
  {
   "cell_type": "code",
   "execution_count": 41,
   "metadata": {},
   "outputs": [],
   "source": [
    "import re\n",
    "regex = re.compile(\"[А-Яа-яЁё]+\")\n",
    "\n",
    "def words_only(text, regex=regex):\n",
    "    try:\n",
    "        return \" \".join(regex.findall(text))\n",
    "    except:\n",
    "        return \"\"\n",
    "\n",
    "\n",
    "data=data.assign(words=data.text.str.lower())\n",
    "data.words = data.words.apply(words_only)"
   ]
  },
  {
   "cell_type": "code",
   "execution_count": 42,
   "metadata": {},
   "outputs": [
    {
     "data": {
      "text/plain": [
       "count    74710.000000\n",
       "mean       263.742859\n",
       "std        210.762569\n",
       "min         10.000000\n",
       "25%        131.000000\n",
       "50%        207.000000\n",
       "75%        327.000000\n",
       "max       5001.000000\n",
       "Name: words, dtype: float64"
      ]
     },
     "execution_count": 42,
     "metadata": {},
     "output_type": "execute_result"
    }
   ],
   "source": [
    "len_in_words = data.words.str.split().apply(len)\n",
    "len_in_words.describe()"
   ]
  },
  {
   "cell_type": "markdown",
   "metadata": {},
   "source": [
    "## Длины отзывов в словах"
   ]
  },
  {
   "cell_type": "code",
   "execution_count": 21,
   "metadata": {},
   "outputs": [
    {
     "data": {
      "text/plain": [
       "<matplotlib.axes._subplots.AxesSubplot at 0x2ba49e80>"
      ]
     },
     "execution_count": 21,
     "metadata": {},
     "output_type": "execute_result"
    },
    {
     "data": {
      "image/png": "[encoded data removed]",
      "text/plain": [
       "<Figure size 432x288 with 1 Axes>"
      ]
     },
     "metadata": {
      "needs_background": "light"
     },
     "output_type": "display_data"
    }
   ],
   "source": [
    "len_in_words[len_in_words<800].hist()"
   ]
  },
  {
   "cell_type": "code",
   "execution_count": 22,
   "metadata": {},
   "outputs": [],
   "source": [
    "from collections import Counter\n",
    "from tqdm import tqdm_notebook as tqdm\n"
   ]
  },
  {
   "cell_type": "code",
   "execution_count": 23,
   "metadata": {},
   "outputs": [],
   "source": [
    "def count_and_plot(column):\n",
    "    cnt = Counter()\n",
    "    n_types = []\n",
    "    n_tokens = []\n",
    "    tokens = []\n",
    "    for index, row in tqdm(data.iterrows(), total = len(data)):\n",
    "        tokens = row[column].split()\n",
    "        cnt.update(tokens)\n",
    "        n_types.append(len(cnt))\n",
    "        n_tokens.append(np.sum(list(cnt.values())))\n",
    "    for i in cnt.most_common(10):\n",
    "        print(i)\n",
    "    freqs = list(cnt.values())\n",
    "    freqs = sorted(freqs, reverse = True)\n",
    "\n",
    "    fig, (ax1,ax2) = plt.subplots(ncols=2)\n",
    "    ax1.plot(freqs[:300], range(300))\n",
    "    ax2.plot(n_tokens, n_types)\n",
    "    plt.show()"
   ]
  },
  {
   "cell_type": "code",
   "execution_count": 24,
   "metadata": {},
   "outputs": [
    {
     "data": {
      "application/vnd.jupyter.widget-view+json": {
       "model_id": "22f8bd1b21eb46099e1348416119f5bb",
       "version_major": 2,
       "version_minor": 0
      },
      "text/plain": [
       "HBox(children=(IntProgress(value=0, max=74710), HTML(value='')))"
      ]
     },
     "metadata": {},
     "output_type": "display_data"
    },
    {
     "name": "stdout",
     "output_type": "stream",
     "text": [
      "\n",
      "('в', 748641)\n",
      "('и', 594700)\n",
      "('не', 471686)\n",
      "('на', 394656)\n",
      "('что', 365487)\n",
      "('я', 323819)\n",
      "('с', 251000)\n",
      "('по', 205269)\n",
      "('мне', 185064)\n",
      "('банка', 152600)\n"
     ]
    },
    {
     "data": {
      "image/png": "[encoded data removed]",
      "text/plain": [
       "<Figure size 432x288 with 2 Axes>"
      ]
     },
     "metadata": {
      "needs_background": "light"
     },
     "output_type": "display_data"
    },
    {
     "name": "stdout",
     "output_type": "stream",
     "text": [
      "Wall time: 10min 8s\n"
     ]
    }
   ],
   "source": [
    "%%time\n",
    "count_and_plot('words')"
   ]
  },
  {
   "cell_type": "markdown",
   "metadata": {},
   "source": [
    "## Удалим стоп-слова"
   ]
  },
  {
   "cell_type": "code",
   "execution_count": 43,
   "metadata": {},
   "outputs": [],
   "source": [
    "from nltk.corpus import stopwords\n",
    "from pymystem3 import Mystem"
   ]
  },
  {
   "cell_type": "code",
   "execution_count": 44,
   "metadata": {},
   "outputs": [],
   "source": [
    "mystopwords = stopwords.words('russian') + ['это', 'наш' , 'тыс', 'млн', 'млрд', 'также',  'т', 'д']\n",
    "def  remove_stopwords(text, mystopwords = mystopwords):\n",
    "    try:\n",
    "        return \" \".join([token for token in text.split() if not token in mystopwords])\n",
    "    except:\n",
    "        return \"\"\n",
    "\n",
    "    \n",
    "m = Mystem()\n",
    "def lemmatize(text, mystem=m):\n",
    "    try:\n",
    "        return [l for l in m.lemmatize(text) if l.isalpha()]\n",
    "    except:\n",
    "        return []"
   ]
  },
  {
   "cell_type": "code",
   "execution_count": 45,
   "metadata": {},
   "outputs": [
    {
     "name": "stdout",
     "output_type": "stream",
     "text": [
      "Wall time: 22.8 s\n"
     ]
    }
   ],
   "source": [
    "%%time\n",
    "data['wo_stop'] = data.words.apply(lambda x: remove_stopwords(x))"
   ]
  },
  {
   "cell_type": "code",
   "execution_count": 28,
   "metadata": {},
   "outputs": [
    {
     "data": {
      "application/vnd.jupyter.widget-view+json": {
       "model_id": "8c4baba1739242338d66b142c16eadfc",
       "version_major": 2,
       "version_minor": 0
      },
      "text/plain": [
       "HBox(children=(IntProgress(value=0, max=74710), HTML(value='')))"
      ]
     },
     "metadata": {},
     "output_type": "display_data"
    },
    {
     "name": "stdout",
     "output_type": "stream",
     "text": [
      "\n",
      "('банка', 152600)\n",
      "('банк', 114850)\n",
      "('деньги', 72829)\n",
      "('карту', 61763)\n",
      "('карты', 57407)\n",
      "('отделение', 42904)\n",
      "('день', 42289)\n",
      "('заявление', 41102)\n",
      "('банке', 39943)\n",
      "('кредит', 39937)\n"
     ]
    },
    {
     "data": {
      "image/png": "[encoded data removed]",
      "text/plain": [
       "<Figure size 432x288 with 2 Axes>"
      ]
     },
     "metadata": {
      "needs_background": "light"
     },
     "output_type": "display_data"
    }
   ],
   "source": [
    "count_and_plot('wo_stop')"
   ]
  },
  {
   "cell_type": "markdown",
   "metadata": {},
   "source": [
    "### Для лемматизации пришлось разобраться с мультипроцессингом. \n",
    "### На windows это не просто. Функцию лемматизации пришлось положить в отдельный модуль, тогда всё заработало. Туда же включил посчет сущесвительных"
   ]
  },
  {
   "cell_type": "code",
   "execution_count": 94,
   "metadata": {},
   "outputs": [
    {
     "data": {
      "text/plain": [
       "<module 'lemm2' from 'C:\\\\Users\\\\Michael\\\\Documents\\\\netology\\\\text2\\\\lemm2.py'>"
      ]
     },
     "execution_count": 94,
     "metadata": {},
     "output_type": "execute_result"
    }
   ],
   "source": [
    "import multiprocessing as mp\n",
    "import lemm2\n",
    "import importlib\n",
    "importlib.reload(lemm2)"
   ]
  },
  {
   "cell_type": "code",
   "execution_count": 31,
   "metadata": {},
   "outputs": [],
   "source": [
    "from pymorphy2 import MorphAnalyzer\n",
    "pm2 = MorphAnalyzer()"
   ]
  },
  {
   "cell_type": "code",
   "execution_count": 95,
   "metadata": {},
   "outputs": [
    {
     "name": "stdout",
     "output_type": "stream",
     "text": [
      "Wall time: 6min 13s\n"
     ]
    }
   ],
   "source": [
    "%%time\n",
    "num_cpus = mp.cpu_count()\n",
    "NOUN_count = 0\n",
    "with mp.Pool(processes=num_cpus) as pool:\n",
    "    lemmas = pool.map(lemm2.lemmatize2,data.wo_stop)"
   ]
  },
  {
   "cell_type": "code",
   "execution_count": 96,
   "metadata": {},
   "outputs": [
    {
     "name": "stdout",
     "output_type": "stream",
     "text": [
      "К-во существительных: 5920052\n"
     ]
    }
   ],
   "source": [
    "l,c = zip(*lemmas)\n",
    "data['lemma'] = l\n",
    "print ('К-во существительных: ' + str(sum(c)))"
   ]
  },
  {
   "cell_type": "code",
   "execution_count": 35,
   "metadata": {},
   "outputs": [],
   "source": [
    "def count_and_plot_lemma(column):\n",
    "    cnt = Counter()\n",
    "    n_types = []\n",
    "    n_tokens = []\n",
    "    tokens = []\n",
    "    for index, row in tqdm(data.iterrows(), total = len(data)):\n",
    "        tokens = row[column]\n",
    "        cnt.update(tokens)\n",
    "        n_types.append(len(cnt))\n",
    "        n_tokens.append(np.sum(list(cnt.values())))\n",
    "    for i in cnt.most_common(10):\n",
    "        print(i)\n",
    "    freqs = list(cnt.values())\n",
    "    freqs = sorted(freqs, reverse = True)\n",
    "\n",
    "    fig, (ax1,ax2) = plt.subplots(ncols=2)\n",
    "    ax1.plot(freqs[:300], range(300))\n",
    "    ax2.plot(n_tokens, n_types)\n",
    "    plt.show()"
   ]
  },
  {
   "cell_type": "code",
   "execution_count": 36,
   "metadata": {},
   "outputs": [
    {
     "data": {
      "application/vnd.jupyter.widget-view+json": {
       "model_id": "f8020c68976240b7b8d07a354f341236",
       "version_major": 2,
       "version_minor": 0
      },
      "text/plain": [
       "HBox(children=(IntProgress(value=0, max=74710), HTML(value='')))"
      ]
     },
     "metadata": {},
     "output_type": "display_data"
    },
    {
     "name": "stdout",
     "output_type": "stream",
     "text": [
      "\n",
      "('банка', 219969)\n",
      "('карта', 189965)\n",
      "('банк', 143265)\n",
      "('деньга', 99900)\n",
      "('день', 97449)\n",
      "('отделение', 92701)\n",
      "('год', 91899)\n",
      "('мой', 87768)\n",
      "('который', 83218)\n",
      "('счёт', 79936)\n"
     ]
    },
    {
     "data": {
      "image/png": "[encoded data removed]",
      "text/plain": [
       "<Figure size 432x288 with 2 Axes>"
      ]
     },
     "metadata": {
      "needs_background": "light"
     },
     "output_type": "display_data"
    }
   ],
   "source": [
    "count_and_plot_lemma('lemma')"
   ]
  },
  {
   "cell_type": "markdown",
   "metadata": {},
   "source": [
    "## Количество заданных слов"
   ]
  },
  {
   "cell_type": "code",
   "execution_count": 37,
   "metadata": {},
   "outputs": [],
   "source": [
    "word_count = Counter()\n",
    "for index, row in data.iterrows():\n",
    "        word_count.update(row['lemma']) "
   ]
  },
  {
   "cell_type": "code",
   "execution_count": 38,
   "metadata": {},
   "outputs": [
    {
     "name": "stdout",
     "output_type": "stream",
     "text": [
      "Клиент -  76436 Сотрудник -  79824\n"
     ]
    }
   ],
   "source": [
    "print('Клиент - ',word_count['клиент'],'Сотрудник - ',word_count['сотрудник'])"
   ]
  },
  {
   "cell_type": "code",
   "execution_count": 39,
   "metadata": {},
   "outputs": [
    {
     "name": "stdout",
     "output_type": "stream",
     "text": [
      "мошенничество -  1193 доверие -  1103\n"
     ]
    }
   ],
   "source": [
    "print('мошенничество - ',word_count['мошенничество'],'доверие - ',word_count['доверие'])"
   ]
  },
  {
   "cell_type": "markdown",
   "metadata": {},
   "source": [
    "## Делим данные на положительные и отрицательные по рейтингу"
   ]
  },
  {
   "cell_type": "code",
   "execution_count": 97,
   "metadata": {},
   "outputs": [
    {
     "data": {
      "text/html": [
       "<div>\n",
       "<style scoped>\n",
       "    .dataframe tbody tr th:only-of-type {\n",
       "        vertical-align: middle;\n",
       "    }\n",
       "\n",
       "    .dataframe tbody tr th {\n",
       "        vertical-align: top;\n",
       "    }\n",
       "\n",
       "    .dataframe thead th {\n",
       "        text-align: right;\n",
       "    }\n",
       "</style>\n",
       "<table border=\"1\" class=\"dataframe\">\n",
       "  <thead>\n",
       "    <tr style=\"text-align: right;\">\n",
       "      <th></th>\n",
       "      <th>author</th>\n",
       "      <th>bank_license</th>\n",
       "      <th>bank_name</th>\n",
       "      <th>city</th>\n",
       "      <th>datetime</th>\n",
       "      <th>num_comments</th>\n",
       "      <th>rating_grade</th>\n",
       "      <th>rating_not_checked</th>\n",
       "      <th>text</th>\n",
       "      <th>title</th>\n",
       "      <th>words</th>\n",
       "      <th>wo_stop</th>\n",
       "      <th>lemma</th>\n",
       "    </tr>\n",
       "  </thead>\n",
       "  <tbody>\n",
       "    <tr>\n",
       "      <th>98</th>\n",
       "      <td>apka45</td>\n",
       "      <td>лицензия № 1073</td>\n",
       "      <td>Русславбанк</td>\n",
       "      <td>г. Санкт-Петербург</td>\n",
       "      <td>2015-06-03 17:40:38</td>\n",
       "      <td>0</td>\n",
       "      <td>5.0</td>\n",
       "      <td>False</td>\n",
       "      <td>Досрочно закрывали вклады перед отпуском. Жена...</td>\n",
       "      <td>Хорошо, когда проблемы решаются</td>\n",
       "      <td>досрочно закрывали вклады перед отпуском жена ...</td>\n",
       "      <td>досрочно закрывали вклады отпуском жена заказы...</td>\n",
       "      <td>[досрочно, закрывать, вклад, отпуск, жена, зак...</td>\n",
       "    </tr>\n",
       "    <tr>\n",
       "      <th>122</th>\n",
       "      <td>20157673</td>\n",
       "      <td>лицензия № 226</td>\n",
       "      <td>РосинтерБанк</td>\n",
       "      <td>г. Нижний Новгород</td>\n",
       "      <td>2015-06-04 09:38:18</td>\n",
       "      <td>3</td>\n",
       "      <td>5.0</td>\n",
       "      <td>False</td>\n",
       "      <td>Хотел открыть вклад \"Доходный+\" под 19% год , ...</td>\n",
       "      <td>Изменяют проценты по уже открытому договору вк...</td>\n",
       "      <td>хотел открыть вклад доходный под год проценты ...</td>\n",
       "      <td>хотел открыть вклад доходный год проценты начи...</td>\n",
       "      <td>[хотеть, открыть, вклад, доходный, год, процен...</td>\n",
       "    </tr>\n",
       "    <tr>\n",
       "      <th>157</th>\n",
       "      <td>ospar</td>\n",
       "      <td>лицензия № 1623</td>\n",
       "      <td>ВТБ 24</td>\n",
       "      <td>г. Москва</td>\n",
       "      <td>2015-06-04 22:58:38</td>\n",
       "      <td>0</td>\n",
       "      <td>5.0</td>\n",
       "      <td>False</td>\n",
       "      <td>Вчера, 3 июня, просидев в очереди более 3-х ча...</td>\n",
       "      <td>Отделение Марксистская, дом 5: спасибо за помощь!</td>\n",
       "      <td>вчера июня просидев в очереди более х часов на...</td>\n",
       "      <td>вчера июня просидев очереди х часов получение ...</td>\n",
       "      <td>[вчера, июнь, просидеть, очередь, х, часы, пол...</td>\n",
       "    </tr>\n",
       "    <tr>\n",
       "      <th>259</th>\n",
       "      <td>ser-gyr</td>\n",
       "      <td>лицензия № 3206</td>\n",
       "      <td>Соверен Банк</td>\n",
       "      <td>г. Москва</td>\n",
       "      <td>2015-06-02 18:23:41</td>\n",
       "      <td>0</td>\n",
       "      <td>5.0</td>\n",
       "      <td>False</td>\n",
       "      <td>Сегодня открывал вклад в этом банке. Очередь б...</td>\n",
       "      <td>Хорошее обслуживание</td>\n",
       "      <td>сегодня открывал вклад в этом банке очередь бы...</td>\n",
       "      <td>сегодня открывал вклад банке очередь одного кл...</td>\n",
       "      <td>[сегодня, открывать, вклад, банка, очередь, од...</td>\n",
       "    </tr>\n",
       "    <tr>\n",
       "      <th>266</th>\n",
       "      <td>SkaIa</td>\n",
       "      <td>лицензия № 3354</td>\n",
       "      <td>Ренессанс Кредит</td>\n",
       "      <td>г. Москва</td>\n",
       "      <td>2015-06-03 02:03:28</td>\n",
       "      <td>1</td>\n",
       "      <td>5.0</td>\n",
       "      <td>False</td>\n",
       "      <td>Моя история получения кредита в Ренессанс Кред...</td>\n",
       "      <td>Моя история получения кредита в Ренессанс Кред...</td>\n",
       "      <td>моя история получения кредита в ренессанс кред...</td>\n",
       "      <td>история получения кредита ренессанс кредит бан...</td>\n",
       "      <td>[история, получение, кредит, ренессанс, кредит...</td>\n",
       "    </tr>\n",
       "  </tbody>\n",
       "</table>\n",
       "</div>"
      ],
      "text/plain": [
       "       author     bank_license         bank_name                city  \\\n",
       "98     apka45  лицензия № 1073       Русславбанк  г. Санкт-Петербург   \n",
       "122  20157673   лицензия № 226      РосинтерБанк  г. Нижний Новгород   \n",
       "157     ospar  лицензия № 1623            ВТБ 24           г. Москва   \n",
       "259   ser-gyr  лицензия № 3206      Соверен Банк           г. Москва   \n",
       "266     SkaIa  лицензия № 3354  Ренессанс Кредит           г. Москва   \n",
       "\n",
       "                datetime  num_comments  rating_grade  rating_not_checked  \\\n",
       "98   2015-06-03 17:40:38             0           5.0               False   \n",
       "122  2015-06-04 09:38:18             3           5.0               False   \n",
       "157  2015-06-04 22:58:38             0           5.0               False   \n",
       "259  2015-06-02 18:23:41             0           5.0               False   \n",
       "266  2015-06-03 02:03:28             1           5.0               False   \n",
       "\n",
       "                                                  text  \\\n",
       "98   Досрочно закрывали вклады перед отпуском. Жена...   \n",
       "122  Хотел открыть вклад \"Доходный+\" под 19% год , ...   \n",
       "157  Вчера, 3 июня, просидев в очереди более 3-х ча...   \n",
       "259  Сегодня открывал вклад в этом банке. Очередь б...   \n",
       "266  Моя история получения кредита в Ренессанс Кред...   \n",
       "\n",
       "                                                 title  \\\n",
       "98                     Хорошо, когда проблемы решаются   \n",
       "122  Изменяют проценты по уже открытому договору вк...   \n",
       "157  Отделение Марксистская, дом 5: спасибо за помощь!   \n",
       "259                               Хорошее обслуживание   \n",
       "266  Моя история получения кредита в Ренессанс Кред...   \n",
       "\n",
       "                                                 words  \\\n",
       "98   досрочно закрывали вклады перед отпуском жена ...   \n",
       "122  хотел открыть вклад доходный под год проценты ...   \n",
       "157  вчера июня просидев в очереди более х часов на...   \n",
       "259  сегодня открывал вклад в этом банке очередь бы...   \n",
       "266  моя история получения кредита в ренессанс кред...   \n",
       "\n",
       "                                               wo_stop  \\\n",
       "98   досрочно закрывали вклады отпуском жена заказы...   \n",
       "122  хотел открыть вклад доходный год проценты начи...   \n",
       "157  вчера июня просидев очереди х часов получение ...   \n",
       "259  сегодня открывал вклад банке очередь одного кл...   \n",
       "266  история получения кредита ренессанс кредит бан...   \n",
       "\n",
       "                                                 lemma  \n",
       "98   [досрочно, закрывать, вклад, отпуск, жена, зак...  \n",
       "122  [хотеть, открыть, вклад, доходный, год, процен...  \n",
       "157  [вчера, июнь, просидеть, очередь, х, часы, пол...  \n",
       "259  [сегодня, открывать, вклад, банка, очередь, од...  \n",
       "266  [история, получение, кредит, ренессанс, кредит...  "
      ]
     },
     "execution_count": 97,
     "metadata": {},
     "output_type": "execute_result"
    }
   ],
   "source": [
    "data_plus = data[data.rating_grade == 5]\n",
    "data_plus.head()"
   ]
  },
  {
   "cell_type": "code",
   "execution_count": 98,
   "metadata": {},
   "outputs": [
    {
     "data": {
      "text/html": [
       "<div>\n",
       "<style scoped>\n",
       "    .dataframe tbody tr th:only-of-type {\n",
       "        vertical-align: middle;\n",
       "    }\n",
       "\n",
       "    .dataframe tbody tr th {\n",
       "        vertical-align: top;\n",
       "    }\n",
       "\n",
       "    .dataframe thead th {\n",
       "        text-align: right;\n",
       "    }\n",
       "</style>\n",
       "<table border=\"1\" class=\"dataframe\">\n",
       "  <thead>\n",
       "    <tr style=\"text-align: right;\">\n",
       "      <th></th>\n",
       "      <th>author</th>\n",
       "      <th>bank_license</th>\n",
       "      <th>bank_name</th>\n",
       "      <th>city</th>\n",
       "      <th>datetime</th>\n",
       "      <th>num_comments</th>\n",
       "      <th>rating_grade</th>\n",
       "      <th>rating_not_checked</th>\n",
       "      <th>text</th>\n",
       "      <th>title</th>\n",
       "      <th>words</th>\n",
       "      <th>wo_stop</th>\n",
       "      <th>lemma</th>\n",
       "    </tr>\n",
       "  </thead>\n",
       "  <tbody>\n",
       "    <tr>\n",
       "      <th>19</th>\n",
       "      <td>agelun</td>\n",
       "      <td>лицензия № 1481</td>\n",
       "      <td>Сбербанк России</td>\n",
       "      <td>г. Москва</td>\n",
       "      <td>2015-06-05 15:00:54</td>\n",
       "      <td>2</td>\n",
       "      <td>1.0</td>\n",
       "      <td>False</td>\n",
       "      <td>Открыт вклад и счет в USD. Плюс к этому есть з...</td>\n",
       "      <td>Некомпетентность сотрудников банка</td>\n",
       "      <td>открыт вклад и счет в плюс к этому есть зарпла...</td>\n",
       "      <td>открыт вклад счет плюс этому зарплатная карта ...</td>\n",
       "      <td>[открытый, вклад, счёт, плюс, это, зарплатный,...</td>\n",
       "    </tr>\n",
       "    <tr>\n",
       "      <th>33</th>\n",
       "      <td>Joker888</td>\n",
       "      <td>лицензия № 1481</td>\n",
       "      <td>Сбербанк России</td>\n",
       "      <td>г. Ростов-на-Дону</td>\n",
       "      <td>2015-06-05 21:35:40</td>\n",
       "      <td>1</td>\n",
       "      <td>1.0</td>\n",
       "      <td>False</td>\n",
       "      <td>Доброго времени! Вчера мне поступило смс-уведо...</td>\n",
       "      <td>Навязывание страховки</td>\n",
       "      <td>доброго времени вчера мне поступило смс уведом...</td>\n",
       "      <td>доброго времени вчера поступило смс уведомлени...</td>\n",
       "      <td>[добрый, время, вчера, поступить, смс, уведомл...</td>\n",
       "    </tr>\n",
       "    <tr>\n",
       "      <th>76</th>\n",
       "      <td>qwarta45</td>\n",
       "      <td>лицензия № 3006</td>\n",
       "      <td>АктивКапитал Банк</td>\n",
       "      <td>г. Санкт-Петербург</td>\n",
       "      <td>2015-06-06 23:42:39</td>\n",
       "      <td>0</td>\n",
       "      <td>1.0</td>\n",
       "      <td>False</td>\n",
       "      <td>05.06.2015г. около 15 часов, пришел в указанны...</td>\n",
       "      <td>Нарушение договора банковского вклада</td>\n",
       "      <td>г около часов пришел в указанный офис с намере...</td>\n",
       "      <td>г около часов пришел указанный офис намерением...</td>\n",
       "      <td>[год, около, часы, прийти, указанный, офис, на...</td>\n",
       "    </tr>\n",
       "    <tr>\n",
       "      <th>85</th>\n",
       "      <td>721</td>\n",
       "      <td>лицензия № 1481</td>\n",
       "      <td>Сбербанк России</td>\n",
       "      <td>г. Москва</td>\n",
       "      <td>2015-06-04 13:27:04</td>\n",
       "      <td>4</td>\n",
       "      <td>1.0</td>\n",
       "      <td>False</td>\n",
       "      <td>Для оплаты коммунальных платежей пользуюсь пла...</td>\n",
       "      <td>Невозможно оплатить отчисления на капремонт \"Т...</td>\n",
       "      <td>для оплаты коммунальных платежей пользуюсь пла...</td>\n",
       "      <td>оплаты коммунальных платежей пользуюсь пластик...</td>\n",
       "      <td>[оплата, коммунальный, платёж, пользоваться, п...</td>\n",
       "    </tr>\n",
       "    <tr>\n",
       "      <th>94</th>\n",
       "      <td>usmanovaket</td>\n",
       "      <td>лицензия № 1481</td>\n",
       "      <td>Сбербанк России</td>\n",
       "      <td>г. Чапаевск</td>\n",
       "      <td>2015-06-03 16:00:12</td>\n",
       "      <td>16</td>\n",
       "      <td>1.0</td>\n",
       "      <td>False</td>\n",
       "      <td>В апреле этого года пришла в отделение сбербан...</td>\n",
       "      <td>Некомпетентность сотрудника Сбербанка при пров...</td>\n",
       "      <td>в апреле этого года пришла в отделение сбербан...</td>\n",
       "      <td>апреле года пришла отделение сбербанка г чапае...</td>\n",
       "      <td>[апрель, год, пришлый, отделение, сбербанк, го...</td>\n",
       "    </tr>\n",
       "  </tbody>\n",
       "</table>\n",
       "</div>"
      ],
      "text/plain": [
       "         author     bank_license          bank_name                city  \\\n",
       "19       agelun  лицензия № 1481    Сбербанк России           г. Москва   \n",
       "33     Joker888  лицензия № 1481    Сбербанк России   г. Ростов-на-Дону   \n",
       "76     qwarta45  лицензия № 3006  АктивКапитал Банк  г. Санкт-Петербург   \n",
       "85          721  лицензия № 1481    Сбербанк России           г. Москва   \n",
       "94  usmanovaket  лицензия № 1481    Сбербанк России         г. Чапаевск   \n",
       "\n",
       "               datetime  num_comments  rating_grade  rating_not_checked  \\\n",
       "19  2015-06-05 15:00:54             2           1.0               False   \n",
       "33  2015-06-05 21:35:40             1           1.0               False   \n",
       "76  2015-06-06 23:42:39             0           1.0               False   \n",
       "85  2015-06-04 13:27:04             4           1.0               False   \n",
       "94  2015-06-03 16:00:12            16           1.0               False   \n",
       "\n",
       "                                                 text  \\\n",
       "19  Открыт вклад и счет в USD. Плюс к этому есть з...   \n",
       "33  Доброго времени! Вчера мне поступило смс-уведо...   \n",
       "76  05.06.2015г. около 15 часов, пришел в указанны...   \n",
       "85  Для оплаты коммунальных платежей пользуюсь пла...   \n",
       "94  В апреле этого года пришла в отделение сбербан...   \n",
       "\n",
       "                                                title  \\\n",
       "19                 Некомпетентность сотрудников банка   \n",
       "33                              Навязывание страховки   \n",
       "76              Нарушение договора банковского вклада   \n",
       "85  Невозможно оплатить отчисления на капремонт \"Т...   \n",
       "94  Некомпетентность сотрудника Сбербанка при пров...   \n",
       "\n",
       "                                                words  \\\n",
       "19  открыт вклад и счет в плюс к этому есть зарпла...   \n",
       "33  доброго времени вчера мне поступило смс уведом...   \n",
       "76  г около часов пришел в указанный офис с намере...   \n",
       "85  для оплаты коммунальных платежей пользуюсь пла...   \n",
       "94  в апреле этого года пришла в отделение сбербан...   \n",
       "\n",
       "                                              wo_stop  \\\n",
       "19  открыт вклад счет плюс этому зарплатная карта ...   \n",
       "33  доброго времени вчера поступило смс уведомлени...   \n",
       "76  г около часов пришел указанный офис намерением...   \n",
       "85  оплаты коммунальных платежей пользуюсь пластик...   \n",
       "94  апреле года пришла отделение сбербанка г чапае...   \n",
       "\n",
       "                                                lemma  \n",
       "19  [открытый, вклад, счёт, плюс, это, зарплатный,...  \n",
       "33  [добрый, время, вчера, поступить, смс, уведомл...  \n",
       "76  [год, около, часы, прийти, указанный, офис, на...  \n",
       "85  [оплата, коммунальный, платёж, пользоваться, п...  \n",
       "94  [апрель, год, пришлый, отделение, сбербанк, го...  "
      ]
     },
     "execution_count": 98,
     "metadata": {},
     "output_type": "execute_result"
    }
   ],
   "source": [
    "data_minus = data[data.rating_grade == 1]\n",
    "data_minus.head()"
   ]
  },
  {
   "cell_type": "code",
   "execution_count": 48,
   "metadata": {},
   "outputs": [],
   "source": [
    "from sklearn.feature_extraction.text import TfidfVectorizer"
   ]
  },
  {
   "cell_type": "markdown",
   "metadata": {},
   "source": [
    "## Выделяем ключевые слова для обоих наборов"
   ]
  },
  {
   "cell_type": "code",
   "execution_count": 67,
   "metadata": {},
   "outputs": [
    {
     "name": "stdout",
     "output_type": "stream",
     "text": [
      "Wall time: 8.26 s\n"
     ]
    }
   ],
   "source": [
    "%%time\n",
    "tfidf = TfidfVectorizer(analyzer='word', ngram_range=(1,2), min_df = 0)\n",
    "tfidf_matrix =  tfidf.fit_transform(data_plus.wo_stop)\n",
    "feature_names = tfidf.get_feature_names() "
   ]
  },
  {
   "cell_type": "code",
   "execution_count": 68,
   "metadata": {},
   "outputs": [],
   "source": [
    "def sort_coo(coo_matrix):\n",
    "    tuples = zip(coo_matrix.col, coo_matrix.data)\n",
    "    return sorted(tuples, key=lambda x: (x[1], x[0]), reverse=True)"
   ]
  },
  {
   "cell_type": "code",
   "execution_count": 69,
   "metadata": {},
   "outputs": [],
   "source": [
    "sorted_items=sort_coo(tfidf_matrix.tocoo())"
   ]
  },
  {
   "cell_type": "code",
   "execution_count": 72,
   "metadata": {},
   "outputs": [
    {
     "name": "stdout",
     "output_type": "stream",
     "text": [
      "пд 0.549289206323554\n",
      "маштакова анна 0.474124233964895\n",
      "маштакова 0.474124233964895\n",
      "солнечногорск 0.44758364556734703\n",
      "марюс 0.421827136795517\n",
      "миль 0.4217735613645644\n",
      "гарантий 0.414041902849711\n",
      "вэб 0.41386450403610664\n",
      "впб 0.4090593071872085\n",
      "джиргал 0.4012763528301146\n",
      "першинг 0.396036486636669\n",
      "регулярная 0.38966035319243014\n",
      "щукинский 0.3895647644973364\n",
      "ххххх 0.38780531965749593\n",
      "ке банка 0.3859395766257242\n",
      "екатерина андреевна 0.3858330717663183\n",
      "райф банк 0.3858111145693794\n",
      "тумбочки 0.3804058336599061\n",
      "сбб 0.37963270042896585\n",
      "овч 0.37835121519504056\n",
      "инна 0.37360049124986283\n",
      "кки 0.3721768601952811\n",
      "райф 0.3688056553738357\n",
      "бла 0.3685633345501303\n",
      "илаха 0.3668482591126928\n",
      "семинар 0.36593593389835\n",
      "гульназ 0.3654919959601394\n",
      "отп 0.36157187558738596\n",
      "кеб 0.35747994573381825\n",
      "симоновой 0.353047145198586\n",
      "гпб 0.3461668411798418\n",
      "билайн 0.34585438141651514\n",
      "арижк 0.34571859921156073\n",
      "настроили 0.345330554004782\n",
      "жулебино 0.34424198168732445\n",
      "ля 0.34406562393410756\n",
      "аккредитив 0.34277217374067676\n",
      "азс 0.34232232855510003\n",
      "всп 0.34227795575668135\n",
      "убрир 0.3422499463762723\n",
      "бм 0.33719022754203803\n",
      "грамотно составить 0.3354484189174688\n",
      "андреевна 0.33531033311404623\n",
      "псб 0.3337439095165924\n",
      "тр 0.33260466509376224\n",
      "полина 0.3316126078970632\n",
      "город 0.3303179821628842\n",
      "ланта 0.32949460436469735\n",
      "таганский 0.32879426940562\n",
      "перевыпустится 0.32794817288544065\n"
     ]
    }
   ],
   "source": [
    "for index, score in sorted_items[:50]:\n",
    "    print(feature_names[index],score)"
   ]
  },
  {
   "cell_type": "code",
   "execution_count": 73,
   "metadata": {},
   "outputs": [
    {
     "name": "stdout",
     "output_type": "stream",
     "text": [
      "почему казалось 0.7753530368813523\n",
      "юб 0.7015353193754122\n",
      "ргс 0.6306726251424118\n",
      "гость 0.6129019726308584\n",
      "мб 0.6099136008021058\n",
      "дир 0.6071980176458456\n",
      "тыханская юлия 0.6027425257247744\n",
      "тыханская 0.6027425257247744\n",
      "барклайс 0.5947596247211124\n",
      "равно равно 0.5891976827261219\n",
      "птс 0.573360276816945\n",
      "бпф 0.5585217821823558\n",
      "юкб 0.550544412755565\n",
      "клиент 0.5446584448718924\n",
      "оао отп 0.5446152858002106\n",
      "старик 0.5434549594352502\n",
      "сек 0.536322457696814\n",
      "кбк 0.5358575396765666\n",
      "ап 0.5314568473840887\n",
      "псб 0.5307019149454084\n",
      "бк 0.5304156361906969\n",
      "оао отп 0.5300208759691234\n",
      "чдп 0.5270316364986533\n",
      "гиб 0.5199565859630937\n",
      "машинцева 0.5191970206189401\n",
      "яд 0.5156106992272748\n",
      "банка рублев 0.5143536442276564\n",
      "позвонил готова 0.5067980777525412\n",
      "сергей александрович 0.5064991792084637\n",
      "мб 0.5050499090133643\n",
      "нпф 0.5003571904081124\n",
      "плата овердрафт 0.4962421578586312\n",
      "хх 0.4955752159164768\n",
      "визит денег 0.4909164795935181\n",
      "строительство 0.4906642989238617\n",
      "рублей платежное 0.48802621630380016\n",
      "хх 0.48784565589385004\n",
      "главный жалобам 0.4875971087549486\n",
      "рур 0.4871216034124522\n",
      "рублев 0.4803810267856395\n",
      "наличные безналичные 0.4787400412656814\n",
      "василий 0.47703821900788995\n",
      "сб 0.4755490472336428\n",
      "бузенко 0.47301936610193523\n",
      "рб 0.4721238720466232\n",
      "твклада 0.47199799377197216\n",
      "рэкон 0.47179458409349273\n",
      "бпф 0.46992505721646316\n",
      "персональных данных 0.4675556972682401\n",
      "ла 0.46736023771486906\n"
     ]
    }
   ],
   "source": [
    "tfidf_matrix =  tfidf.fit_transform(data_minus.wo_stop)\n",
    "feature_names = tfidf.get_feature_names() \n",
    "sorted_items=sort_coo(tfidf_matrix.tocoo())\n",
    "for index, score in sorted_items[:50]:\n",
    "    print(feature_names[index],score)"
   ]
  },
  {
   "cell_type": "markdown",
   "metadata": {},
   "source": [
    "# Часть 2"
   ]
  },
  {
   "cell_type": "code",
   "execution_count": 208,
   "metadata": {},
   "outputs": [],
   "source": [
    "from gensim import corpora, models\n",
    "import gensim"
   ]
  },
  {
   "cell_type": "code",
   "execution_count": 211,
   "metadata": {},
   "outputs": [],
   "source": [
    "dictionary = corpora.Dictionary(data.lemma)\n",
    "corpus = [dictionary.doc2bow(text) for text in data.lemma]"
   ]
  },
  {
   "cell_type": "code",
   "execution_count": 214,
   "metadata": {},
   "outputs": [
    {
     "name": "stdout",
     "output_type": "stream",
     "text": [
      "Wall time: 14min 40s\n"
     ]
    }
   ],
   "source": [
    "%%time \n",
    "ldamodel = gensim.models.ldamodel.LdaModel(corpus, num_topics=5, id2word = dictionary, passes=20)"
   ]
  },
  {
   "cell_type": "code",
   "execution_count": 255,
   "metadata": {},
   "outputs": [
    {
     "data": {
      "text/plain": [
       "480"
      ]
     },
     "execution_count": 255,
     "metadata": {},
     "output_type": "execute_result"
    }
   ],
   "source": [
    "dictionary.token2id['сбербанк']"
   ]
  },
  {
   "cell_type": "code",
   "execution_count": 257,
   "metadata": {},
   "outputs": [
    {
     "data": {
      "text/plain": [
       "13574"
      ]
     },
     "execution_count": 257,
     "metadata": {},
     "output_type": "execute_result"
    }
   ],
   "source": [
    "dictionary.dfs[480]"
   ]
  },
  {
   "cell_type": "code",
   "execution_count": 242,
   "metadata": {
    "scrolled": true
   },
   "outputs": [
    {
     "data": {
      "text/plain": [
       "[(0,\n",
       "  '0.060*\"карта\" + 0.018*\"банка\" + 0.018*\"банк\" + 0.012*\"счёт\" + 0.009*\"интернет\"'),\n",
       " (1,\n",
       "  '0.024*\"деньга\" + 0.019*\"день\" + 0.017*\"заявление\" + 0.017*\"отделение\" + 0.016*\"карта\"'),\n",
       " (2,\n",
       "  '0.010*\"отделение\" + 0.009*\"деньга\" + 0.009*\"работать\" + 0.009*\"сказать\" + 0.008*\"очередь\"'),\n",
       " (3,\n",
       "  '0.033*\"кредит\" + 0.024*\"банка\" + 0.017*\"банк\" + 0.015*\"год\" + 0.014*\"сумма\"'),\n",
       " (4,\n",
       "  '0.030*\"банка\" + 0.020*\"вклад\" + 0.015*\"банк\" + 0.012*\"клиент\" + 0.010*\"документ\"')]"
      ]
     },
     "execution_count": 242,
     "metadata": {},
     "output_type": "execute_result"
    }
   ],
   "source": [
    "ldamodel.print_topics(num_topics=5, num_words=5)"
   ]
  },
  {
   "cell_type": "code",
   "execution_count": 216,
   "metadata": {
    "scrolled": true
   },
   "outputs": [
    {
     "name": "stderr",
     "output_type": "stream",
     "text": [
      "C:\\ProgramData\\Anaconda3\\lib\\site-packages\\past\\types\\oldstr.py:33: DeprecationWarning: invalid escape sequence \\d\n",
      "  \"\"\"\n",
      "C:\\ProgramData\\Anaconda3\\lib\\site-packages\\pyLDAvis\\_prepare.py:257: FutureWarning: Sorting because non-concatenation axis is not aligned. A future version\n",
      "of pandas will change to not sort by default.\n",
      "\n",
      "To accept the future behavior, pass 'sort=False'.\n",
      "\n",
      "To retain the current behavior and silence the warning, pass 'sort=True'.\n",
      "\n",
      "  return pd.concat([default_term_info] + list(topic_dfs))\n"
     ]
    },
    {
     "data": {
      "text/html": [
       "\n",
       "<link rel=\"stylesheet\" type=\"text/css\" href=\"https://cdn.rawgit.com/bmabey/pyLDAvis/files/ldavis.v1.0.0.css\">\n",
       "\n",
       "\n",
       "<div id=\"ldavis_el7092114360256804651055238\"></div>\n",
       "<script type=\"text/javascript\">\n",
       "\n",
       "var ldavis_el7092114360256804651055238_data = {\"mdsDat\": {\"x\": [0.158451470905935, -0.0844008192916399, -0.01343178342896752, -0.13257797223186682, 0.07195910404653907], \"y\": [-0.09724468363269566, -0.0993517912626742, 0.019830786305346314, 0.026549451426182216, 0.1502162371638413], \"topics\": [1, 2, 3, 4, 5], \"cluster\": [1, 1, 1, 1, 1], \"Freq\": [22.972126007080078, 21.059877395629883, 19.43829917907715, 18.66245460510254, 17.86723518371582]}, \"tinfo\": {\"Category\": [\"Default\", \"Default\", \"Default\", \"Default\", \"Default\", \"Default\", \"Default\", \"Default\", \"Default\", \"Default\", \"Default\", \"Default\", \"Default\", \"Default\", \"Default\", \"Default\", \"Default\", \"Default\", \"Default\", \"Default\", \"Default\", \"Default\", \"Default\", \"Default\", \"Default\", \"Default\", \"Default\", \"Default\", \"Default\", \"Default\", \"Topic1\", \"Topic1\", \"Topic1\", \"Topic1\", \"Topic1\", \"Topic1\", \"Topic1\", \"Topic1\", \"Topic1\", \"Topic1\", \"Topic1\", \"Topic1\", \"Topic1\", \"Topic1\", \"Topic1\", \"Topic1\", \"Topic1\", \"Topic1\", \"Topic1\", \"Topic1\", \"Topic1\", \"Topic1\", \"Topic1\", \"Topic1\", \"Topic1\", \"Topic1\", \"Topic1\", \"Topic1\", \"Topic1\", \"Topic1\", \"Topic1\", \"Topic1\", \"Topic1\", \"Topic1\", \"Topic1\", \"Topic1\", \"Topic1\", \"Topic1\", \"Topic1\", \"Topic1\", \"Topic1\", \"Topic1\", \"Topic1\", \"Topic1\", \"Topic1\", \"Topic1\", \"Topic1\", \"Topic1\", \"Topic1\", \"Topic1\", \"Topic1\", \"Topic1\", \"Topic1\", \"Topic1\", \"Topic1\", \"Topic1\", \"Topic1\", \"Topic1\", \"Topic1\", \"Topic1\", \"Topic1\", \"Topic1\", \"Topic1\", \"Topic1\", \"Topic1\", \"Topic1\", \"Topic1\", \"Topic1\", \"Topic1\", \"Topic1\", \"Topic1\", \"Topic1\", \"Topic1\", \"Topic1\", \"Topic1\", \"Topic1\", \"Topic1\", \"Topic1\", \"Topic1\", \"Topic1\", \"Topic1\", \"Topic1\", \"Topic1\", \"Topic1\", \"Topic1\", \"Topic1\", \"Topic1\", \"Topic2\", \"Topic2\", \"Topic2\", \"Topic2\", \"Topic2\", \"Topic2\", \"Topic2\", \"Topic2\", \"Topic2\", \"Topic2\", \"Topic2\", \"Topic2\", \"Topic2\", \"Topic2\", \"Topic2\", \"Topic2\", \"Topic2\", \"Topic2\", \"Topic2\", \"Topic2\", \"Topic2\", \"Topic2\", \"Topic2\", \"Topic2\", \"Topic2\", \"Topic2\", \"Topic2\", \"Topic2\", \"Topic2\", \"Topic2\", \"Topic2\", \"Topic2\", \"Topic2\", \"Topic2\", \"Topic2\", \"Topic2\", \"Topic2\", \"Topic2\", \"Topic2\", \"Topic2\", \"Topic2\", \"Topic2\", \"Topic2\", \"Topic2\", \"Topic2\", \"Topic2\", \"Topic2\", \"Topic2\", \"Topic2\", \"Topic2\", \"Topic2\", \"Topic2\", \"Topic2\", \"Topic2\", \"Topic2\", \"Topic2\", \"Topic2\", \"Topic2\", \"Topic2\", \"Topic2\", \"Topic2\", \"Topic2\", \"Topic2\", \"Topic2\", \"Topic2\", \"Topic2\", \"Topic2\", \"Topic2\", \"Topic2\", \"Topic2\", \"Topic2\", \"Topic2\", \"Topic2\", \"Topic2\", \"Topic2\", \"Topic2\", \"Topic2\", \"Topic2\", \"Topic2\", \"Topic2\", \"Topic2\", \"Topic2\", \"Topic2\", \"Topic2\", \"Topic2\", \"Topic2\", \"Topic3\", \"Topic3\", \"Topic3\", \"Topic3\", \"Topic3\", \"Topic3\", \"Topic3\", \"Topic3\", \"Topic3\", \"Topic3\", \"Topic3\", \"Topic3\", \"Topic3\", \"Topic3\", \"Topic3\", \"Topic3\", \"Topic3\", \"Topic3\", \"Topic3\", \"Topic3\", \"Topic3\", \"Topic3\", \"Topic3\", \"Topic3\", \"Topic3\", \"Topic3\", \"Topic3\", \"Topic3\", \"Topic3\", \"Topic3\", \"Topic3\", \"Topic3\", \"Topic3\", \"Topic3\", \"Topic3\", \"Topic3\", \"Topic3\", \"Topic3\", \"Topic3\", \"Topic3\", \"Topic3\", \"Topic3\", \"Topic3\", \"Topic3\", \"Topic3\", \"Topic3\", \"Topic3\", \"Topic3\", \"Topic3\", \"Topic3\", \"Topic3\", \"Topic3\", \"Topic3\", \"Topic3\", \"Topic3\", \"Topic3\", \"Topic3\", \"Topic3\", \"Topic3\", \"Topic3\", \"Topic3\", \"Topic3\", \"Topic3\", \"Topic3\", \"Topic3\", \"Topic3\", \"Topic3\", \"Topic3\", \"Topic3\", \"Topic3\", \"Topic3\", \"Topic3\", \"Topic3\", \"Topic3\", \"Topic3\", \"Topic3\", \"Topic3\", \"Topic3\", \"Topic3\", \"Topic3\", \"Topic3\", \"Topic4\", \"Topic4\", \"Topic4\", \"Topic4\", \"Topic4\", \"Topic4\", \"Topic4\", \"Topic4\", \"Topic4\", \"Topic4\", \"Topic4\", \"Topic4\", \"Topic4\", \"Topic4\", \"Topic4\", \"Topic4\", \"Topic4\", \"Topic4\", \"Topic4\", \"Topic4\", \"Topic4\", \"Topic4\", \"Topic4\", \"Topic4\", \"Topic4\", \"Topic4\", \"Topic4\", \"Topic4\", \"Topic4\", \"Topic4\", \"Topic4\", \"Topic4\", \"Topic4\", \"Topic4\", \"Topic4\", \"Topic4\", \"Topic4\", \"Topic4\", \"Topic4\", \"Topic4\", \"Topic4\", \"Topic4\", \"Topic4\", \"Topic4\", \"Topic4\", \"Topic4\", \"Topic4\", \"Topic4\", \"Topic4\", \"Topic4\", \"Topic4\", \"Topic4\", \"Topic4\", \"Topic4\", \"Topic4\", \"Topic4\", \"Topic4\", \"Topic4\", \"Topic4\", \"Topic4\", \"Topic4\", \"Topic4\", \"Topic4\", \"Topic4\", \"Topic4\", \"Topic4\", \"Topic4\", \"Topic4\", \"Topic4\", \"Topic4\", \"Topic4\", \"Topic4\", \"Topic4\", \"Topic4\", \"Topic4\", \"Topic5\", \"Topic5\", \"Topic5\", \"Topic5\", \"Topic5\", \"Topic5\", \"Topic5\", \"Topic5\", \"Topic5\", \"Topic5\", \"Topic5\", \"Topic5\", \"Topic5\", \"Topic5\", \"Topic5\", \"Topic5\", \"Topic5\", \"Topic5\", \"Topic5\", \"Topic5\", \"Topic5\", \"Topic5\", \"Topic5\", \"Topic5\", \"Topic5\", \"Topic5\", \"Topic5\", \"Topic5\", \"Topic5\", \"Topic5\", \"Topic5\", \"Topic5\", \"Topic5\", \"Topic5\", \"Topic5\", \"Topic5\", \"Topic5\", \"Topic5\", \"Topic5\", \"Topic5\", \"Topic5\", \"Topic5\", \"Topic5\", \"Topic5\", \"Topic5\", \"Topic5\", \"Topic5\", \"Topic5\", \"Topic5\", \"Topic5\", \"Topic5\", \"Topic5\", \"Topic5\", \"Topic5\", \"Topic5\", \"Topic5\", \"Topic5\", \"Topic5\", \"Topic5\", \"Topic5\", \"Topic5\", \"Topic5\", \"Topic5\", \"Topic5\", \"Topic5\", \"Topic5\", \"Topic5\", \"Topic5\", \"Topic5\", \"Topic5\", \"Topic5\", \"Topic5\", \"Topic5\", \"Topic5\", \"Topic5\", \"Topic5\", \"Topic5\", \"Topic5\", \"Topic5\", \"Topic5\", \"Topic5\", \"Topic5\", \"Topic5\", \"Topic5\", \"Topic5\", \"Topic5\"], \"Freq\": [183255.0, 85852.0, 42661.0, 62620.0, 105903.0, 55363.0, 33248.0, 36465.0, 44159.0, 91078.0, 42908.0, 23994.0, 218076.0, 27527.0, 16915.0, 31685.0, 50291.0, 92172.0, 87108.0, 58077.0, 143656.0, 14359.0, 26975.0, 25500.0, 99323.0, 26757.0, 28998.0, 20753.0, 11260.0, 11302.0, 5702.521484375, 3049.07958984375, 2384.448486328125, 2319.8525390625, 2058.027587890625, 2016.465087890625, 1522.677490234375, 1135.4117431640625, 895.4401245117188, 821.6767578125, 815.8651733398438, 790.7553100585938, 708.426025390625, 683.1293334960938, 665.6551513671875, 653.1414794921875, 645.7627563476562, 631.40576171875, 614.1397094726562, 557.486572265625, 496.2363586425781, 486.1871032714844, 468.6139831542969, 460.70220947265625, 457.73272705078125, 416.70111083984375, 421.70904541015625, 392.3773193359375, 392.10357666015625, 387.4399108886719, 3836.583984375, 3774.33642578125, 2891.785400390625, 1671.6878662109375, 7950.1669921875, 1467.9908447265625, 1062.9713134765625, 641.8748168945312, 3000.82861328125, 2351.83056640625, 23596.578125, 3649.927490234375, 22684.93359375, 2478.95947265625, 20998.751953125, 14328.5888671875, 2230.597900390625, 22417.70703125, 1682.4537353515625, 5134.81201171875, 2488.359375, 5325.26416015625, 10490.203125, 5548.4677734375, 14954.740234375, 24658.71484375, 5687.20947265625, 9667.4404296875, 6238.86328125, 5669.4169921875, 8075.69775390625, 4782.70263671875, 12835.716796875, 12996.45703125, 12535.4052734375, 24423.779296875, 19057.3046875, 28942.322265625, 18244.025390625, 19949.001953125, 15265.509765625, 22954.15625, 25202.9453125, 17225.634765625, 8814.3193359375, 15314.6787109375, 18654.1953125, 13058.087890625, 10884.6142578125, 8747.814453125, 13511.2900390625, 10462.0244140625, 19630.244140625, 10854.66015625, 12199.7158203125, 12407.564453125, 11188.4345703125, 1264.5701904296875, 600.9334106445312, 561.5531616210938, 472.1744384765625, 431.7451477050781, 396.3823547363281, 344.366943359375, 336.52630615234375, 328.49444580078125, 279.2252502441406, 246.5483856201172, 228.36097717285156, 184.4881591796875, 177.59567260742188, 175.61512756347656, 155.6367950439453, 142.7693634033203, 140.89706420898438, 124.66150665283203, 119.8246841430664, 124.00939178466797, 158.43284606933594, 121.95832824707031, 113.61504364013672, 120.15315246582031, 112.94914245605469, 109.91503143310547, 115.39924621582031, 108.31825256347656, 98.64683532714844, 501.1427917480469, 2408.7490234375, 4997.59033203125, 29822.8203125, 1677.6077880859375, 7450.54638671875, 2652.10205078125, 9606.3427734375, 949.239013671875, 2114.660888671875, 40095.875, 44360.9453125, 4485.5234375, 8689.7177734375, 9093.0537109375, 62718.015625, 1972.3917236328125, 3986.02099609375, 8461.908203125, 16588.763671875, 1612.803466796875, 16646.322265625, 5836.81494140625, 11138.76953125, 11808.8486328125, 48799.1875, 4394.37060546875, 43735.43359375, 20760.71875, 14319.337890625, 9397.8349609375, 13109.2265625, 5206.71044921875, 12473.658203125, 15077.3076171875, 19885.400390625, 35562.125, 9346.173828125, 34952.0546875, 20137.05859375, 14333.7666015625, 13787.3251953125, 23563.6796875, 27184.46875, 40851.22265625, 34517.4296875, 11993.1533203125, 16365.2724609375, 19033.498046875, 14828.6328125, 11961.728515625, 15378.630859375, 12707.615234375, 15454.072265625, 12817.9658203125, 13017.25390625, 11301.5390625, 4173.20751953125, 3474.201904296875, 2816.145263671875, 2377.2861328125, 1802.70751953125, 1720.125732421875, 1642.94140625, 1623.296142578125, 1538.4647216796875, 1458.281005859375, 1280.9447021484375, 1212.044677734375, 1199.5770263671875, 1005.26318359375, 969.6707763671875, 943.776123046875, 917.2092895507812, 882.85888671875, 882.1776123046875, 784.3596801757812, 742.4263305664062, 656.5424194335938, 647.760009765625, 634.7118530273438, 617.4240112304688, 568.1060791015625, 559.2665405273438, 500.9302978515625, 440.483154296875, 4317.15673828125, 3920.131591796875, 5932.61181640625, 4467.84130859375, 4538.6748046875, 21476.693359375, 6998.41552734375, 2356.64501953125, 142403.375, 2393.7412109375, 5151.2255859375, 2754.140380859375, 4283.154296875, 5737.66943359375, 7105.0224609375, 2125.754150390625, 13148.2978515625, 14858.2822265625, 16997.00390625, 12854.5302734375, 3007.577880859375, 9408.400390625, 5490.126953125, 5186.45947265625, 2862.395263671875, 42520.97265625, 29420.46484375, 8012.11865234375, 12138.0947265625, 5040.8173828125, 11888.2138671875, 43608.0859375, 14450.21875, 12739.6591796875, 14287.404296875, 8857.6474609375, 9167.939453125, 6538.744140625, 14715.978515625, 11273.7685546875, 11920.189453125, 10045.5380859375, 9951.5166015625, 7471.94091796875, 11661.2919921875, 9601.1015625, 8571.1396484375, 10383.791015625, 9912.373046875, 8832.7880859375, 9426.9990234375, 16914.697265625, 14358.841796875, 11259.2919921875, 8441.611328125, 5939.7412109375, 3557.17138671875, 2228.67919921875, 2069.619873046875, 1803.4442138671875, 1665.0675048828125, 1639.9874267578125, 1494.709228515625, 1321.0302734375, 1255.9791259765625, 1155.875244140625, 1090.6483154296875, 1018.154541015625, 1023.1697998046875, 951.4547729492188, 815.3519897460938, 804.7698974609375, 799.2191162109375, 731.8006591796875, 710.5963745117188, 687.625, 678.600341796875, 648.5150756835938, 627.160400390625, 618.5101318359375, 624.7772216796875, 8446.61328125, 8881.26953125, 6711.69189453125, 75610.0625, 4469.89404296875, 3799.306396484375, 1673.1871337890625, 3539.763671875, 3316.5556640625, 1401.0074462890625, 4049.976806640625, 5110.658203125, 2070.4677734375, 25949.41015625, 28814.611328125, 26085.923828125, 4088.3955078125, 32291.95703125, 8113.693359375, 7654.19140625, 23596.025390625, 8367.0859375, 33187.421875, 7622.58251953125, 16129.8896484375, 55674.8046875, 39483.6328125, 11734.8505859375, 7631.83740234375, 11383.587890625, 21508.404296875, 9832.041015625, 18817.033203125, 14408.40625, 18391.001953125, 11426.1044921875, 15196.529296875, 17765.3671875, 10545.2236328125, 10392.525390625, 12479.30859375, 11342.8037109375, 9981.7568359375, 8840.50390625, 8845.712890625, 42660.5703125, 4507.244140625, 3486.512939453125, 3304.796875, 2362.91943359375, 1861.9625244140625, 1231.126708984375, 1162.3538818359375, 809.1373291015625, 761.5437622070312, 637.8057250976562, 633.6365356445312, 564.962890625, 559.409912109375, 535.3404541015625, 532.24169921875, 500.311279296875, 457.6141662597656, 459.3578796386719, 437.4654846191406, 431.8172302246094, 416.74462890625, 396.1697082519531, 1282.8599853515625, 368.0586853027344, 353.13165283203125, 331.14556884765625, 322.6589660644531, 296.8609619140625, 279.380859375, 288.244140625, 1633.072509765625, 7676.376953125, 944.4675903320312, 807.7694091796875, 7856.02880859375, 4804.55517578125, 1373.5091552734375, 1002.8187255859375, 4418.3818359375, 3552.9453125, 7006.2177734375, 639.423828125, 21629.8828125, 928.4073486328125, 1310.281494140625, 2484.024658203125, 9383.97265625, 1659.6363525390625, 7345.8623046875, 3244.03271484375, 3068.901611328125, 20660.94921875, 4267.3271484375, 9494.4794921875, 4371.81787109375, 6696.37158203125, 6712.16162109375, 7142.39208984375, 64645.71875, 18584.0625, 25292.44921875, 14246.4609375, 12387.8037109375, 7350.638671875, 33789.828125, 4830.35888671875, 19395.900390625, 10003.578125, 8935.435546875, 20149.009765625, 7013.3701171875, 14140.794921875, 13063.25390625, 10515.009765625, 14053.0361328125, 14714.802734375, 11817.8681640625, 13228.6650390625, 9449.400390625, 7945.53076171875, 10155.2119140625, 8555.44921875, 9732.90234375, 8406.7109375, 7705.763671875], \"Term\": [\"\\u043a\\u0430\\u0440\\u0442\\u0430\", \"\\u043a\\u0440\\u0435\\u0434\\u0438\\u0442\", \"\\u0432\\u043a\\u043b\\u0430\\u0434\", \"\\u0437\\u0430\\u044f\\u0432\\u043b\\u0435\\u043d\\u0438\\u0435\", \"\\u0434\\u0435\\u043d\\u044c\\u0433\\u0430\", \"\\u0431\\u0430\\u043d\\u043a\\u043e\\u043c\\u0430\\u0442\", \"\\u0441\\u0431\\u0435\\u0440\\u0431\\u0430\\u043d\\u043a\", \"\\u0434\\u043e\\u0433\\u043e\\u0432\\u043e\\u0440\", \"\\u043a\\u0440\\u0435\\u0434\\u0438\\u0442\\u043d\\u044b\\u0439\", \"\\u043e\\u0442\\u0434\\u0435\\u043b\\u0435\\u043d\\u0438\\u0435\", \"\\u043f\\u043b\\u0430\\u0442\\u0451\\u0436\", \"\\u0438\\u043d\\u0442\\u0435\\u0440\\u043d\\u0435\\u0442\", \"\\u0431\\u0430\\u043d\\u043a\\u0430\", \"\\u043e\\u0447\\u0435\\u0440\\u0435\\u0434\\u044c\", \"\\u0437\\u0430\\u0434\\u043e\\u043b\\u0436\\u0435\\u043d\\u043d\\u043e\\u0441\\u0442\\u044c\", \"\\u0434\\u043e\\u043a\\u0443\\u043c\\u0435\\u043d\\u0442\", \"\\u0440\\u0443\\u0431\\u043b\\u044c\", \"\\u0433\\u043e\\u0434\", \"\\u0441\\u0447\\u0451\\u0442\", \"\\u0441\\u0443\\u043c\\u043c\\u0430\", \"\\u0431\\u0430\\u043d\\u043a\", \"\\u043f\\u043e\\u0433\\u0430\\u0448\\u0435\\u043d\\u0438\\u0435\", \"\\u0434\\u0435\\u0432\\u0443\\u0448\\u043a\\u0430\", \"\\u0447\\u0435\\u043b\\u043e\\u0432\\u0435\\u043a\", \"\\u0434\\u0435\\u043d\\u044c\", \"\\u043f\\u0440\\u0435\\u0442\\u0435\\u043d\\u0437\\u0438\\u044f\", \"\\u043c\\u0438\\u043d\\u0443\\u0442\\u0430\", \"\\u043a\\u043e\\u043c\\u0438\\u0441\\u0441\\u0438\\u044f\", \"\\u043f\\u043e\\u0433\\u0430\\u0441\\u0438\\u0442\\u044c\", \"\\u043b\\u0438\\u043c\\u0438\\u0442\", \"\\u0441\\u0438\\u0434\\u0435\\u0442\\u044c\", \"\\u0434\\u0432\\u0435\\u0440\\u044c\", \"\\u0441\\u0442\\u043e\\u0439\\u043a\\u0430\", \"\\u043e\\u0445\\u0440\\u0430\\u043d\\u043d\\u0438\\u043a\", \"\\u043e\\u043a\\u043e\\u0448\\u043a\\u043e\", \"\\u0436\\u0435\\u043d\\u0449\\u0438\\u043d\\u0430\", \"\\u043f\\u0435\\u0440\\u0435\\u0440\\u044b\\u0432\", \"\\u043c\\u0443\\u0436\\u0447\\u0438\\u043d\\u0430\", \"\\u0441\\u0442\\u0443\\u043b\", \"\\u0442\\u0430\\u043b\\u043e\\u043d\\u0447\\u0438\\u043a\", \"\\u043f\\u0440\\u043e\\u0441\\u0442\\u043e\\u044f\\u0442\\u044c\", \"\\u043e\\u0441\\u0432\\u043e\\u0431\\u043e\\u0434\\u0438\\u0442\\u044c\\u0441\\u044f\", \"\\u0442\\u0430\\u0431\\u043b\\u043e\", \"\\u043a\\u0430\\u0441\\u0441\\u0438\\u0440\\u0448\\u0430\", \"\\u043e\\u0431\\u0435\\u0434\\u0435\\u043d\\u043d\\u044b\\u0439\", \"\\u0442\\u043e\\u043b\\u043f\\u0430\", \"\\u043f\\u0440\\u0438\\u0441\\u0435\\u0441\\u0442\\u044c\", \"\\u043f\\u0440\\u043e\\u0441\\u0438\\u0434\\u0435\\u0442\\u044c\", \"\\u0441\\u0435\\u0441\\u0442\\u044c\", \"\\u043f\\u0430\\u0440\\u0435\\u043d\\u044c\", \"\\u043e\\u0442\\u043e\\u0439\\u0442\\u0438\", \"\\u043c\\u0430\\u043b\\u044c\\u0447\\u0438\\u043a\", \"\\u0436\\u0430\\u043b\\u043e\\u0431\\u043d\\u044b\\u0439\", \"\\u0435\\u043b\\u0435\", \"\\u043f\\u0430\\u043b\\u0435\\u0446\", \"\\u0431\\u0435\\u0439\\u0434\\u0436\\u0438\\u043a\", \"\\u043c\\u0430\\u0448\\u0438\\u043d\\u043a\\u0430\", \"\\u0432\\u043e\\u043a\\u0440\\u0443\\u0433\", \"\\u043a\\u043b\\u0430\\u0432\\u0438\\u0430\\u0442\\u0443\\u0440\\u0430\", \"\\u043a\\u043e\\u043c\\u043f\", \"\\u0441\\u0442\\u043e\\u044f\\u0442\\u044c\", \"\\u043e\\u043a\\u043d\\u043e\", \"\\u0431\\u0443\\u043c\\u0430\\u0436\\u043a\\u0430\", \"\\u0441\\u0442\\u043e\\u043b\", \"\\u043a\\u0430\\u0441\\u0441\\u0438\\u0440\", \"\\u043f\\u0435\\u0440\\u0435\\u0434\", \"\\u0434\\u0430\\u043c\\u0430\", \"\\u0431\\u0430\\u0431\\u0443\\u0448\\u043a\\u0430\", \"\\u043e\\u0431\\u0435\\u0434\", \"\\u0433\\u043e\\u043b\\u043e\\u0441\", \"\\u043e\\u0447\\u0435\\u0440\\u0435\\u0434\\u044c\", \"\\u0437\\u0430\\u043b\", \"\\u0434\\u0435\\u0432\\u0443\\u0448\\u043a\\u0430\", \"\\u0434\\u0435\\u0432\\u043e\\u0447\\u043a\\u0430\", \"\\u0447\\u0435\\u043b\\u043e\\u0432\\u0435\\u043a\", \"\\u043a\\u0430\\u0441\\u0441\\u0430\", \"\\u0437\\u0430\\u043d\\u044f\\u0442\\u044b\\u0439\", \"\\u043c\\u0438\\u043d\\u0443\\u0442\\u0430\", \"\\u043c\\u0438\\u043b\\u044b\\u0439\", \"\\u043f\\u043e\\u0434\\u043e\\u0439\\u0442\\u0438\", \"\\u043d\\u0430\\u0440\\u043e\\u0434\", \"\\u043b\\u0430\\u0434\\u043d\\u044b\\u0439\", \"\\u0447\\u0430\\u0441\", \"\\u043e\\u043f\\u0435\\u0440\\u0430\\u0446\\u0438\\u043e\\u043d\\u0438\\u0441\\u0442\\u043a\\u0430\", \"\\u0433\\u043e\\u0432\\u043e\\u0440\\u0438\\u0442\\u044c\", \"\\u0440\\u0430\\u0431\\u043e\\u0442\\u0430\\u0442\\u044c\", \"\\u0441\\u043f\\u0440\\u0430\\u0448\\u0438\\u0432\\u0430\\u0442\\u044c\", \"\\u0434\\u0443\\u043c\\u0430\\u0442\\u044c\", \"\\u0441\\u043f\\u0440\\u043e\\u0441\\u0438\\u0442\\u044c\", \"\\u0443\\u0439\\u0442\\u0438\", \"\\u043e\\u043f\\u0435\\u0440\\u0430\\u0446\\u0438\\u043e\\u043d\\u0438\\u0441\\u0442\", \"\\u0442\\u0443\\u0434\\u0430\", \"\\u0436\\u0434\\u0430\\u0442\\u044c\", \"\\u043f\\u0440\\u043e\\u0441\\u0442\\u043e\", \"\\u0437\\u043d\\u0430\\u0442\\u044c\", \"\\u0441\\u043a\\u0430\\u0437\\u0430\\u0442\\u044c\", \"\\u043e\\u0434\\u0438\\u043d\", \"\\u043e\\u0442\\u0434\\u0435\\u043b\\u0435\\u043d\\u0438\\u0435\", \"\\u0442\\u0430\\u043a\\u043e\\u0439\", \"\\u0432\\u0440\\u0435\\u043c\\u044f\", \"\\u0432\\u0435\\u0441\\u044c\", \"\\u043a\\u043b\\u0438\\u0435\\u043d\\u0442\", \"\\u0434\\u0435\\u043d\\u044c\\u0433\\u0430\", \"\\u0441\\u0432\\u043e\\u0439\", \"\\u0432\\u043e\\u043e\\u0431\\u0449\\u0435\", \"\\u043e\\u0444\\u0438\\u0441\", \"\\u043a\\u043e\\u0442\\u043e\\u0440\\u044b\\u0439\", \"\\u0437\\u0432\\u043e\\u043d\\u0438\\u0442\\u044c\", \"\\u0445\\u043e\\u0442\\u0435\\u0442\\u044c\", \"\\u043f\\u0440\\u0438\\u0439\\u0442\\u0438\", \"\\u043c\\u043e\\u0447\\u044c\", \"\\u0434\\u0440\\u0443\\u0433\\u043e\\u0439\", \"\\u0431\\u0430\\u043d\\u043a\\u0430\", \"\\u0440\\u0430\\u0431\\u043e\\u0442\\u0430\", \"\\u0441\\u043e\\u0442\\u0440\\u0443\\u0434\\u043d\\u0438\\u043a\", \"\\u0431\\u0430\\u043d\\u043a\", \"\\u043c\\u043e\\u0439\", \"\\u043e\\u0441\\u0431\", \"\\u0432\\u044b\\u043f\\u043b\\u044e\\u043d\\u0443\\u0442\\u044c\", \"\\u0439\\u043d\", \"\\u043d\\u0435\\u0438\\u0441\\u043f\\u0440\\u0430\\u0432\\u043d\\u043e\\u0441\\u0442\\u044c\", \"\\u043d\\u0435\\u0438\\u0441\\u043f\\u0440\\u0430\\u0432\\u043d\\u044b\\u0439\", \"\\u0437\\u0430\\u0432\\u0442\\u0440\\u0430\\u043a\", \"\\u0437\\u0430\\u0436\\u0435\\u0432\\u0430\\u0442\\u044c\", \"\\u044e\\u043d\\u0438\\u0441\\u0442\\u0440\\u0438\\u043c\", \"\\u043a\\u0443\\u043f\\u044e\\u0440\\u043e\\u043f\\u0440\\u0438\\u0451\\u043c\\u043d\\u0438\\u043a\", \"\\u0443\\u0434\\u0431\\u044b\\u0439\", \"\\u043f\\u043e\\u0441\\u043e\\u0431\\u0438\\u0435\", \"\\u043e\\u043c\\u0441\", \"\\u043d\\u0435\\u0448\\u0442\\u0430\\u0442\\u043d\\u044b\\u0439\", \"\\u0441\\u0431\\u0435\\u0440\\u043a\\u0430\\u0440\\u0442\\u0430\", \"\\u0437\\u0430\\u0445\\u0432\\u0430\\u0442\", \"\\u0441\\u043a\\u0443\\u0448\\u0430\\u0442\\u044c\", \"\\u043a\\u0443\\u043f\\u044e\\u0440\\u043e\\u043f\\u0440\\u0438\\u0435\\u043c\\u043d\\u0438\\u043a\", \"\\u0446\\u0430\\u0440\\u0438\\u0446\\u044b\\u043d\\u0441\\u043a\\u0438\\u0439\", \"\\u043f\\u0435\\u0440\\u0435\\u0437\\u0430\\u0433\\u0440\\u0443\\u0437\\u0438\\u0442\\u044c\\u0441\\u044f\", \"\\u0432\\u0441\\u043f\", \"\\u0431\\u043a\", \"\\u043c\\u0430\\u0441\\u043b\\u043e\\u0432\\u043a\\u0430\", \"\\u043f\\u043e\\u0441\\u0430\\u0434\", \"\\u0441\\u0440\\u0435\\u0434\\u043d\\u0435\\u0440\\u0443\\u0441\\u0441\\u043a\\u0438\\u0439\", \"\\u0441\\u043b\\u043e\\u0431\\u043e\\u0434\\u0430\", \"\\u0442\\u0441\\u0436\", \"\\u043a\\u0431\\u043a\", \"\\u0440\\u0443\\u0431\\u043b\\u0435\\u0432\\u0441\\u043a\\u0438\\u0439\", \"\\u0433\\u0430\\u0442\\u0447\\u0438\\u043d\\u0430\", \"\\u043a\\u043e\\u0440\\u0440\\u0430\", \"\\u0438\\u0437\\u043b\\u0438\\u0448\\u0435\\u043a\", \"\\u0438\\u043d\\u043a\\u0430\\u0441\\u0441\\u0430\\u0446\\u0438\\u044f\", \"\\u0437\\u0430\\u0447\\u0438\\u0441\\u043b\\u0438\\u0442\\u044c\", \"\\u0441\\u0431\\u0435\\u0440\\u0431\\u0430\\u043d\\u043a\", \"\\u0441\\u043f\\u043e\\u0440\\u043d\\u044b\\u0439\", \"\\u0447\\u0435\\u043a\", \"\\u043f\\u043e\\u043b\\u0443\\u0447\\u0430\\u0442\\u0435\\u043b\\u044c\", \"\\u0440\\u0430\\u0441\\u0441\\u043c\\u043e\\u0442\\u0440\\u0435\\u043d\\u0438\\u0435\", \"\\u0441\\u044a\\u0435\\u0441\\u0442\\u044c\", \"\\u0440\\u0430\\u0441\\u0441\\u043c\\u0430\\u0442\\u0440\\u0438\\u0432\\u0430\\u0442\\u044c\\u0441\\u044f\", \"\\u0431\\u0430\\u043d\\u043a\\u043e\\u043c\\u0430\\u0442\", \"\\u0437\\u0430\\u044f\\u0432\\u043b\\u0435\\u043d\\u0438\\u0435\", \"\\u0441\\u0431\\u043e\\u0439\", \"\\u0434\\u0435\\u043d\\u0435\\u0436\\u043d\\u044b\\u0439\", \"\\u0432\\u0435\\u0440\\u043d\\u0443\\u0442\\u044c\", \"\\u0434\\u0435\\u043d\\u044c\\u0433\\u0430\", \"\\u0437\\u0430\\u0440\\u0435\\u0433\\u0438\\u0441\\u0442\\u0440\\u0438\\u0440\\u043e\\u0432\\u0430\\u0442\\u044c\", \"\\u0440\\u0430\\u0441\\u0441\\u043c\\u043e\\u0442\\u0440\\u0435\\u0442\\u044c\", \"\\u043e\\u0431\\u0440\\u0430\\u0449\\u0435\\u043d\\u0438\\u0435\", \"\\u043f\\u0440\\u0435\\u0442\\u0435\\u043d\\u0437\\u0438\\u044f\", \"\\u0440\\u0430\\u0441\\u0441\\u043b\\u0435\\u0434\\u043e\\u0432\\u0430\\u043d\\u0438\\u0435\", \"\\u0441\\u0440\\u0435\\u0434\\u0441\\u0442\\u0432\\u043e\", \"\\u0442\\u0435\\u0440\\u043c\\u0438\\u043d\\u0430\\u043b\", \"\\u0432\\u044b\\u0434\\u0430\\u0442\\u044c\", \"\\u0442\\u0435\\u0447\\u0435\\u043d\\u0438\\u0435\", \"\\u0434\\u0435\\u043d\\u044c\", \"\\u0432\\u043e\\u0437\\u0432\\u0440\\u0430\\u0442\", \"\\u043e\\u0442\\u0434\\u0435\\u043b\\u0435\\u043d\\u0438\\u0435\", \"\\u043d\\u0430\\u043f\\u0438\\u0441\\u0430\\u0442\\u044c\", \"\\u043d\\u0435\\u0434\\u0435\\u043b\\u044f\", \"\\u0430\\u0434\\u0440\\u0435\\u0441\", \"\\u0441\\u043e\\u043e\\u0431\\u0449\\u0438\\u0442\\u044c\", \"\\u043f\\u043e\\u0441\\u0442\\u0443\\u043f\\u0438\\u0442\\u044c\", \"\\u043e\\u0431\\u0440\\u0430\\u0442\\u0438\\u0442\\u044c\\u0441\\u044f\", \"\\u0441\\u0440\\u043e\\u043a\", \"\\u043f\\u043e\\u0437\\u0432\\u043e\\u043d\\u0438\\u0442\\u044c\", \"\\u0441\\u0447\\u0451\\u0442\", \"\\u043f\\u0440\\u0438\\u043d\\u044f\\u0442\\u044c\", \"\\u043c\\u043e\\u0439\", \"\\u043e\\u0442\\u0432\\u0435\\u0442\", \"\\u043d\\u043e\\u043c\\u0435\\u0440\", \"\\u0441\\u0438\\u0442\\u0443\\u0430\\u0446\\u0438\\u044f\", \"\\u0441\\u043a\\u0430\\u0437\\u0430\\u0442\\u044c\", \"\\u0433\\u043e\\u0434\", \"\\u043a\\u0430\\u0440\\u0442\\u0430\", \"\\u0431\\u0430\\u043d\\u043a\\u0430\", \"\\u0437\\u0430\\u044f\\u0432\\u043a\\u0430\", \"\\u043f\\u043e\\u043b\\u0443\\u0447\\u0438\\u0442\\u044c\", \"\\u0441\\u043e\\u0442\\u0440\\u0443\\u0434\\u043d\\u0438\\u043a\", \"\\u0434\\u0430\\u0442\\u044c\", \"\\u043e\\u043f\\u0435\\u0440\\u0430\\u0446\\u0438\\u044f\", \"\\u043a\\u043e\\u0442\\u043e\\u0440\\u044b\\u0439\", \"\\u043f\\u0440\\u043e\\u0431\\u043b\\u0435\\u043c\\u0430\", \"\\u0431\\u0430\\u043d\\u043a\", \"\\u0442\\u0435\\u043b\\u0435\\u0444\\u043e\\u043d\", \"\\u0432\\u043e\\u043f\\u0440\\u043e\\u0441\", \"\\u043b\\u0438\\u043c\\u0438\\u0442\", \"\\u043f\\u0430\\u0440\\u043e\\u043b\\u044c\", \"\\u0430\\u043a\\u0442\\u0438\\u0432\\u0438\\u0440\\u043e\\u0432\\u0430\\u0442\\u044c\", \"\\u0442\\u043a\\u0441\", \"\\u0441\\u0438\\u0442\\u0438\\u0431\\u0430\\u043d\\u043a\", \"\\u043a\\u043e\\u043d\\u0432\\u0435\\u0440\\u0442\\u0430\\u0446\\u0438\\u044f\", \"\\u0438\\u0431\", \"\\u043a\\u043b\\u0438\\u043a\", \"\\u0430\\u044d\\u0440\\u043e\\u0444\\u043b\\u043e\\u0442\", \"\\u0430\\u043a\\u0442\\u0438\\u0432\\u0430\\u0446\\u0438\\u044f\", \"\\u0442\\u0435\\u043b\\u0435\\u0431\\u0430\\u043d\\u043a\", \"\\u0441\\u0438\\u0442\\u0438\\u0444\\u043e\\u043d\", \"\\u0442\\u0435\\u043b\\u0435\\u0431\\u0430\\u043d\\u043a\\u0430\", \"\\u043b\\u043e\\u0433\\u0438\\u043d\", \"\\u043c\\u0438\\u043b\\u044f\", \"\\u0438\\u043c\\u0435\\u043d\\u043d\\u043e\\u0439\", \"\\u0430\\u0432\\u0442\\u043e\\u0440\\u0438\\u0437\\u0430\\u0446\\u0438\\u044f\", \"\\u0433\\u043e\\u043b\\u0434\", \"\\u0447\\u0438\\u043f\", \"\\u0432\\u0438\\u0440\\u0442\\u0443\\u0430\\u043b\\u044c\\u043d\\u044b\\u0439\", \"\\u043a\\u043b\\u0430\\u0441\\u0441\\u0438\\u043a\", \"\\u0431\\u043e\\u043d\\u0443\\u0441\\u043d\\u044b\\u0439\", \"\\u043c\\u0430\\u0441\\u0442\\u0435\\u0440\\u043a\\u0430\\u0440\\u0434\", \"\\u0438\\u043d\\u0442\\u0435\\u0440\\u0444\\u0435\\u0439\\u0441\", \"\\u0442\\u0438\\u043d\\u044c\\u043a\\u043e\\u0444\\u0444\", \"\\u044d\\u043b\\u0435\\u043a\\u0442\\u0440\\u043e\\u043d\", \"\\u043e\\u0434\\u043d\\u043e\\u0440\\u0430\\u0437\\u043e\\u0432\\u044b\\u0439\", \"\\u043e\\u0442\\u0435\\u043b\\u044c\", \"\\u0431\\u0432\\u043a\", \"\\u043f\\u0440\\u0438\\u0432\\u044f\\u0437\\u043a\\u0430\", \"\\u0432\\u044b\\u043f\\u0443\\u0441\\u043a\", \"\\u043f\\u0438\\u043d\", \"\\u043f\\u043e\\u0434\\u043a\\u043b\\u044e\\u0447\\u0438\\u0442\\u044c\", \"\\u043a\\u0440\\u0435\\u0434\\u0438\\u0442\\u043a\\u0430\", \"\\u0441\\u0432\\u044f\\u0437\\u043d\\u043e\\u0439\", \"\\u0438\\u043d\\u0442\\u0435\\u0440\\u043d\\u0435\\u0442\", \"\\u0434\\u0435\\u0431\\u0435\\u0442\\u043e\\u0432\\u044b\\u0439\", \"\\u043e\\u0432\\u0435\\u0440\\u0434\\u0440\\u0430\\u0444\\u0442\", \"\\u043a\\u0430\\u0440\\u0442\\u0430\", \"\\u0432\\u0438\\u0437\\u0430\", \"\\u0431\\u0435\\u0441\\u043f\\u043b\\u0430\\u0442\\u043d\\u044b\\u0439\", \"\\u0431\\u0430\\u043d\\u043a\\u0438\\u043d\\u0433\", \"\\u0432\\u044b\\u043f\\u0443\\u0441\\u0442\\u0438\\u0442\\u044c\", \"\\u043a\\u043e\\u0434\", \"\\u0442\\u0430\\u0440\\u0438\\u0444\", \"\\u0438\\u043d\\u0444\\u043e\\u0440\\u043c\\u0438\\u0440\\u043e\\u0432\\u0430\\u043d\\u0438\\u0435\", \"\\u043f\\u043e\\u043b\\u044c\\u0437\\u043e\\u0432\\u0430\\u0442\\u044c\\u0441\\u044f\", \"\\u043a\\u043e\\u043c\\u0438\\u0441\\u0441\\u0438\\u044f\", \"\\u0443\\u0441\\u043b\\u0443\\u0433\\u0430\", \"\\u0441\\u043c\\u0441\", \"\\u0430\\u0432\\u0430\\u043d\\u0433\\u0430\\u0440\\u0434\", \"\\u0441\\u0438\\u0441\\u0442\\u0435\\u043c\\u0430\", \"\\u043f\\u043e\\u043a\\u0443\\u043f\\u043a\\u0430\", \"\\u043c\\u043e\\u0431\\u0438\\u043b\\u044c\\u043d\\u044b\\u0439\", \"\\u0431\\u0435\\u0441\\u043f\\u043b\\u0430\\u0442\\u043d\\u043e\", \"\\u0431\\u0430\\u043d\\u043a\", \"\\u0441\\u0447\\u0451\\u0442\", \"\\u043f\\u043e\\u0434\\u0434\\u0435\\u0440\\u0436\\u043a\\u0430\", \"\\u043e\\u043f\\u0435\\u0440\\u0430\\u0446\\u0438\\u044f\", \"\\u0441\\u043d\\u044f\\u0442\\u0438\\u0435\", \"\\u043e\\u0431\\u0441\\u043b\\u0443\\u0436\\u0438\\u0432\\u0430\\u043d\\u0438\\u0435\", \"\\u0431\\u0430\\u043d\\u043a\\u0430\", \"\\u043a\\u0440\\u0435\\u0434\\u0438\\u0442\\u043d\\u044b\\u0439\", \"\\u043f\\u0440\\u043e\\u0431\\u043b\\u0435\\u043c\\u0430\", \"\\u0440\\u0443\\u0431\\u043b\\u044c\", \"\\u043f\\u0435\\u0440\\u0435\\u0432\\u043e\\u0434\", \"\\u0441\\u0430\\u0439\\u0442\", \"\\u0430\\u043b\\u044c\\u0444\\u0430\", \"\\u043a\\u043e\\u0442\\u043e\\u0440\\u044b\\u0439\", \"\\u043e\\u0434\\u0438\\u043d\", \"\\u043a\\u043b\\u0438\\u0435\\u043d\\u0442\", \"\\u043f\\u043e\\u043b\\u0443\\u0447\\u0438\\u0442\\u044c\", \"\\u043c\\u043e\\u0447\\u044c\", \"\\u0446\\u0435\\u043d\\u0442\\u0440\", \"\\u0434\\u0435\\u043d\\u044c\\u0433\\u0430\", \"\\u0431\\u0430\\u043d\\u043a\\u043e\\u043c\\u0430\\u0442\", \"\\u043c\\u0435\\u0441\\u044f\\u0446\", \"\\u0433\\u043e\\u0434\", \"\\u043c\\u043e\\u0439\", \"\\u0432\\u043e\\u043f\\u0440\\u043e\\u0441\", \"\\u0434\\u0435\\u043d\\u044c\", \"\\u0437\\u0430\\u0434\\u043e\\u043b\\u0436\\u0435\\u043d\\u043d\\u043e\\u0441\\u0442\\u044c\", \"\\u043f\\u043e\\u0433\\u0430\\u0448\\u0435\\u043d\\u0438\\u0435\", \"\\u043f\\u043e\\u0433\\u0430\\u0441\\u0438\\u0442\\u044c\", \"\\u043f\\u0440\\u043e\\u0441\\u0440\\u043e\\u0447\\u043a\\u0430\", \"\\u0448\\u0442\\u0440\\u0430\\u0444\", \"\\u043f\\u0440\\u043e\\u0441\\u0440\\u043e\\u0447\\u0438\\u0442\\u044c\", \"\\u043e\\u0442\\u043f\", \"\\u043f\\u0435\\u043d\\u044f\", \"\\u043f\\u0442\\u0441\", \"\\u0441\\u0443\\u0434\\u0435\\u0431\\u043d\\u044b\\u0439\", \"\\u043f\\u0435\\u0440\\u0435\\u043f\\u043b\\u0430\\u0442\\u0430\", \"\\u0443\\u0433\\u0440\\u043e\\u0437\\u0430\", \"\\u0432\\u0437\\u044b\\u0441\\u043a\\u0430\\u043d\\u0438\\u0435\", \"\\u0434\\u043e\\u043b\\u0436\\u043d\\u0438\\u043a\", \"\\u0431\\u044e\\u0440\\u043e\", \"\\u0440\\u0435\\u0441\\u0442\\u0440\\u0443\\u043a\\u0442\\u0443\\u0440\\u0438\\u0437\\u0430\\u0446\\u0438\\u044f\", \"\\u0431\\u043a\\u0438\", \"\\u0443\\u043f\\u043b\\u0430\\u0442\\u0438\\u0442\\u044c\", \"\\u043a\\u0430\\u0441\\u043a\\u043e\", \"\\u0440\\u0430\\u0441\\u0441\\u0440\\u043e\\u0447\\u043a\\u0430\", \"\\u0448\\u0442\\u0440\\u0430\\u0444\\u043d\\u043e\\u0439\", \"\\u0441\\u0430\\u043d\\u043a\\u0446\\u0438\\u044f\", \"\\u043a\\u043e\\u043b\\u043b\\u0435\\u043a\\u0442\\u043e\\u0440\", \"\\u043a\\u043e\\u043b\\u043b\\u0435\\u043a\\u0442\\u043e\\u0440\\u0441\\u043a\\u0438\\u0439\", \"\\u043f\\u0440\\u0438\\u0441\\u0442\\u0430\\u0432\", \"\\u043d\\u0431\\u043a\\u0430\", \"\\u043f\\u0430\\u0440\\u0438\\u0431\", \"\\u0434\\u043e\\u0431\\u0440\\u043e\\u0432\\u043e\\u043b\\u044c\\u043d\\u044b\\u0439\", \"\\u0438\\u0441\\u043f\\u043e\\u043b\\u043d\\u0438\\u0442\\u0435\\u043b\\u044c\\u043d\\u044b\\u0439\", \"\\u0444\\u0437\", \"\\u0441\\u0442\\u0440\\u0430\\u0445\\u043e\\u0432\\u043a\\u0430\", \"\\u0434\\u043e\\u043b\\u0433\", \"\\u0434\\u043e\\u0441\\u0440\\u043e\\u0447\\u043d\\u044b\\u0439\", \"\\u043a\\u0440\\u0435\\u0434\\u0438\\u0442\", \"\\u0434\\u043e\\u0441\\u0440\\u043e\\u0447\\u043d\\u043e\", \"\\u0441\\u0442\\u0440\\u0430\\u0445\\u043e\\u0432\\u0430\\u043d\\u0438\\u0435\", \"\\u043f\\u043e\\u0433\\u0430\\u0448\\u0430\\u0442\\u044c\", \"\\u043f\\u043e\\u0442\\u0440\\u0435\\u0431\\u0438\\u0442\\u0435\\u043b\\u044c\\u0441\\u043a\\u0438\\u0439\", \"\\u0441\\u0442\\u0440\\u0430\\u0445\\u043e\\u0432\\u043e\\u0439\", \"\\u043f\\u043e\\u0442\\u0440\\u0435\\u0431\\u0438\\u0442\\u0435\\u043b\\u044c\", \"\\u0435\\u0436\\u0435\\u043c\\u0435\\u0441\\u044f\\u0447\\u043d\\u044b\\u0439\", \"\\u0441\\u0443\\u0434\", \"\\u0432\\u044b\\u043f\\u043b\\u0430\\u0442\\u0438\\u0442\\u044c\", \"\\u0434\\u043e\\u0433\\u043e\\u0432\\u043e\\u0440\", \"\\u043f\\u043b\\u0430\\u0442\\u0451\\u0436\", \"\\u043a\\u0440\\u0435\\u0434\\u0438\\u0442\\u043d\\u044b\\u0439\", \"\\u0433\\u0440\\u0430\\u0444\\u0438\\u043a\", \"\\u0441\\u0443\\u043c\\u043c\\u0430\", \"\\u0441\\u043f\\u0440\\u0430\\u0432\\u043a\\u0430\", \"\\u043f\\u043b\\u0430\\u0442\\u0438\\u0442\\u044c\", \"\\u0440\\u0443\\u0431\\u043b\\u044c\", \"\\u0438\\u0441\\u0442\\u043e\\u0440\\u0438\\u044f\", \"\\u0433\\u043e\\u0434\", \"\\u043e\\u043f\\u043b\\u0430\\u0442\\u0438\\u0442\\u044c\", \"\\u043c\\u0435\\u0441\\u044f\\u0446\", \"\\u0431\\u0430\\u043d\\u043a\\u0430\", \"\\u0431\\u0430\\u043d\\u043a\", \"\\u0437\\u0432\\u043e\\u043d\\u043e\\u043a\", \"\\u043f\\u0438\\u0441\\u044c\\u043c\\u043e\", \"\\u0434\\u043e\\u043b\\u0436\\u043d\\u044b\\u0439\", \"\\u043c\\u043e\\u0439\", \"\\u043f\\u0440\\u043e\\u0446\\u0435\\u043d\\u0442\", \"\\u0441\\u043e\\u0442\\u0440\\u0443\\u0434\\u043d\\u0438\\u043a\", \"\\u0434\\u0430\\u0442\\u044c\", \"\\u043a\\u043e\\u0442\\u043e\\u0440\\u044b\\u0439\", \"\\u0432\\u0430\\u0448\", \"\\u0437\\u0430\\u044f\\u0432\\u043b\\u0435\\u043d\\u0438\\u0435\", \"\\u0434\\u0435\\u043d\\u044c\", \"\\u0437\\u0432\\u043e\\u043d\\u0438\\u0442\\u044c\", \"\\u0442\\u0435\\u043b\\u0435\\u0444\\u043e\\u043d\", \"\\u0441\\u0447\\u0451\\u0442\", \"\\u0441\\u043a\\u0430\\u0437\\u0430\\u0442\\u044c\", \"\\u043e\\u0442\\u0432\\u0435\\u0442\", \"\\u043f\\u0440\\u0435\\u0442\\u0435\\u043d\\u0437\\u0438\\u044f\", \"\\u0432\\u043e\\u043f\\u0440\\u043e\\u0441\", \"\\u0432\\u043a\\u043b\\u0430\\u0434\", \"\\u0441\\u0434\\u0435\\u043b\\u043a\\u0430\", \"\\u0432\\u043a\\u043b\\u0430\\u0434\\u0447\\u0438\\u043a\", \"\\u0434\\u043e\\u0432\\u0435\\u0440\\u0435\\u043d\\u043d\\u043e\\u0441\\u0442\\u044c\", \"\\u0431\\u043b\\u0430\\u0433\\u043e\\u0434\\u0430\\u0440\\u043d\\u043e\\u0441\\u0442\\u044c\", \"\\u043d\\u0434\\u0444\\u043b\", \"\\u043f\\u0440\\u043e\\u0444\\u0435\\u0441\\u0441\\u0438\\u043e\\u043d\\u0430\\u043b\\u044c\\u043d\\u044b\\u0439\", \"\\u044f\\u0447\\u0435\\u0439\\u043a\\u0430\", \"\\u043f\\u0440\\u043e\\u0444\\u0435\\u0441\\u0441\\u0438\\u043e\\u043d\\u0430\\u043b\\u044c\\u043d\\u043e\", \"\\u043d\\u0435\\u0434\\u0432\\u0438\\u0436\\u0438\\u043c\\u043e\\u0441\\u0442\\u044c\", \"\\u043a\\u043e\\u043b\\u043b\\u0435\\u043a\\u0442\\u0438\\u0432\", \"\\u043f\\u0440\\u043e\\u043b\\u043e\\u043d\\u0433\\u0430\\u0446\\u0438\\u044f\", \"\\u043a\\u0430\\u043f\\u0438\\u0442\\u0430\\u043b\\u0438\\u0437\\u0430\\u0446\\u0438\\u044f\", \"\\u043c\\u043e\\u0441\\u043e\\u0431\\u043b\\u0431\\u0430\\u043d\\u043a\", \"\\u0436\\u0438\\u043b\\u044c\\u0451\", \"\\u0430\\u0442\\u043c\\u043e\\u0441\\u0444\\u0435\\u0440\\u0430\", \"\\u043f\\u0440\\u043e\\u0446\\u0432\\u0435\\u0442\\u0430\\u043d\\u0438\\u0435\", \"\\u0434\\u0435\\u043b\\u044c\\u0442\\u0430\\u043a\\u0440\\u0435\\u0434\\u0438\\u0442\", \"\\u043a\\u0443\\u043f\\u043b\\u044f\", \"\\u0437\\u0430\\u0441\\u0442\\u0440\\u043e\\u0439\\u0449\\u0438\\u043a\", \"\\u0434\\u0435\\u043b\\u044c\\u0442\\u0430\", \"\\u043f\\u0430\\u0439\", \"\\u043e\\u0431\\u044a\\u0435\\u043a\\u0442\", \"\\u0434\\u043e\\u0431\\u0440\\u043e\\u0436\\u0435\\u043b\\u0430\\u0442\\u0435\\u043b\\u044c\\u043d\\u044b\\u0439\", \"\\u043f\\u0440\\u043e\\u043b\\u043e\\u043d\\u0433\\u0438\\u0440\\u043e\\u0432\\u0430\\u0442\\u044c\", \"\\u043f\\u0438\\u0444\", \"\\u0440\\u0438\\u044d\\u043b\\u0442\\u043e\\u0440\", \"\\u0434\\u043e\\u0431\\u0440\\u043e\\u0436\\u0435\\u043b\\u0430\\u0442\\u0435\\u043b\\u044c\\u043d\\u043e\\u0441\\u0442\\u044c\", \"\\u043f\\u0440\\u043e\\u0431\\u0438\\u0437\\u043d\\u0435\\u0441\\u0431\\u0430\\u043d\\u043a\", \"\\u0438\\u043d\\u0432\\u0435\\u0441\\u0442\\u0438\\u0446\\u0438\\u043e\\u043d\\u043d\\u044b\\u0439\", \"\\u0434\\u0438\\u0440\", \"\\u0432\\u044b\\u0440\\u0430\\u0437\\u0438\\u0442\\u044c\", \"\\u0441\\u0442\\u0430\\u0432\\u043a\\u0430\", \"\\u0442\\u0440\\u0443\\u0434\\u043e\\u0432\\u043e\\u0439\", \"\\u0432\\u043e\\u0441\\u0442\\u0440\\u0435\\u0431\\u043e\\u0432\\u0430\\u043d\\u0438\\u0435\", \"\\u0434\\u0435\\u043f\\u043e\\u0437\\u0438\\u0442\", \"\\u043a\\u0432\\u0430\\u0440\\u0442\\u0438\\u0440\\u0430\", \"\\u043f\\u0440\\u043e\\u0444\\u0435\\u0441\\u0441\\u0438\\u043e\\u043d\\u0430\\u043b\\u0438\\u0437\\u043c\", \"\\u0433\\u0440\\u0430\\u043c\\u043e\\u0442\\u043d\\u043e\", \"\\u043f\\u0440\\u0438\\u044f\\u0442\\u043d\\u043e\", \"\\u0432\\u044b\\u0441\\u043e\\u043a\\u0438\\u0439\", \"\\u043e\\u0442\\u043a\\u0440\\u044b\\u0442\\u0438\\u0435\", \"\\u0432\\u044b\\u0440\\u0430\\u0436\\u0430\\u0442\\u044c\", \"\\u0434\\u043e\\u043a\\u0443\\u043c\\u0435\\u043d\\u0442\", \"\\u0438\\u043f\", \"\\u043a\\u0430\\u0447\\u0435\\u0441\\u0442\\u0432\\u0435\\u043d\\u043d\\u044b\\u0439\", \"\\u043f\\u0440\\u043e\\u0446\\u0435\\u043d\\u0442\\u043d\\u044b\\u0439\", \"\\u043e\\u0442\\u043a\\u0440\\u044b\\u0442\\u044c\", \"\\u043e\\u0434\\u043e\\u0431\\u0440\\u0435\\u043d\\u0438\\u0435\", \"\\u0431\\u044b\\u0441\\u0442\\u0440\\u043e\", \"\\u043f\\u043e\\u043d\\u0440\\u0430\\u0432\\u0438\\u0442\\u044c\\u0441\\u044f\", \"\\u0438\\u043f\\u043e\\u0442\\u0435\\u043a\\u0430\", \"\\u043e\\u0447\\u0435\\u043d\\u044c\", \"\\u043e\\u0442\\u043a\\u0440\\u044b\\u0432\\u0430\\u0442\\u044c\", \"\\u0443\\u0441\\u043b\\u043e\\u0432\\u0438\\u0435\", \"\\u043e\\u0431\\u0441\\u043b\\u0443\\u0436\\u0438\\u0432\\u0430\\u0442\\u044c\\u0441\\u044f\", \"\\u043e\\u0444\\u043e\\u0440\\u043c\\u043b\\u0435\\u043d\\u0438\\u0435\", \"\\u0445\\u043e\\u0440\\u043e\\u0448\\u0438\\u0439\", \"\\u0441\\u043f\\u0430\\u0441\\u0438\\u0431\\u043e\", \"\\u0431\\u0430\\u043d\\u043a\\u0430\", \"\\u043e\\u0444\\u0438\\u0441\", \"\\u043a\\u043b\\u0438\\u0435\\u043d\\u0442\", \"\\u0440\\u0430\\u0431\\u043e\\u0442\\u0430\", \"\\u043e\\u0431\\u0441\\u043b\\u0443\\u0436\\u0438\\u0432\\u0430\\u043d\\u0438\\u0435\", \"\\u043c\\u0435\\u043d\\u0435\\u0434\\u0436\\u0435\\u0440\", \"\\u0431\\u0430\\u043d\\u043a\", \"\\u0432\\u0435\\u0436\\u043b\\u0438\\u0432\\u044b\\u0439\", \"\\u0441\\u043e\\u0442\\u0440\\u0443\\u0434\\u043d\\u0438\\u043a\", \"\\u0437\\u0430\\u044f\\u0432\\u043a\\u0430\", \"\\u043f\\u0440\\u043e\\u0446\\u0435\\u043d\\u0442\", \"\\u0433\\u043e\\u0434\", \"\\u043d\\u0430\\u0448\", \"\\u0432\\u043e\\u043f\\u0440\\u043e\\u0441\", \"\\u0432\\u0440\\u0435\\u043c\\u044f\", \"\\u0434\\u043e\\u0433\\u043e\\u0432\\u043e\\u0440\", \"\\u043a\\u043e\\u0442\\u043e\\u0440\\u044b\\u0439\", \"\\u043e\\u0442\\u0434\\u0435\\u043b\\u0435\\u043d\\u0438\\u0435\", \"\\u0441\\u0432\\u043e\\u0439\", \"\\u0434\\u0435\\u043d\\u044c\", \"\\u043f\\u043e\\u043b\\u0443\\u0447\\u0438\\u0442\\u044c\", \"\\u0441\\u0430\\u0439\\u0442\", \"\\u043a\\u0440\\u0435\\u0434\\u0438\\u0442\", \"\\u0432\\u0435\\u0441\\u044c\", \"\\u043c\\u043e\\u0439\", \"\\u0441\\u0447\\u0451\\u0442\", \"\\u0445\\u043e\\u0442\\u0435\\u0442\\u044c\"], \"Total\": [183255.0, 85852.0, 42661.0, 62620.0, 105903.0, 55363.0, 33248.0, 36465.0, 44159.0, 91078.0, 42908.0, 23994.0, 218076.0, 27527.0, 16915.0, 31685.0, 50291.0, 92172.0, 87108.0, 58077.0, 143656.0, 14359.0, 26975.0, 25500.0, 99323.0, 26757.0, 28998.0, 20753.0, 11260.0, 11302.0, 5703.37255859375, 3049.92724609375, 2385.29931640625, 2320.700927734375, 2058.875244140625, 2017.3155517578125, 1523.5335693359375, 1136.26318359375, 896.2899780273438, 822.5202026367188, 816.7124633789062, 791.6015014648438, 709.281494140625, 683.9776000976562, 666.5128173828125, 653.9905395507812, 646.6113891601562, 632.2529296875, 614.9911499023438, 558.3367309570312, 497.0977478027344, 487.04052734375, 469.4685974121094, 461.5557556152344, 458.58740234375, 417.5486755371094, 422.5675354003906, 393.23162841796875, 392.96435546875, 388.29083251953125, 3917.412353515625, 3857.779541015625, 2985.58935546875, 1708.7015380859375, 8403.7421875, 1500.8408203125, 1084.6890869140625, 648.1361694335938, 3189.3310546875, 2478.494140625, 27527.91015625, 3952.270263671875, 26975.875, 2656.87451171875, 25500.224609375, 17202.556640625, 2395.17626953125, 28998.591796875, 1793.63671875, 5965.48193359375, 2733.810546875, 6278.90185546875, 13559.8330078125, 6738.296875, 21325.552734375, 37784.9453125, 7129.34228515625, 14159.470703125, 8913.14453125, 7933.22509765625, 12578.4794921875, 6376.453125, 24748.78125, 25214.3203125, 24235.771484375, 66778.84375, 49157.03125, 91078.859375, 46140.85546875, 54997.76953125, 37119.84375, 73957.609375, 105903.7421875, 55387.33984375, 17088.015625, 47721.765625, 81192.84375, 39566.2890625, 28499.4921875, 17827.017578125, 48411.296875, 29466.94140625, 218076.28125, 35004.44921875, 72002.3046875, 143656.0625, 87294.171875, 1265.3597412109375, 601.7110595703125, 562.3344116210938, 472.9662170410156, 432.5270080566406, 397.1684875488281, 345.15277099609375, 337.3201904296875, 329.2714538574219, 280.0133056640625, 247.35556030273438, 229.19651794433594, 185.2772979736328, 178.3831787109375, 176.40333557128906, 156.42971801757812, 143.548828125, 141.7351837158203, 125.44062042236328, 120.6006088256836, 124.81529998779297, 159.4677276611328, 122.76435089111328, 114.39600372314453, 121.00465393066406, 113.7538833618164, 110.70301055908203, 116.3083724975586, 109.18777465820312, 99.443115234375, 507.3553771972656, 2522.732177734375, 5328.0537109375, 33248.26953125, 1797.8109130859375, 8530.1474609375, 2958.584716796875, 11894.171875, 1056.5712890625, 2463.98779296875, 55363.34375, 62620.22265625, 5488.435546875, 11600.75, 12786.7802734375, 105903.7421875, 2445.1376953125, 5371.1396484375, 12456.365234375, 26757.505859375, 1998.83740234375, 27542.20703125, 8511.7890625, 17948.994140625, 19373.8125, 99323.390625, 6264.35546875, 91078.859375, 38432.50390625, 25041.59765625, 15361.3095703125, 23014.45703125, 7718.76123046875, 22036.90234375, 28617.0625, 41195.875, 87108.6640625, 16083.6591796875, 87294.171875, 43054.87890625, 30328.173828125, 29211.89453125, 66778.84375, 92172.984375, 183255.1875, 218076.28125, 25266.87109375, 47793.5625, 72002.3046875, 47080.76171875, 27456.876953125, 81192.84375, 37147.06640625, 143656.0625, 40221.11328125, 54843.4140625, 11302.3681640625, 4174.03466796875, 3475.029052734375, 2816.968505859375, 2378.125732421875, 1803.54443359375, 1720.9466552734375, 1643.7718505859375, 1624.12353515625, 1539.2894287109375, 1459.121337890625, 1281.781494140625, 1212.8780517578125, 1200.4039306640625, 1006.0845947265625, 970.4981079101562, 944.608154296875, 918.0355834960938, 883.6799926757812, 883.0120239257812, 785.1892700195312, 743.2486572265625, 657.3695068359375, 648.5896606445312, 635.542236328125, 618.2540893554688, 568.9290771484375, 560.0961303710938, 501.7563781738281, 441.3118896484375, 4345.14892578125, 3952.871826171875, 6050.29052734375, 4683.1201171875, 4800.08935546875, 23994.646484375, 7695.92626953125, 2481.656494140625, 183255.1875, 2540.08642578125, 5764.6123046875, 2970.29052734375, 4777.2255859375, 6589.375, 8565.51953125, 2307.293212890625, 17989.154296875, 20753.78125, 26056.416015625, 20371.658203125, 3545.407958984375, 16103.7666015625, 8019.88818359375, 7594.28955078125, 3452.029296875, 143656.0625, 87108.6640625, 14411.21875, 27456.876953125, 7723.37060546875, 28884.31640625, 218076.28125, 44159.65234375, 37147.06640625, 50291.25390625, 20762.908203125, 24418.33984375, 12226.7646484375, 81192.84375, 49157.03125, 73957.609375, 47793.5625, 48411.296875, 21435.84375, 105903.7421875, 55363.34375, 37855.73046875, 92172.984375, 87294.171875, 54843.4140625, 99323.390625, 16915.470703125, 14359.61328125, 11260.0654296875, 8442.384765625, 5940.5166015625, 3557.948974609375, 2229.45849609375, 2070.390625, 1804.2174072265625, 1665.8436279296875, 1640.7601318359375, 1495.489013671875, 1321.7974853515625, 1256.7508544921875, 1156.6483154296875, 1091.4228515625, 1018.9253540039062, 1023.9508666992188, 952.2295532226562, 816.128173828125, 805.5416259765625, 799.9929809570312, 732.5668334960938, 711.3616333007812, 688.4058837890625, 679.3727416992188, 649.2822265625, 627.929931640625, 619.2786254882812, 625.5592651367188, 8588.1826171875, 9131.98046875, 6906.81787109375, 85852.1875, 4772.9775390625, 4048.024169921875, 1733.543212890625, 3846.1357421875, 3594.629638671875, 1450.607421875, 4553.34033203125, 5852.8603515625, 2219.17138671875, 36465.0234375, 42908.76953125, 44159.65234375, 5096.681640625, 58077.51953125, 12073.951171875, 11566.009765625, 50291.25390625, 13976.833984375, 92172.984375, 13136.5380859375, 37855.73046875, 218076.28125, 143656.0625, 26899.11328125, 13858.4482421875, 28107.9140625, 87294.171875, 22066.0859375, 72002.3046875, 47080.76171875, 81192.84375, 31837.6484375, 62620.22265625, 99323.390625, 39566.2890625, 40221.11328125, 87108.6640625, 66778.84375, 43054.87890625, 26757.505859375, 54843.4140625, 42661.4140625, 4508.0849609375, 3487.35986328125, 3305.642578125, 2363.765625, 1862.81884765625, 1231.977294921875, 1163.196533203125, 809.9822998046875, 762.389404296875, 638.6553955078125, 634.4851684570312, 565.8067016601562, 560.2510986328125, 536.1880493164062, 533.0869140625, 501.1519775390625, 458.45489501953125, 460.2141418457031, 438.30255126953125, 432.6597595214844, 417.5957336425781, 397.013671875, 1285.71484375, 368.90203857421875, 353.987548828125, 331.9820861816406, 323.49871826171875, 297.7228088378906, 280.2478332519531, 289.2497863769531, 1716.1373291015625, 8681.669921875, 984.4409790039062, 839.2830810546875, 8982.7646484375, 5455.40771484375, 1468.5213623046875, 1055.0069580078125, 5124.9833984375, 4096.64013671875, 8631.966796875, 660.0198974609375, 31685.70703125, 995.9404296875, 1468.6715087890625, 3047.8916015625, 13880.455078125, 1939.7120361328125, 10927.865234375, 4314.54248046875, 4071.251953125, 39890.3671875, 6243.64013671875, 16814.427734375, 6482.4287109375, 10976.904296875, 11150.525390625, 12405.80078125, 218076.28125, 47721.765625, 73957.609375, 35004.44921875, 28884.31640625, 14561.892578125, 143656.0625, 7999.357421875, 72002.3046875, 25266.87109375, 22066.0859375, 92172.984375, 14879.533203125, 54843.4140625, 54997.76953125, 36465.0234375, 81192.84375, 91078.859375, 55387.33984375, 99323.390625, 47793.5625, 24418.33984375, 85852.1875, 37119.84375, 87294.171875, 87108.6640625, 28499.4921875], \"loglift\": [30.0, 29.0, 28.0, 27.0, 26.0, 25.0, 24.0, 23.0, 22.0, 21.0, 20.0, 19.0, 18.0, 17.0, 16.0, 15.0, 14.0, 13.0, 12.0, 11.0, 10.0, 9.0, 8.0, 7.0, 6.0, 5.0, 4.0, 3.0, 2.0, 1.0, 1.4707000255584717, 1.4706000089645386, 1.4704999923706055, 1.4704999923706055, 1.4704999923706055, 1.4704999923706055, 1.4702999591827393, 1.4701000452041626, 1.4699000120162964, 1.4699000120162964, 1.4699000120162964, 1.4697999954223633, 1.4696999788284302, 1.469599962234497, 1.469599962234497, 1.469599962234497, 1.469599962234497, 1.469499945640564, 1.469499945640564, 1.4694000482559204, 1.4692000150680542, 1.469099998474121, 1.469099998474121, 1.468999981880188, 1.468999981880188, 1.4688999652862549, 1.4688999652862549, 1.4687000513076782, 1.4687000513076782, 1.4687000513076782, 1.4500000476837158, 1.4490000009536743, 1.4390000104904175, 1.4490000009536743, 1.4154000282287598, 1.448799967765808, 1.450700044631958, 1.4611999988555908, 1.409999966621399, 1.4184000492095947, 1.3167999982833862, 1.3912999629974365, 1.2976000308990479, 1.4016000032424927, 1.2767000198364258, 1.288100004196167, 1.3997000455856323, 1.2135000228881836, 1.4069000482559204, 1.3208999633789062, 1.3767999410629272, 1.3062000274658203, 1.2142000198364258, 1.2766000032424927, 1.1160000562667847, 1.044100046157837, 1.2448999881744385, 1.0893000364303589, 1.1141999959945679, 1.1348999738693237, 1.0277999639511108, 1.1833000183105469, 0.814300000667572, 0.8082000017166138, 0.8116000294685364, 0.4650999903678894, 0.5232999920845032, 0.3244999945163727, 0.5429999828338623, 0.45680001378059387, 0.5823000073432922, 0.30090001225471497, 0.03530000150203705, 0.3028999865055084, 0.808899998664856, 0.3343000113964081, 9.999999747378752e-05, 0.36230000853538513, 0.508400022983551, 0.7590000033378601, 0.19470000267028809, 0.43540000915527344, -0.9369000196456909, 0.30000001192092896, -0.3043999969959259, -0.9782000184059143, -0.5835000276565552, 1.5571999549865723, 1.55649995803833, 1.556399941444397, 1.5561000108718872, 1.555999994277954, 1.555799961090088, 1.5555000305175781, 1.555400013923645, 1.555400013923645, 1.5549999475479126, 1.5544999837875366, 1.5541000366210938, 1.5535000562667847, 1.5534000396728516, 1.5533000230789185, 1.5527000427246094, 1.55239999294281, 1.551900029182434, 1.5515999794006348, 1.551300048828125, 1.551300048828125, 1.551300048828125, 1.551200032234192, 1.5509999990463257, 1.5506999492645264, 1.5506999492645264, 1.5506999492645264, 1.5499999523162842, 1.5498000383377075, 1.5498000383377075, 1.5455000400543213, 1.5116000175476074, 1.4938000440597534, 1.4491000175476074, 1.4886000156402588, 1.4225000143051147, 1.4484000205993652, 1.3442000150680542, 1.450700044631958, 1.4048999547958374, 1.235200047492981, 1.2130999565124512, 1.3559999465942383, 1.2689000368118286, 1.2168999910354614, 1.0339000225067139, 1.342900037765503, 1.259600043296814, 1.1711000204086304, 1.079699993133545, 1.3431999683380127, 1.0542999505996704, 1.1805000305175781, 1.0807000398635864, 1.0627000331878662, 0.847100019454956, 1.2031999826431274, 0.8241999745368958, 0.9419999718666077, 0.9988999962806702, 1.0664000511169434, 0.9950000047683716, 1.1641000509262085, 0.9886999726295471, 0.9169999957084656, 0.8294000029563904, 0.661899983882904, 1.0149999856948853, 0.6424999833106995, 0.7979000210762024, 0.8083000183105469, 0.8069999814033508, 0.5160999894142151, 0.3368000090122223, 0.05689999833703041, -0.2856000065803528, 0.8126000165939331, 0.4860999882221222, 0.2273000031709671, 0.4025000035762787, 0.7268999814987183, -0.10599999874830246, 0.48510000109672546, -0.6717000007629395, 0.41429999470710754, 0.11959999799728394, 1.6378999948501587, 1.6376999616622925, 1.6376999616622925, 1.6375999450683594, 1.6375999450683594, 1.6375000476837158, 1.6374000310897827, 1.6374000310897827, 1.6374000310897827, 1.6374000310897827, 1.6373000144958496, 1.6373000144958496, 1.6371999979019165, 1.6371999979019165, 1.6370999813079834, 1.6370999813079834, 1.6369999647140503, 1.6369999647140503, 1.6369999647140503, 1.6369999647140503, 1.6368999481201172, 1.6368000507354736, 1.6367000341415405, 1.6366000175476074, 1.6366000175476074, 1.6366000175476074, 1.6365000009536743, 1.6363999843597412, 1.636299967765808, 1.6360000371932983, 1.631500005722046, 1.6296000480651855, 1.618299961090088, 1.59089994430542, 1.5819000005722046, 1.5270999670028687, 1.5428999662399292, 1.5861999988555908, 1.385699987411499, 1.5786000490188599, 1.5254000425338745, 1.562399983406067, 1.5288000106811523, 1.499500036239624, 1.4509999752044678, 1.555999994277954, 1.3243999481201172, 1.3037999868392944, 1.2107000350952148, 1.1775000095367432, 1.4733999967575073, 1.1004999876022339, 1.2589999437332153, 1.256600022315979, 1.450600028038025, 0.4205000102519989, 0.5525000095367432, 1.0508999824523926, 0.8216999769210815, 1.2111999988555908, 0.7501999735832214, 0.028300000354647636, 0.520799994468689, 0.567799985408783, 0.37950000166893005, 0.7860000133514404, 0.65829998254776, 1.0119999647140503, -0.07000000029802322, 0.16539999842643738, -0.18729999661445618, 0.07819999754428864, 0.05590000003576279, 0.5839999914169312, -0.5683000087738037, -0.11410000175237656, 0.1525000035762787, -0.5454999804496765, -0.5375999808311462, -0.18809999525547028, -0.7168999910354614, 1.6785999536514282, 1.6785999536514282, 1.6785999536514282, 1.6785999536514282, 1.6785000562667847, 1.6784000396728516, 1.6783000230789185, 1.6783000230789185, 1.6782000064849854, 1.6782000064849854, 1.6782000064849854, 1.6780999898910522, 1.6780999898910522, 1.6779999732971191, 1.6779999732971191, 1.677899956703186, 1.677899956703186, 1.677899956703186, 1.6778000593185425, 1.6777000427246094, 1.6777000427246094, 1.6777000427246094, 1.6776000261306763, 1.6776000261306763, 1.6775000095367432, 1.6775000095367432, 1.6775000095367432, 1.67739999294281, 1.67739999294281, 1.67739999294281, 1.6619999408721924, 1.6507999897003174, 1.649999976158142, 1.5515999794006348, 1.6131000518798828, 1.6152000427246094, 1.6432000398635864, 1.5956000089645386, 1.598099946975708, 1.6439000368118286, 1.5614999532699585, 1.5430999994277954, 1.6093000173568726, 1.3385000228881836, 1.280500054359436, 1.1521999835968018, 1.4581999778747559, 1.0916999578475952, 1.2812000513076782, 1.2657999992370605, 0.9218999743461609, 1.1655999422073364, 0.6571999788284302, 1.1344000101089478, 0.8255000114440918, 0.3133000135421753, 0.3871000111103058, 0.8490999937057495, 1.0821000337600708, 0.7748000025749207, 0.2777999937534332, 0.8702999949455261, 0.3366999924182892, 0.49459999799728394, 0.19370000064373016, 0.6539000272750854, 0.26260000467300415, -0.042500000447034836, 0.3564000129699707, 0.3253999948501587, -0.26440000534057617, -0.0940999984741211, 0.21690000593662262, 0.5712000131607056, -0.14589999616146088, 1.7222000360488892, 1.722000002861023, 1.722000002861023, 1.7218999862670898, 1.7217999696731567, 1.7216999530792236, 1.721500039100647, 1.721500039100647, 1.7211999893188477, 1.7210999727249146, 1.720900058746338, 1.720900058746338, 1.7207000255584717, 1.7207000255584717, 1.7206000089645386, 1.7206000089645386, 1.7204999923706055, 1.7203999757766724, 1.7202999591827393, 1.7202999591827393, 1.7202999591827393, 1.7201999425888062, 1.7201000452041626, 1.7200000286102295, 1.7199000120162964, 1.7197999954223633, 1.7196999788284302, 1.719599962234497, 1.7193000316619873, 1.719099998474121, 1.7187000513076782, 1.6726000308990479, 1.5990999937057495, 1.6806999444961548, 1.683899998664856, 1.5881999731063843, 1.5951999425888062, 1.6553000211715698, 1.6714999675750732, 1.573799967765808, 1.579800009727478, 1.5134999752044678, 1.690500020980835, 1.340399980545044, 1.6519999504089355, 1.6081000566482544, 1.5176000595092773, 1.3307000398635864, 1.5663000345230103, 1.3250000476837158, 1.437000036239624, 1.4395999908447266, 1.0642999410629272, 1.341599941253662, 1.1506999731063843, 1.3282999992370605, 1.2280000448226929, 1.2145999670028687, 1.1700999736785889, 0.5062999725341797, 0.7791000008583069, 0.6492000222206116, 0.823199987411499, 0.8755999803543091, 1.038599967956543, 0.27489998936653137, 1.2178000211715698, 0.4106000065803528, 0.7957000136375427, 0.8181999921798706, 0.20170000195503235, 0.9700000286102295, 0.3668000102043152, 0.2847000062465668, 0.47870001196861267, -0.03180000185966492, -0.1006999984383583, 0.17749999463558197, -0.2937999963760376, 0.10130000114440918, 0.5995000004768372, -0.4124000072479248, 0.25459998846054077, -0.4715999960899353, -0.6158999800682068, 0.41429999470710754], \"logprob\": [30.0, 29.0, 28.0, 27.0, 26.0, 25.0, 24.0, 23.0, 22.0, 21.0, 20.0, 19.0, 18.0, 17.0, 16.0, 15.0, 14.0, 13.0, 12.0, 11.0, 10.0, 9.0, 8.0, 7.0, 6.0, 5.0, 4.0, 3.0, 2.0, 1.0, -6.199100017547607, -6.825200080871582, -7.071100234985352, -7.098499774932861, -7.218299865722656, -7.238699913024902, -7.519599914550781, -7.813000202178955, -8.05049991607666, -8.13640022277832, -8.143500328063965, -8.174799919128418, -8.284700393676758, -8.321100234985352, -8.347000122070312, -8.366000175476074, -8.377400398254395, -8.399800300598145, -8.427599906921387, -8.524299621582031, -8.640700340270996, -8.661199569702148, -8.697999954223633, -8.71500015258789, -8.721500396728516, -8.815400123596191, -8.803500175476074, -8.87559986114502, -8.876299858093262, -8.888199806213379, -6.595399856567383, -6.611800193786621, -6.878200054168701, -7.426199913024902, -5.866799831390381, -7.556099891662598, -7.879000186920166, -8.383399963378906, -6.841100215911865, -7.084799766540527, -4.778900146484375, -6.645299911499023, -4.818299770355225, -7.032199859619141, -4.895599842071533, -5.2778000831604, -7.137800216674805, -4.8302001953125, -7.4197998046875, -6.303999900817871, -7.02839994430542, -6.267600059509277, -5.589600086212158, -6.226500034332275, -5.235000133514404, -4.734899997711182, -6.2017998695373535, -5.671299934387207, -6.1092000007629395, -6.204899787902832, -5.851200103759766, -6.375, -5.387800216674805, -5.375400066375732, -5.411499977111816, -4.744500160217285, -4.992599964141846, -4.574699878692627, -5.036200046539307, -4.946899890899658, -5.214399814605713, -4.80649995803833, -4.713099956512451, -5.093599796295166, -5.763700008392334, -5.21120023727417, -5.013999938964844, -5.37060022354126, -5.552700042724609, -5.771200180053711, -5.33650016784668, -5.592299938201904, -4.9629998207092285, -5.5553998947143555, -5.438600063323975, -5.4217000007629395, -5.525199890136719, -7.6184000968933105, -8.36240005493164, -8.43019962310791, -8.603500366210938, -8.692999839782715, -8.778499603271484, -8.91919994354248, -8.94219970703125, -8.966400146484375, -9.128899574279785, -9.253299713134766, -9.329899787902832, -9.543299674987793, -9.581399917602539, -9.592599868774414, -9.713299751281738, -9.799599647521973, -9.812800407409668, -9.93529987335205, -9.974800109863281, -9.940500259399414, -9.695500373840332, -9.957200050354004, -10.02810001373291, -9.972100257873535, -10.033900260925293, -10.061200141906738, -10.012499809265137, -10.075799942016602, -10.169300079345703, -8.543999671936035, -6.973999977111816, -6.244200229644775, -4.457799911499023, -7.3358001708984375, -5.844799995422363, -6.877799987792969, -5.590700149536133, -7.905200004577637, -7.1041998863220215, -4.161799907684326, -4.060800075531006, -6.35230016708374, -5.690999984741211, -5.645599842071533, -3.7144999504089355, -7.173900127410889, -6.470300197601318, -5.71750020980835, -5.044400215148926, -7.375100135803223, -5.040900230407715, -6.088900089263916, -5.442699909210205, -5.384300231933594, -3.965399980545044, -6.372799873352051, -4.074999809265137, -4.820099830627441, -5.191500186920166, -5.612599849700928, -5.279799938201904, -6.203199863433838, -5.329500198364258, -5.139900207519531, -4.863100051879883, -4.281799793243408, -5.618199825286865, -4.299099922180176, -4.850599765777588, -5.190499782562256, -5.229400157928467, -4.693399906158447, -4.55049991607666, -4.143199920654297, -4.311699867248535, -5.368800163269043, -5.058000087738037, -4.906899929046631, -5.156599998474121, -5.371399879455566, -5.120100021362305, -5.3109002113342285, -5.115200042724609, -5.302299976348877, -5.286799907684326, -5.348100185394287, -6.344299793243408, -6.527599811553955, -6.737599849700928, -6.9070000648498535, -7.183700084686279, -7.230599880218506, -7.276500225067139, -7.28849983215332, -7.342199802398682, -7.395699977874756, -7.525400161743164, -7.580699920654297, -7.591000080108643, -7.7677001953125, -7.803800106048584, -7.830900192260742, -7.859399795532227, -7.897600173950195, -7.898399829864502, -8.015899658203125, -8.070799827575684, -8.19379997253418, -8.207200050354004, -8.22760009765625, -8.255200386047363, -8.338399887084961, -8.354100227355957, -8.464300155639648, -8.592900276184082, -6.310400009155273, -6.406899929046631, -5.992499828338623, -6.276100158691406, -6.26039981842041, -4.705999851226807, -5.827300071716309, -6.915800094604492, -2.814300060272217, -6.900100231170654, -6.133800029754639, -6.759900093078613, -6.318299770355225, -6.025899887084961, -5.81220006942749, -7.018899917602539, -5.196700096130371, -5.074399948120117, -4.940000057220459, -5.219299793243408, -6.671899795532227, -5.531400203704834, -6.070000171661377, -6.1269001960754395, -6.72130012512207, -4.0229997634887695, -4.391300201416016, -5.691999912261963, -5.276599884033203, -6.155399799346924, -5.297399997711182, -3.99780011177063, -5.10230016708374, -5.228300094604492, -5.11359977722168, -5.591700077056885, -5.557300090789795, -5.895299911499023, -5.084099769592285, -5.350500106811523, -5.2947998046875, -5.46589994430542, -5.475299835205078, -5.7617998123168945, -5.316699981689453, -5.511099815368652, -5.624599933624268, -5.432700157165527, -5.4791998863220215, -5.5945000648498535, -5.529399871826172, -4.904099941253662, -5.06790018081665, -5.311100006103516, -5.599100112915039, -5.9506001472473145, -6.4633002281188965, -6.9309000968933105, -7.004899978637695, -7.142600059509277, -7.222400188446045, -7.237599849700928, -7.3302998542785645, -7.45389986038208, -7.504300117492676, -7.587399959564209, -7.645500183105469, -7.714300155639648, -7.709400177001953, -7.7820000648498535, -7.936399936676025, -7.94950008392334, -7.956399917602539, -8.044500350952148, -8.07390022277832, -8.106800079345703, -8.119999885559082, -8.165300369262695, -8.198800086975098, -8.212699890136719, -8.20259952545166, -5.598499774932861, -5.548299789428711, -5.828400135040283, -3.4066998958587646, -6.234899997711182, -6.39739990234375, -7.21750020980835, -6.468200206756592, -6.533299922943115, -7.395100116729736, -6.333600044250488, -6.100900173187256, -7.004499912261963, -4.476099967956543, -4.371399879455566, -4.470900058746338, -6.324100017547607, -4.257400035858154, -5.638700008392334, -5.697000026702881, -4.571199893951416, -5.607999801635742, -4.230100154876709, -5.701099872589111, -4.951600074768066, -3.7126998901367188, -4.056399822235107, -5.269700050354004, -5.699900150299072, -5.300099849700928, -4.66379976272583, -5.446599960327148, -4.797500133514404, -5.064499855041504, -4.820400238037109, -5.29640007019043, -5.011199951171875, -4.855000019073486, -5.3765997886657715, -5.391200065612793, -5.208199977874756, -5.303699970245361, -5.43149995803833, -5.5528998374938965, -5.552299976348877, -3.9354000091552734, -6.183000087738037, -6.439799785614014, -6.493299961090088, -6.828800201416016, -7.0671000480651855, -7.480800151824951, -7.538300037384033, -7.9004998207092285, -7.961100101470947, -8.138400077819824, -8.145000457763672, -8.259699821472168, -8.269599914550781, -8.313599586486816, -8.3193998336792, -8.381199836730957, -8.470399856567383, -8.46660041809082, -8.51550006866455, -8.528499603271484, -8.564000129699707, -8.61460018157959, -7.439599990844727, -8.688199996948242, -8.729599952697754, -8.793899536132812, -8.819899559020996, -8.903200149536133, -8.963899612426758, -8.932700157165527, -7.198299884796143, -5.650599956512451, -7.7459001541137695, -7.902200222015381, -5.627399921417236, -6.119200229644775, -7.371300220489502, -7.6859002113342285, -6.202899932861328, -6.420899868011475, -5.7418999671936035, -8.135899543762207, -4.61460018157959, -7.763000011444092, -7.418499946594238, -6.778800010681152, -5.449699878692627, -7.18209981918335, -5.6946001052856445, -6.511899948120117, -6.567399978637695, -4.6605000495910645, -6.23769998550415, -5.438000202178955, -6.213500022888184, -5.787199974060059, -5.784800052642822, -5.722700119018555, -3.5197999477386475, -4.76639986038208, -4.458199977874756, -5.032199859619141, -5.171999931335449, -5.693900108337402, -4.168600082397461, -6.113800048828125, -4.723700046539307, -5.385799884796143, -5.498700141906738, -4.6855998039245605, -5.740900039672852, -5.039700031280518, -5.118899822235107, -5.335899829864502, -5.045899868011475, -4.999899864196777, -5.219099998474121, -5.106299877166748, -5.442800045013428, -5.616099834442139, -5.370699882507324, -5.542200088500977, -5.4131999015808105, -5.559700012207031, -5.6468000411987305]}, \"token.table\": {\"Topic\": [3, 5, 3, 1, 2, 4, 5, 3, 3, 1, 2, 3, 4, 5, 5, 3, 1, 2, 1, 2, 3, 4, 5, 1, 2, 3, 4, 5, 3, 5, 1, 2, 3, 3, 1, 1, 3, 5, 3, 4, 5, 2, 4, 5, 3, 1, 4, 1, 3, 5, 4, 1, 2, 3, 4, 5, 1, 2, 3, 4, 5, 2, 3, 4, 1, 2, 3, 4, 5, 4, 1, 2, 3, 3, 5, 5, 2, 3, 4, 1, 1, 2, 3, 4, 5, 1, 2, 3, 4, 5, 3, 5, 1, 2, 3, 4, 5, 2, 1, 2, 3, 4, 5, 4, 5, 2, 2, 3, 2, 3, 3, 5, 3, 5, 1, 3, 5, 2, 1, 2, 3, 4, 5, 1, 2, 3, 4, 5, 3, 1, 4, 1, 5, 1, 4, 5, 1, 4, 1, 2, 3, 4, 5, 1, 2, 3, 1, 4, 5, 1, 2, 3, 4, 5, 5, 5, 2, 3, 4, 5, 1, 2, 3, 4, 5, 1, 2, 3, 4, 5, 1, 3, 5, 5, 4, 5, 1, 5, 5, 4, 5, 1, 2, 4, 5, 3, 4, 4, 1, 2, 3, 4, 5, 4, 5, 4, 5, 1, 2, 3, 4, 5, 1, 2, 3, 4, 5, 3, 4, 5, 1, 1, 1, 2, 3, 4, 5, 1, 5, 2, 4, 2, 1, 5, 1, 2, 5, 2, 3, 4, 5, 5, 2, 2, 3, 4, 1, 2, 3, 4, 5, 2, 3, 4, 1, 2, 3, 4, 1, 2, 3, 4, 5, 1, 2, 3, 4, 5, 3, 2, 4, 3, 5, 1, 2, 1, 3, 5, 3, 3, 4, 2, 3, 5, 2, 4, 5, 4, 1, 2, 3, 4, 5, 2, 5, 2, 3, 4, 1, 2, 3, 4, 5, 1, 2, 4, 5, 1, 3, 5, 2, 4, 5, 1, 3, 1, 2, 3, 4, 5, 3, 1, 2, 3, 5, 4, 4, 1, 3, 4, 5, 1, 3, 2, 1, 2, 3, 4, 5, 1, 4, 5, 1, 3, 2, 3, 4, 5, 5, 2, 2, 1, 3, 3, 3, 1, 2, 3, 1, 1, 2, 4, 5, 1, 2, 3, 4, 5, 1, 5, 3, 1, 2, 3, 5, 1, 2, 3, 4, 1, 2, 3, 4, 5, 5, 1, 2, 3, 4, 5, 1, 1, 2, 3, 4, 5, 1, 5, 1, 2, 4, 5, 4, 5, 5, 1, 2, 3, 4, 5, 2, 2, 2, 1, 2, 3, 4, 1, 2, 5, 1, 1, 2, 3, 4, 5, 2, 3, 4, 5, 1, 2, 3, 5, 1, 2, 3, 5, 5, 3, 4, 1, 2, 3, 4, 5, 3, 4, 5, 1, 2, 1, 2, 1, 2, 3, 5, 1, 2, 5, 1, 2, 3, 5, 1, 2, 3, 4, 2, 1, 1, 2, 3, 4, 5, 1, 2, 3, 4, 5, 3, 1, 2, 3, 5, 1, 2, 3, 5, 1, 2, 3, 5, 1, 4, 1, 2, 3, 4, 5, 1, 2, 3, 4, 5, 1, 1, 2, 3, 4, 5, 1, 5, 5, 1, 1, 4, 3, 4, 1, 2, 3, 5, 1, 2, 4, 2, 4, 1, 2, 3, 2, 3, 4, 5, 5, 1, 3, 4, 1, 2, 3, 4, 4, 3, 4, 4, 2, 3, 5, 3, 4, 1, 2, 4, 5, 1, 2, 3, 4, 5, 3, 4, 5, 2, 3, 1, 2, 3, 4, 5, 1, 2, 3, 4, 5, 1, 3, 5, 2, 2, 2, 3, 4, 3, 4, 4, 5, 1, 2, 3, 4, 3, 1, 2, 3, 4, 5, 1, 2, 4, 5, 1, 4, 1, 3, 5, 5, 1, 2, 3, 4, 5, 5, 5, 1, 4, 4, 1, 2, 3, 4, 5, 1, 1, 4, 5, 5, 5, 5, 1, 3, 4, 5, 4, 5, 4, 1, 2, 3, 4, 5, 1, 2, 3, 5, 2, 4, 2, 4, 5, 2, 4, 5, 2, 4, 5, 4, 4, 5, 2, 1, 2, 3, 4, 1, 2, 3, 4, 5, 4, 1, 2, 5, 2, 2, 3, 4, 1, 2, 3, 4, 5, 3, 4, 5, 1, 1, 1, 2, 3, 4, 5, 3, 3, 1, 2, 3, 4, 5, 1, 2, 3, 4, 5, 2, 2, 2, 3, 4, 2, 3, 5, 1, 2, 3, 4, 5, 1, 2, 3, 4, 5, 1, 2, 3, 4, 5, 2, 3, 5, 1, 4, 5, 1, 2, 3, 4, 1, 2, 3, 4, 5, 2, 2, 3, 4, 5, 2, 3, 4, 5, 4, 5, 1, 1, 5, 1, 3, 4, 5, 4, 5, 4, 5, 1, 2, 4, 4, 1, 2, 3, 4, 5, 1, 2, 3, 4, 5, 1, 2, 3, 1, 1, 2, 3, 4, 5, 1, 3, 5, 3, 3, 1, 2, 3, 4, 5, 1, 2, 3, 1, 2, 3, 4, 5, 3, 3, 1, 1, 5, 2, 1, 2, 3, 4, 5, 4, 2, 1, 2, 3, 4, 5, 4, 3, 4, 5, 1, 2, 3, 4, 5, 4, 1, 3, 5, 1, 2, 3, 4, 5, 2, 1, 2, 3, 4, 5, 1, 2, 3, 5, 1, 2, 3, 4, 1, 2, 4, 5, 3, 4, 4, 3, 2, 5], \"Freq\": [0.8484213948249817, 0.15146352350711823, 0.999356210231781, 0.1273328959941864, 0.6117967963218689, 0.20746928453445435, 0.05338086560368538, 0.9991623163223267, 0.9997038841247559, 0.005070842802524567, 0.06273122876882553, 0.5348103046417236, 0.3695172071456909, 0.027889635413885117, 0.9979611039161682, 0.9993082284927368, 0.9905325770378113, 0.009257313795387745, 0.08637296408414841, 0.107576385140419, 0.2959916889667511, 0.27485090494155884, 0.23521457612514496, 0.09001437574625015, 0.15827947854995728, 0.19996672868728638, 0.2553005814552307, 0.2964375615119934, 0.9271820187568665, 0.07238349318504333, 0.10234208405017853, 0.7242336869239807, 0.17341800034046173, 0.9984925389289856, 0.9986859560012817, 0.0005793693708255887, 0.8290775418281555, 0.1700449138879776, 0.8935553431510925, 0.020122775807976723, 0.08604221045970917, 0.9934679269790649, 0.9990918040275574, 0.9996761083602905, 0.9983199834823608, 0.9686529636383057, 0.03114962950348854, 0.18969853222370148, 0.13808734714984894, 0.6722264289855957, 0.9994394779205322, 0.21138495206832886, 0.2631475627422333, 0.09881383180618286, 0.3588832914829254, 0.06778138875961304, 0.33590197563171387, 0.0066255321726202965, 0.051254115998744965, 0.0022501808125525713, 0.603798508644104, 0.7111250758171082, 0.0896238163113594, 0.19919009506702423, 0.41126251220703125, 0.041541121900081635, 0.19841139018535614, 0.11831946671009064, 0.2304697185754776, 0.9993966817855835, 0.02677074261009693, 0.030707616358995438, 0.9424875974655151, 0.9988539218902588, 0.9999902844429016, 0.9998968243598938, 0.7014288902282715, 0.047411102801561356, 0.2509436011314392, 0.9968679547309875, 0.5158001184463501, 0.147881418466568, 0.1993209719657898, 0.1120668426156044, 0.024871231988072395, 0.18246494233608246, 0.23734846711158752, 0.16105853021144867, 0.1612955778837204, 0.25784316658973694, 0.036936286836862564, 0.9627264142036438, 0.36272379755973816, 0.17666171491146088, 0.1450604349374771, 0.0780213475227356, 0.23751872777938843, 0.9950198531150818, 0.15081624686717987, 0.6205918788909912, 0.050197798758745193, 0.11671963334083557, 0.061619050800800323, 0.9327805638313293, 0.0666915625333786, 0.9988182783126831, 0.00621382612735033, 0.9935217499732971, 0.10319797694683075, 0.8965454697608948, 0.03030211664736271, 0.968152642250061, 0.047781724482774734, 0.9515555500984192, 0.04296203702688217, 0.08958560973405838, 0.8672960996627808, 0.9891217350959778, 0.7012714147567749, 0.05903715640306473, 0.0950033962726593, 0.139457106590271, 0.005251915659755468, 0.01375674270093441, 0.29492372274398804, 0.11265774071216583, 0.3600512742996216, 0.2185998409986496, 0.9988719820976257, 0.9489632844924927, 0.05083731934428215, 0.04928877577185631, 0.9507046341896057, 0.10477405786514282, 0.8020905256271362, 0.09300168603658676, 0.9800043106079102, 0.019360385835170746, 0.1295008808374405, 0.31496942043304443, 0.1415652483701706, 0.3060273230075836, 0.10794217884540558, 0.9996959567070007, 0.09056739509105682, 0.9093122482299805, 0.9330512285232544, 0.010162316262722015, 0.056457314640283585, 0.8409366011619568, 0.07414031773805618, 0.025800831615924835, 0.05289911851286888, 0.006227786652743816, 0.9984751343727112, 0.9990077614784241, 0.7490894794464111, 0.009999353438615799, 0.1730060577392578, 0.06792664527893066, 0.1017182320356369, 0.4913142919540405, 0.09491218626499176, 0.17886018753051758, 0.13319118320941925, 0.23798026144504547, 0.5922170281410217, 0.11010942608118057, 0.03370985761284828, 0.02597641944885254, 0.0252706166356802, 0.10008054971694946, 0.8745636940002441, 0.9956791996955872, 0.9985190629959106, 0.9984583854675293, 0.001555554918013513, 0.997888445854187, 0.9998056292533875, 0.7116134166717529, 0.28835850954055786, 0.00646979408338666, 0.10408478230237961, 0.20681248605251312, 0.6826421618461609, 0.027376318350434303, 0.9725162982940674, 0.9994025230407715, 0.213889941573143, 0.24797286093235016, 0.13238264620304108, 0.40501049160957336, 0.0007471205317415297, 0.9365223050117493, 0.0632728710770607, 0.9717934131622314, 0.02823297306895256, 0.3550419509410858, 0.09366428852081299, 0.25190940499305725, 0.07180928438901901, 0.2275770604610443, 0.6827232837677002, 0.033193331211805344, 0.1740178018808365, 0.0698472410440445, 0.0401851162314415, 0.03294285014271736, 0.8894569277763367, 0.07752550393342972, 0.9987959265708923, 0.9990018606185913, 0.5186517834663391, 0.39585787057876587, 0.042830392718315125, 0.022465752437710762, 0.020203014835715294, 0.9993478655815125, 0.9977842569351196, 0.9970579743385315, 0.9999721646308899, 0.9966601133346558, 0.9235198497772217, 0.07641177624464035, 0.9314554333686829, 0.0638783872127533, 0.005010069813579321, 0.8064985275268555, 0.012678222730755806, 0.15377457439899445, 0.026992345228791237, 0.9970281720161438, 0.997713565826416, 0.9380536079406738, 0.033032700419425964, 0.029091298580169678, 0.0003166201349813491, 0.4746531546115875, 0.045474566519260406, 0.08358771353960037, 0.39593347907066345, 0.708413302898407, 0.048897940665483475, 0.24268518388271332, 0.3300284147262573, 0.27659910917282104, 0.1268504112958908, 0.26651474833488464, 0.1384432315826416, 0.24692264199256897, 0.17781254649162292, 0.43625974655151367, 0.0005204632761888206, 0.5172106623649597, 0.16075411438941956, 0.13632741570472717, 0.1337692141532898, 0.05194800719618797, 0.9994499087333679, 0.9874735474586487, 0.011826029978692532, 0.9994867444038391, 0.9955474138259888, 0.04479270428419113, 0.9549170732498169, 0.0016253625508397818, 0.8950746655464172, 0.10327303409576416, 0.999090850353241, 0.921425998210907, 0.0784469023346901, 0.05020380765199661, 0.017069293186068535, 0.9317826628684998, 0.005403743125498295, 0.24071219563484192, 0.7538221478462219, 0.9995501041412354, 0.1644149124622345, 0.07698453217744827, 0.1529674082994461, 0.5986334085464478, 0.006940055172890425, 0.9994053244590759, 0.9985742568969727, 0.22291865944862366, 0.7770748734474182, 0.9987087845802307, 0.8329575657844543, 0.02982114814221859, 0.004417947959154844, 0.048829950392246246, 0.0839991420507431, 0.9460071325302124, 0.029153678566217422, 0.0007139676599763334, 0.024036910384893417, 0.9985707402229309, 0.10758021473884583, 0.8919625878334045, 0.9936496019363403, 0.11914782971143723, 0.8807774186134338, 0.9975459575653076, 0.9984853863716125, 0.31036698818206787, 0.0787072479724884, 0.16117340326309204, 0.10775091499090195, 0.3419796824455261, 0.9995304346084595, 0.061462581157684326, 0.06783647835254669, 0.8707957863807678, 0.9989737868309021, 0.9992262125015259, 0.9994916319847107, 0.005107502918690443, 0.715917706489563, 0.24496740102767944, 0.033969711512327194, 0.9966756105422974, 0.9996981024742126, 0.9955440163612366, 0.22974930703639984, 0.18941324949264526, 0.1812475025653839, 0.22651010751724243, 0.17308175563812256, 0.0010017217136919498, 0.8806997537612915, 0.1182846948504448, 0.045909564942121506, 0.9540647864341736, 0.0005887727602384984, 0.3272217810153961, 0.5907202363014221, 0.08145444840192795, 0.9973617792129517, 0.9961767196655273, 0.9961385726928711, 0.8480782508850098, 0.15177813172340393, 0.9999673962593079, 0.9996635317802429, 0.9978635907173157, 0.9907960891723633, 0.9994379281997681, 0.9986569285392761, 0.26823437213897705, 0.05837153270840645, 0.1685907244682312, 0.5048107504844666, 0.04406202211976051, 0.24796773493289948, 0.22641222178936005, 0.42609137296676636, 0.05547376722097397, 0.9377595782279968, 0.061885442584753036, 0.9989219903945923, 0.7730720043182373, 0.052657730877399445, 0.06458934396505356, 0.10966049879789352, 0.06399545073509216, 0.13957856595516205, 0.6828815340995789, 0.11350633949041367, 0.12816433608531952, 0.4003932774066925, 0.11354710161685944, 0.24638529121875763, 0.11149656027555466, 0.99776691198349, 0.27908775210380554, 0.26134395599365234, 0.20557186007499695, 0.15101847052574158, 0.10299248993396759, 0.9988883137702942, 0.10831976681947708, 0.5401937961578369, 0.11651595681905746, 0.22652700543403625, 0.00845638383179903, 0.9100850224494934, 0.0896184965968132, 0.20753338932991028, 0.16942736506462097, 0.1517520695924759, 0.4713185429573059, 0.9994513392448425, 0.9995604157447815, 0.9994892477989197, 0.14619673788547516, 0.5718085765838623, 0.1256309598684311, 0.07671235501766205, 0.07962750643491745, 0.9979571104049683, 0.9987815618515015, 0.9931060075759888, 0.16357727348804474, 0.4726298451423645, 0.13967211544513702, 0.2241150438785553, 0.9409496784210205, 0.014736632816493511, 0.04420989751815796, 0.9992306232452393, 0.029904384166002274, 0.5660505294799805, 0.0012705960543826222, 0.261107474565506, 0.14167144894599915, 0.6793314218521118, 0.04856954514980316, 0.20359069108963013, 0.06847904622554779, 0.14544224739074707, 0.014090691693127155, 0.4115728437900543, 0.42888325452804565, 0.20146769285202026, 0.03285805508494377, 0.09132379293441772, 0.6744385957717896, 0.9974467754364014, 0.9497688412666321, 0.04996662586927414, 0.3876759707927704, 0.11400200426578522, 0.2293466478586197, 0.11743996292352676, 0.1515347808599472, 0.9983669519424438, 0.14383578300476074, 0.8557971119880676, 0.9782829880714417, 0.02151496708393097, 0.9995748996734619, 0.9947795271873474, 0.6420490145683289, 0.12418035417795181, 0.0003180034691467881, 0.23349404335021973, 0.8233534693717957, 0.008904327638447285, 0.1675497591495514, 0.0777582973241806, 0.43566498160362244, 0.44207504391670227, 0.04450615495443344, 0.19830186665058136, 0.060213733464479446, 0.1612296998500824, 0.580289900302887, 0.9997156858444214, 0.9992401599884033, 0.11499277502298355, 0.4677054286003113, 0.12149610370397568, 0.23184365034103394, 0.06396487355232239, 0.31776857376098633, 0.4801882803440094, 0.02590063214302063, 0.014569791965186596, 0.16156329214572906, 0.9980429410934448, 0.1928362250328064, 0.0004804889322258532, 0.12316533178091049, 0.683415412902832, 0.009731270372867584, 0.014249359257519245, 0.16438895463943481, 0.8116342425346375, 0.16058550775051117, 0.006051674950867891, 0.1573435515165329, 0.6760585308074951, 0.9977917075157166, 0.9997943639755249, 0.32092273235321045, 0.20154325664043427, 0.047232117503881454, 0.04086185619235039, 0.38942399621009827, 0.029698720201849937, 0.006468126084655523, 0.144667387008667, 0.20907534658908844, 0.6100080609321594, 0.9996979832649231, 0.22767400741577148, 0.05191729590296745, 0.16740883886814117, 0.03502098470926285, 0.5179445743560791, 0.8572027683258057, 0.14280052483081818, 0.9985734224319458, 0.9987190961837769, 0.9976058602333069, 0.9995653033256531, 0.9997521042823792, 0.9998113512992859, 0.11612053215503693, 0.398836225271225, 0.42662617564201355, 0.05842148885130882, 0.978118360042572, 0.007995517924427986, 0.013992156833410263, 0.9964874386787415, 0.9995366930961609, 0.9996497631072998, 0.008095379918813705, 0.991684079170227, 0.29187971353530884, 0.15225370228290558, 0.5507110357284546, 0.005123228766024113, 0.9972102046012878, 0.1515648066997528, 0.18658119440078735, 0.6617667078971863, 0.03619306907057762, 0.11668943613767624, 0.17555852234363556, 0.6715410351753235, 0.9999054074287415, 0.03461119532585144, 0.9650754332542419, 0.999957263469696, 0.43278783559799194, 0.5559557676315308, 0.011171852238476276, 0.9806140661239624, 0.019337914884090424, 0.8607854247093201, 0.10946307331323624, 0.001173417316749692, 0.028497278690338135, 0.20016567409038544, 0.48269397020339966, 0.09641741961240768, 0.1814744770526886, 0.03922722861170769, 0.6845481991767883, 0.1533687263727188, 0.16197232902050018, 0.896374523639679, 0.10342782735824585, 0.09407124668359756, 0.3424101173877716, 0.21019567549228668, 0.1556067317724228, 0.19770444929599762, 0.0368555411696434, 0.05964704975485802, 0.730884850025177, 0.05130869150161743, 0.12129531055688858, 0.10383488237857819, 0.1441636085510254, 0.7518757581710815, 0.9937738180160522, 0.9985625743865967, 0.6745901107788086, 0.04819426313042641, 0.2772465646266937, 0.03377895429730415, 0.9658023118972778, 0.920404314994812, 0.07956037670373917, 0.0075492835603654385, 0.6199755668640137, 0.04208165034651756, 0.33041197061538696, 0.9970272779464722, 0.4907158315181732, 0.2760416865348816, 0.07505461573600769, 0.0840858519077301, 0.07404491305351257, 0.14405925571918488, 0.5810866951942444, 0.15823513269424438, 0.1166401207447052, 0.999054491519928, 0.9994103908538818, 0.0037073290441185236, 0.1340492218732834, 0.8620515465736389, 0.9975721836090088, 0.10811082273721695, 0.34209969639778137, 0.3429611325263977, 0.08477116376161575, 0.12208231538534164, 0.9992353320121765, 0.9975547790527344, 0.9980183243751526, 0.9997332692146301, 0.9999544024467468, 0.5154213905334473, 0.0907420814037323, 0.19001106917858124, 0.10577322542667389, 0.09803952276706696, 0.9991276264190674, 0.042900294065475464, 0.021790625527501106, 0.9356350302696228, 0.9987872838973999, 0.9992067217826843, 0.9977013468742371, 0.0003172288998030126, 0.14918822050094604, 0.4455706477165222, 0.4049200117588043, 0.18471784889698029, 0.8149896264076233, 0.9993252158164978, 0.3101034462451935, 0.15489459037780762, 0.06250634044408798, 0.06553452461957932, 0.4069768488407135, 0.652614414691925, 0.10162777453660965, 0.09702277183532715, 0.14876295626163483, 0.8069691061973572, 0.192611962556839, 0.8583646416664124, 0.11444862186908722, 0.02719169296324253, 0.8076224327087402, 0.0892033502459526, 0.10315977036952972, 0.7421143651008606, 0.17054109275341034, 0.0873185247182846, 0.9986176490783691, 0.99961256980896, 0.9970417618751526, 0.9887508153915405, 0.01807471364736557, 0.2286481112241745, 0.2840851843357086, 0.4691869616508484, 0.08272470533847809, 0.17277996242046356, 0.37545549869537354, 0.04365571215748787, 0.3254111409187317, 0.9987587332725525, 0.10214065760374069, 0.896979033946991, 0.0008722258498892188, 0.9978519082069397, 0.8173549771308899, 0.1324603259563446, 0.050287555903196335, 0.3110097050666809, 0.21190762519836426, 0.13174490630626678, 0.13197961449623108, 0.21337005496025085, 0.9456074237823486, 0.05437398701906204, 0.999759316444397, 0.9983883500099182, 0.9999346733093262, 0.12773409485816956, 0.20926780998706818, 0.5842111706733704, 0.03713417053222656, 0.04160517454147339, 0.9995266199111938, 0.9993903040885925, 0.09232540428638458, 0.4719652831554413, 0.09886384010314941, 0.25849059224128723, 0.078358493745327, 0.36574459075927734, 0.3528662621974945, 0.0785578116774559, 0.16985918581485748, 0.032989490777254105, 0.9972529411315918, 0.991697371006012, 0.0976356491446495, 0.6310237646102905, 0.27135738730430603, 0.22179435193538666, 0.6526942849159241, 0.1254633516073227, 0.02667888253927231, 0.5695984959602356, 0.07782065123319626, 0.24349911510944366, 0.08238299936056137, 0.16943901777267456, 0.26433876156806946, 0.03549886494874954, 0.26133885979652405, 0.26938027143478394, 0.14646373689174652, 0.105353944003582, 0.14154668152332306, 0.030872654169797897, 0.5756984353065491, 0.9333573579788208, 0.026699136942625046, 0.04004870727658272, 0.06095767393708229, 0.6720252633094788, 0.26693829894065857, 0.7976893186569214, 0.019637154415249825, 0.11221231520175934, 0.07041322439908981, 0.699977457523346, 0.11926206201314926, 0.07741376012563705, 0.10097446292638779, 0.0023560707923024893, 0.9965382814407349, 0.6043815016746521, 0.19446517527103424, 0.14170977473258972, 0.059436049312353134, 0.5268535017967224, 0.04741926118731499, 0.1969454437494278, 0.228779599070549, 0.11576113849878311, 0.8841617107391357, 0.9994552731513977, 0.9785208106040955, 0.021068628877401352, 0.9794731140136719, 0.020421644672751427, 0.9384825229644775, 0.06126445531845093, 0.9835608005523682, 0.016417909413576126, 0.9227654337882996, 0.07705939561128616, 0.9985607862472534, 0.1267756223678589, 0.8732482194900513, 0.9994935989379883, 0.0457836352288723, 0.196616530418396, 0.14125947654247284, 0.5560154914855957, 0.06033315509557724, 0.01423509418964386, 0.4082487225532532, 0.33773908019065857, 0.14325785636901855, 0.09651163965463638, 0.0766630694270134, 0.8981883525848389, 0.02460789866745472, 0.9981932640075684, 0.39539796113967896, 0.12984155118465424, 0.1717350035905838, 0.1551336646080017, 0.14787328243255615, 0.9993675351142883, 0.8294885158538818, 0.1704508364200592, 0.9992315173149109, 0.9992760419845581, 0.23042623698711395, 0.3186883330345154, 0.18475371599197388, 0.25839662551879883, 0.007757119834423065, 0.24072495102882385, 0.6857547760009766, 0.07354505360126495, 0.00025808034115470946, 0.6095341444015503, 0.10989060252904892, 0.18752117455005646, 0.0927540734410286, 0.9991468191146851, 0.9996562004089355, 0.9984853863716125, 0.03961639106273651, 0.958919882774353, 0.9933726787567139, 0.7501035332679749, 0.1714119017124176, 0.036854345351457596, 0.023210395127534866, 0.018348759040236473, 0.9996730089187622, 0.9963812232017517, 0.7145895957946777, 0.15630465745925903, 0.04247957095503807, 0.005420241970568895, 0.08117757737636566, 0.9990713596343994, 0.16908098757266998, 0.26625943183898926, 0.5646341443061829, 0.0251377634704113, 0.04801120609045029, 0.6523153185844421, 0.13743256032466888, 0.1370871514081955, 0.9991059899330139, 0.2199896275997162, 0.1780185103416443, 0.6019447445869446, 0.381936639547348, 0.10266849398612976, 0.11501958966255188, 0.13000231981277466, 0.2703907787799835, 0.9948129653930664, 0.0962873250246048, 0.41705846786499023, 0.34857502579689026, 0.09684713184833527, 0.041239336133003235, 0.7736083269119263, 0.12234663963317871, 0.011209577322006226, 0.09284774959087372, 0.0008206188795156777, 0.8734901547431946, 0.08124126493930817, 0.044430650770664215, 0.8234829306602478, 0.009411681443452835, 0.06556805223226547, 0.10152851790189743, 0.9992305040359497, 0.9999130368232727, 0.9993276000022888, 0.9979715347290039, 0.9990507960319519, 0.9989713430404663], \"Term\": [\"\\u0430\\u0432\\u0430\\u043d\\u0433\\u0430\\u0440\\u0434\", \"\\u0430\\u0432\\u0430\\u043d\\u0433\\u0430\\u0440\\u0434\", \"\\u0430\\u0432\\u0442\\u043e\\u0440\\u0438\\u0437\\u0430\\u0446\\u0438\\u044f\", \"\\u0430\\u0434\\u0440\\u0435\\u0441\", \"\\u0430\\u0434\\u0440\\u0435\\u0441\", \"\\u0430\\u0434\\u0440\\u0435\\u0441\", \"\\u0430\\u0434\\u0440\\u0435\\u0441\", \"\\u0430\\u043a\\u0442\\u0438\\u0432\\u0430\\u0446\\u0438\\u044f\", \"\\u0430\\u043a\\u0442\\u0438\\u0432\\u0438\\u0440\\u043e\\u0432\\u0430\\u0442\\u044c\", \"\\u0430\\u043b\\u044c\\u0444\\u0430\", \"\\u0430\\u043b\\u044c\\u0444\\u0430\", \"\\u0430\\u043b\\u044c\\u0444\\u0430\", \"\\u0430\\u043b\\u044c\\u0444\\u0430\", \"\\u0430\\u043b\\u044c\\u0444\\u0430\", \"\\u0430\\u0442\\u043c\\u043e\\u0441\\u0444\\u0435\\u0440\\u0430\", \"\\u0430\\u044d\\u0440\\u043e\\u0444\\u043b\\u043e\\u0442\", \"\\u0431\\u0430\\u0431\\u0443\\u0448\\u043a\\u0430\", \"\\u0431\\u0430\\u0431\\u0443\\u0448\\u043a\\u0430\", \"\\u0431\\u0430\\u043d\\u043a\", \"\\u0431\\u0430\\u043d\\u043a\", \"\\u0431\\u0430\\u043d\\u043a\", \"\\u0431\\u0430\\u043d\\u043a\", \"\\u0431\\u0430\\u043d\\u043a\", \"\\u0431\\u0430\\u043d\\u043a\\u0430\", \"\\u0431\\u0430\\u043d\\u043a\\u0430\", \"\\u0431\\u0430\\u043d\\u043a\\u0430\", \"\\u0431\\u0430\\u043d\\u043a\\u0430\", \"\\u0431\\u0430\\u043d\\u043a\\u0430\", \"\\u0431\\u0430\\u043d\\u043a\\u0438\\u043d\\u0433\", \"\\u0431\\u0430\\u043d\\u043a\\u0438\\u043d\\u0433\", \"\\u0431\\u0430\\u043d\\u043a\\u043e\\u043c\\u0430\\u0442\", \"\\u0431\\u0430\\u043d\\u043a\\u043e\\u043c\\u0430\\u0442\", \"\\u0431\\u0430\\u043d\\u043a\\u043e\\u043c\\u0430\\u0442\", \"\\u0431\\u0432\\u043a\", \"\\u0431\\u0435\\u0439\\u0434\\u0436\\u0438\\u043a\", \"\\u0431\\u0435\\u0441\\u043f\\u043b\\u0430\\u0442\\u043d\\u043e\", \"\\u0431\\u0435\\u0441\\u043f\\u043b\\u0430\\u0442\\u043d\\u043e\", \"\\u0431\\u0435\\u0441\\u043f\\u043b\\u0430\\u0442\\u043d\\u043e\", \"\\u0431\\u0435\\u0441\\u043f\\u043b\\u0430\\u0442\\u043d\\u044b\\u0439\", \"\\u0431\\u0435\\u0441\\u043f\\u043b\\u0430\\u0442\\u043d\\u044b\\u0439\", \"\\u0431\\u0435\\u0441\\u043f\\u043b\\u0430\\u0442\\u043d\\u044b\\u0439\", \"\\u0431\\u043a\", \"\\u0431\\u043a\\u0438\", \"\\u0431\\u043b\\u0430\\u0433\\u043e\\u0434\\u0430\\u0440\\u043d\\u043e\\u0441\\u0442\\u044c\", \"\\u0431\\u043e\\u043d\\u0443\\u0441\\u043d\\u044b\\u0439\", \"\\u0431\\u0443\\u043c\\u0430\\u0436\\u043a\\u0430\", \"\\u0431\\u0443\\u043c\\u0430\\u0436\\u043a\\u0430\", \"\\u0431\\u044b\\u0441\\u0442\\u0440\\u043e\", \"\\u0431\\u044b\\u0441\\u0442\\u0440\\u043e\", \"\\u0431\\u044b\\u0441\\u0442\\u0440\\u043e\", \"\\u0431\\u044e\\u0440\\u043e\", \"\\u0432\\u0430\\u0448\", \"\\u0432\\u0430\\u0448\", \"\\u0432\\u0430\\u0448\", \"\\u0432\\u0430\\u0448\", \"\\u0432\\u0430\\u0448\", \"\\u0432\\u0435\\u0436\\u043b\\u0438\\u0432\\u044b\\u0439\", \"\\u0432\\u0435\\u0436\\u043b\\u0438\\u0432\\u044b\\u0439\", \"\\u0432\\u0435\\u0436\\u043b\\u0438\\u0432\\u044b\\u0439\", \"\\u0432\\u0435\\u0436\\u043b\\u0438\\u0432\\u044b\\u0439\", \"\\u0432\\u0435\\u0436\\u043b\\u0438\\u0432\\u044b\\u0439\", \"\\u0432\\u0435\\u0440\\u043d\\u0443\\u0442\\u044c\", \"\\u0432\\u0435\\u0440\\u043d\\u0443\\u0442\\u044c\", \"\\u0432\\u0435\\u0440\\u043d\\u0443\\u0442\\u044c\", \"\\u0432\\u0435\\u0441\\u044c\", \"\\u0432\\u0435\\u0441\\u044c\", \"\\u0432\\u0435\\u0441\\u044c\", \"\\u0432\\u0435\\u0441\\u044c\", \"\\u0432\\u0435\\u0441\\u044c\", \"\\u0432\\u0437\\u044b\\u0441\\u043a\\u0430\\u043d\\u0438\\u0435\", \"\\u0432\\u0438\\u0437\\u0430\", \"\\u0432\\u0438\\u0437\\u0430\", \"\\u0432\\u0438\\u0437\\u0430\", \"\\u0432\\u0438\\u0440\\u0442\\u0443\\u0430\\u043b\\u044c\\u043d\\u044b\\u0439\", \"\\u0432\\u043a\\u043b\\u0430\\u0434\", \"\\u0432\\u043a\\u043b\\u0430\\u0434\\u0447\\u0438\\u043a\", \"\\u0432\\u043e\\u0437\\u0432\\u0440\\u0430\\u0442\", \"\\u0432\\u043e\\u0437\\u0432\\u0440\\u0430\\u0442\", \"\\u0432\\u043e\\u0437\\u0432\\u0440\\u0430\\u0442\", \"\\u0432\\u043e\\u043a\\u0440\\u0443\\u0433\", \"\\u0432\\u043e\\u043e\\u0431\\u0449\\u0435\", \"\\u0432\\u043e\\u043e\\u0431\\u0449\\u0435\", \"\\u0432\\u043e\\u043e\\u0431\\u0449\\u0435\", \"\\u0432\\u043e\\u043e\\u0431\\u0449\\u0435\", \"\\u0432\\u043e\\u043e\\u0431\\u0449\\u0435\", \"\\u0432\\u043e\\u043f\\u0440\\u043e\\u0441\", \"\\u0432\\u043e\\u043f\\u0440\\u043e\\u0441\", \"\\u0432\\u043e\\u043f\\u0440\\u043e\\u0441\", \"\\u0432\\u043e\\u043f\\u0440\\u043e\\u0441\", \"\\u0432\\u043e\\u043f\\u0440\\u043e\\u0441\", \"\\u0432\\u043e\\u0441\\u0442\\u0440\\u0435\\u0431\\u043e\\u0432\\u0430\\u043d\\u0438\\u0435\", \"\\u0432\\u043e\\u0441\\u0442\\u0440\\u0435\\u0431\\u043e\\u0432\\u0430\\u043d\\u0438\\u0435\", \"\\u0432\\u0440\\u0435\\u043c\\u044f\", \"\\u0432\\u0440\\u0435\\u043c\\u044f\", \"\\u0432\\u0440\\u0435\\u043c\\u044f\", \"\\u0432\\u0440\\u0435\\u043c\\u044f\", \"\\u0432\\u0440\\u0435\\u043c\\u044f\", \"\\u0432\\u0441\\u043f\", \"\\u0432\\u044b\\u0434\\u0430\\u0442\\u044c\", \"\\u0432\\u044b\\u0434\\u0430\\u0442\\u044c\", \"\\u0432\\u044b\\u0434\\u0430\\u0442\\u044c\", \"\\u0432\\u044b\\u0434\\u0430\\u0442\\u044c\", \"\\u0432\\u044b\\u0434\\u0430\\u0442\\u044c\", \"\\u0432\\u044b\\u043f\\u043b\\u0430\\u0442\\u0438\\u0442\\u044c\", \"\\u0432\\u044b\\u043f\\u043b\\u0430\\u0442\\u0438\\u0442\\u044c\", \"\\u0432\\u044b\\u043f\\u043b\\u044e\\u043d\\u0443\\u0442\\u044c\", \"\\u0432\\u044b\\u043f\\u0443\\u0441\\u043a\", \"\\u0432\\u044b\\u043f\\u0443\\u0441\\u043a\", \"\\u0432\\u044b\\u043f\\u0443\\u0441\\u0442\\u0438\\u0442\\u044c\", \"\\u0432\\u044b\\u043f\\u0443\\u0441\\u0442\\u0438\\u0442\\u044c\", \"\\u0432\\u044b\\u0440\\u0430\\u0436\\u0430\\u0442\\u044c\", \"\\u0432\\u044b\\u0440\\u0430\\u0436\\u0430\\u0442\\u044c\", \"\\u0432\\u044b\\u0440\\u0430\\u0437\\u0438\\u0442\\u044c\", \"\\u0432\\u044b\\u0440\\u0430\\u0437\\u0438\\u0442\\u044c\", \"\\u0432\\u044b\\u0441\\u043e\\u043a\\u0438\\u0439\", \"\\u0432\\u044b\\u0441\\u043e\\u043a\\u0438\\u0439\", \"\\u0432\\u044b\\u0441\\u043e\\u043a\\u0438\\u0439\", \"\\u0433\\u0430\\u0442\\u0447\\u0438\\u043d\\u0430\", \"\\u0433\\u043e\\u0432\\u043e\\u0440\\u0438\\u0442\\u044c\", \"\\u0433\\u043e\\u0432\\u043e\\u0440\\u0438\\u0442\\u044c\", \"\\u0433\\u043e\\u0432\\u043e\\u0440\\u0438\\u0442\\u044c\", \"\\u0433\\u043e\\u0432\\u043e\\u0440\\u0438\\u0442\\u044c\", \"\\u0433\\u043e\\u0432\\u043e\\u0440\\u0438\\u0442\\u044c\", \"\\u0433\\u043e\\u0434\", \"\\u0433\\u043e\\u0434\", \"\\u0433\\u043e\\u0434\", \"\\u0433\\u043e\\u0434\", \"\\u0433\\u043e\\u0434\", \"\\u0433\\u043e\\u043b\\u0434\", \"\\u0433\\u043e\\u043b\\u043e\\u0441\", \"\\u0433\\u043e\\u043b\\u043e\\u0441\", \"\\u0433\\u0440\\u0430\\u043c\\u043e\\u0442\\u043d\\u043e\", \"\\u0433\\u0440\\u0430\\u043c\\u043e\\u0442\\u043d\\u043e\", \"\\u0433\\u0440\\u0430\\u0444\\u0438\\u043a\", \"\\u0433\\u0440\\u0430\\u0444\\u0438\\u043a\", \"\\u0433\\u0440\\u0430\\u0444\\u0438\\u043a\", \"\\u0434\\u0430\\u043c\\u0430\", \"\\u0434\\u0430\\u043c\\u0430\", \"\\u0434\\u0430\\u0442\\u044c\", \"\\u0434\\u0430\\u0442\\u044c\", \"\\u0434\\u0430\\u0442\\u044c\", \"\\u0434\\u0430\\u0442\\u044c\", \"\\u0434\\u0430\\u0442\\u044c\", \"\\u0434\\u0432\\u0435\\u0440\\u044c\", \"\\u0434\\u0435\\u0431\\u0435\\u0442\\u043e\\u0432\\u044b\\u0439\", \"\\u0434\\u0435\\u0431\\u0435\\u0442\\u043e\\u0432\\u044b\\u0439\", \"\\u0434\\u0435\\u0432\\u043e\\u0447\\u043a\\u0430\", \"\\u0434\\u0435\\u0432\\u043e\\u0447\\u043a\\u0430\", \"\\u0434\\u0435\\u0432\\u043e\\u0447\\u043a\\u0430\", \"\\u0434\\u0435\\u0432\\u0443\\u0448\\u043a\\u0430\", \"\\u0434\\u0435\\u0432\\u0443\\u0448\\u043a\\u0430\", \"\\u0434\\u0435\\u0432\\u0443\\u0448\\u043a\\u0430\", \"\\u0434\\u0435\\u0432\\u0443\\u0448\\u043a\\u0430\", \"\\u0434\\u0435\\u0432\\u0443\\u0448\\u043a\\u0430\", \"\\u0434\\u0435\\u043b\\u044c\\u0442\\u0430\", \"\\u0434\\u0435\\u043b\\u044c\\u0442\\u0430\\u043a\\u0440\\u0435\\u0434\\u0438\\u0442\", \"\\u0434\\u0435\\u043d\\u0435\\u0436\\u043d\\u044b\\u0439\", \"\\u0434\\u0435\\u043d\\u0435\\u0436\\u043d\\u044b\\u0439\", \"\\u0434\\u0435\\u043d\\u0435\\u0436\\u043d\\u044b\\u0439\", \"\\u0434\\u0435\\u043d\\u0435\\u0436\\u043d\\u044b\\u0439\", \"\\u0434\\u0435\\u043d\\u044c\", \"\\u0434\\u0435\\u043d\\u044c\", \"\\u0434\\u0435\\u043d\\u044c\", \"\\u0434\\u0435\\u043d\\u044c\", \"\\u0434\\u0435\\u043d\\u044c\", \"\\u0434\\u0435\\u043d\\u044c\\u0433\\u0430\", \"\\u0434\\u0435\\u043d\\u044c\\u0433\\u0430\", \"\\u0434\\u0435\\u043d\\u044c\\u0433\\u0430\", \"\\u0434\\u0435\\u043d\\u044c\\u0433\\u0430\", \"\\u0434\\u0435\\u043d\\u044c\\u0433\\u0430\", \"\\u0434\\u0435\\u043f\\u043e\\u0437\\u0438\\u0442\", \"\\u0434\\u0435\\u043f\\u043e\\u0437\\u0438\\u0442\", \"\\u0434\\u0435\\u043f\\u043e\\u0437\\u0438\\u0442\", \"\\u0434\\u0438\\u0440\", \"\\u0434\\u043e\\u0431\\u0440\\u043e\\u0432\\u043e\\u043b\\u044c\\u043d\\u044b\\u0439\", \"\\u0434\\u043e\\u0431\\u0440\\u043e\\u0436\\u0435\\u043b\\u0430\\u0442\\u0435\\u043b\\u044c\\u043d\\u043e\\u0441\\u0442\\u044c\", \"\\u0434\\u043e\\u0431\\u0440\\u043e\\u0436\\u0435\\u043b\\u0430\\u0442\\u0435\\u043b\\u044c\\u043d\\u044b\\u0439\", \"\\u0434\\u043e\\u0431\\u0440\\u043e\\u0436\\u0435\\u043b\\u0430\\u0442\\u0435\\u043b\\u044c\\u043d\\u044b\\u0439\", \"\\u0434\\u043e\\u0432\\u0435\\u0440\\u0435\\u043d\\u043d\\u043e\\u0441\\u0442\\u044c\", \"\\u0434\\u043e\\u0433\\u043e\\u0432\\u043e\\u0440\", \"\\u0434\\u043e\\u0433\\u043e\\u0432\\u043e\\u0440\", \"\\u0434\\u043e\\u043a\\u0443\\u043c\\u0435\\u043d\\u0442\", \"\\u0434\\u043e\\u043a\\u0443\\u043c\\u0435\\u043d\\u0442\", \"\\u0434\\u043e\\u043a\\u0443\\u043c\\u0435\\u043d\\u0442\", \"\\u0434\\u043e\\u043a\\u0443\\u043c\\u0435\\u043d\\u0442\", \"\\u0434\\u043e\\u043b\\u0433\", \"\\u0434\\u043e\\u043b\\u0433\", \"\\u0434\\u043e\\u043b\\u0436\\u043d\\u0438\\u043a\", \"\\u0434\\u043e\\u043b\\u0436\\u043d\\u044b\\u0439\", \"\\u0434\\u043e\\u043b\\u0436\\u043d\\u044b\\u0439\", \"\\u0434\\u043e\\u043b\\u0436\\u043d\\u044b\\u0439\", \"\\u0434\\u043e\\u043b\\u0436\\u043d\\u044b\\u0439\", \"\\u0434\\u043e\\u043b\\u0436\\u043d\\u044b\\u0439\", \"\\u0434\\u043e\\u0441\\u0440\\u043e\\u0447\\u043d\\u043e\", \"\\u0434\\u043e\\u0441\\u0440\\u043e\\u0447\\u043d\\u043e\", \"\\u0434\\u043e\\u0441\\u0440\\u043e\\u0447\\u043d\\u044b\\u0439\", \"\\u0434\\u043e\\u0441\\u0440\\u043e\\u0447\\u043d\\u044b\\u0439\", \"\\u0434\\u0440\\u0443\\u0433\\u043e\\u0439\", \"\\u0434\\u0440\\u0443\\u0433\\u043e\\u0439\", \"\\u0434\\u0440\\u0443\\u0433\\u043e\\u0439\", \"\\u0434\\u0440\\u0443\\u0433\\u043e\\u0439\", \"\\u0434\\u0440\\u0443\\u0433\\u043e\\u0439\", \"\\u0434\\u0443\\u043c\\u0430\\u0442\\u044c\", \"\\u0434\\u0443\\u043c\\u0430\\u0442\\u044c\", \"\\u0434\\u0443\\u043c\\u0430\\u0442\\u044c\", \"\\u0434\\u0443\\u043c\\u0430\\u0442\\u044c\", \"\\u0434\\u0443\\u043c\\u0430\\u0442\\u044c\", \"\\u0435\\u0436\\u0435\\u043c\\u0435\\u0441\\u044f\\u0447\\u043d\\u044b\\u0439\", \"\\u0435\\u0436\\u0435\\u043c\\u0435\\u0441\\u044f\\u0447\\u043d\\u044b\\u0439\", \"\\u0435\\u0436\\u0435\\u043c\\u0435\\u0441\\u044f\\u0447\\u043d\\u044b\\u0439\", \"\\u0435\\u043b\\u0435\", \"\\u0436\\u0430\\u043b\\u043e\\u0431\\u043d\\u044b\\u0439\", \"\\u0436\\u0434\\u0430\\u0442\\u044c\", \"\\u0436\\u0434\\u0430\\u0442\\u044c\", \"\\u0436\\u0434\\u0430\\u0442\\u044c\", \"\\u0436\\u0434\\u0430\\u0442\\u044c\", \"\\u0436\\u0434\\u0430\\u0442\\u044c\", \"\\u0436\\u0435\\u043d\\u0449\\u0438\\u043d\\u0430\", \"\\u0436\\u0438\\u043b\\u044c\\u0451\", \"\\u0437\\u0430\\u0432\\u0442\\u0440\\u0430\\u043a\", \"\\u0437\\u0430\\u0434\\u043e\\u043b\\u0436\\u0435\\u043d\\u043d\\u043e\\u0441\\u0442\\u044c\", \"\\u0437\\u0430\\u0436\\u0435\\u0432\\u0430\\u0442\\u044c\", \"\\u0437\\u0430\\u043b\", \"\\u0437\\u0430\\u043b\", \"\\u0437\\u0430\\u043d\\u044f\\u0442\\u044b\\u0439\", \"\\u0437\\u0430\\u043d\\u044f\\u0442\\u044b\\u0439\", \"\\u0437\\u0430\\u043d\\u044f\\u0442\\u044b\\u0439\", \"\\u0437\\u0430\\u0440\\u0435\\u0433\\u0438\\u0441\\u0442\\u0440\\u0438\\u0440\\u043e\\u0432\\u0430\\u0442\\u044c\", \"\\u0437\\u0430\\u0440\\u0435\\u0433\\u0438\\u0441\\u0442\\u0440\\u0438\\u0440\\u043e\\u0432\\u0430\\u0442\\u044c\", \"\\u0437\\u0430\\u0440\\u0435\\u0433\\u0438\\u0441\\u0442\\u0440\\u0438\\u0440\\u043e\\u0432\\u0430\\u0442\\u044c\", \"\\u0437\\u0430\\u0440\\u0435\\u0433\\u0438\\u0441\\u0442\\u0440\\u0438\\u0440\\u043e\\u0432\\u0430\\u0442\\u044c\", \"\\u0437\\u0430\\u0441\\u0442\\u0440\\u043e\\u0439\\u0449\\u0438\\u043a\", \"\\u0437\\u0430\\u0445\\u0432\\u0430\\u0442\", \"\\u0437\\u0430\\u0447\\u0438\\u0441\\u043b\\u0438\\u0442\\u044c\", \"\\u0437\\u0430\\u0447\\u0438\\u0441\\u043b\\u0438\\u0442\\u044c\", \"\\u0437\\u0430\\u0447\\u0438\\u0441\\u043b\\u0438\\u0442\\u044c\", \"\\u0437\\u0430\\u044f\\u0432\\u043a\\u0430\", \"\\u0437\\u0430\\u044f\\u0432\\u043a\\u0430\", \"\\u0437\\u0430\\u044f\\u0432\\u043a\\u0430\", \"\\u0437\\u0430\\u044f\\u0432\\u043a\\u0430\", \"\\u0437\\u0430\\u044f\\u0432\\u043a\\u0430\", \"\\u0437\\u0430\\u044f\\u0432\\u043b\\u0435\\u043d\\u0438\\u0435\", \"\\u0437\\u0430\\u044f\\u0432\\u043b\\u0435\\u043d\\u0438\\u0435\", \"\\u0437\\u0430\\u044f\\u0432\\u043b\\u0435\\u043d\\u0438\\u0435\", \"\\u0437\\u0432\\u043e\\u043d\\u0438\\u0442\\u044c\", \"\\u0437\\u0432\\u043e\\u043d\\u0438\\u0442\\u044c\", \"\\u0437\\u0432\\u043e\\u043d\\u0438\\u0442\\u044c\", \"\\u0437\\u0432\\u043e\\u043d\\u0438\\u0442\\u044c\", \"\\u0437\\u0432\\u043e\\u043d\\u043e\\u043a\", \"\\u0437\\u0432\\u043e\\u043d\\u043e\\u043a\", \"\\u0437\\u0432\\u043e\\u043d\\u043e\\u043a\", \"\\u0437\\u0432\\u043e\\u043d\\u043e\\u043a\", \"\\u0437\\u0432\\u043e\\u043d\\u043e\\u043a\", \"\\u0437\\u043d\\u0430\\u0442\\u044c\", \"\\u0437\\u043d\\u0430\\u0442\\u044c\", \"\\u0437\\u043d\\u0430\\u0442\\u044c\", \"\\u0437\\u043d\\u0430\\u0442\\u044c\", \"\\u0437\\u043d\\u0430\\u0442\\u044c\", \"\\u0438\\u0431\", \"\\u0438\\u0437\\u043b\\u0438\\u0448\\u0435\\u043a\", \"\\u0438\\u0437\\u043b\\u0438\\u0448\\u0435\\u043a\", \"\\u0438\\u043c\\u0435\\u043d\\u043d\\u043e\\u0439\", \"\\u0438\\u043d\\u0432\\u0435\\u0441\\u0442\\u0438\\u0446\\u0438\\u043e\\u043d\\u043d\\u044b\\u0439\", \"\\u0438\\u043d\\u043a\\u0430\\u0441\\u0441\\u0430\\u0446\\u0438\\u044f\", \"\\u0438\\u043d\\u043a\\u0430\\u0441\\u0441\\u0430\\u0446\\u0438\\u044f\", \"\\u0438\\u043d\\u0442\\u0435\\u0440\\u043d\\u0435\\u0442\", \"\\u0438\\u043d\\u0442\\u0435\\u0440\\u043d\\u0435\\u0442\", \"\\u0438\\u043d\\u0442\\u0435\\u0440\\u043d\\u0435\\u0442\", \"\\u0438\\u043d\\u0442\\u0435\\u0440\\u0444\\u0435\\u0439\\u0441\", \"\\u0438\\u043d\\u0444\\u043e\\u0440\\u043c\\u0438\\u0440\\u043e\\u0432\\u0430\\u043d\\u0438\\u0435\", \"\\u0438\\u043d\\u0444\\u043e\\u0440\\u043c\\u0438\\u0440\\u043e\\u0432\\u0430\\u043d\\u0438\\u0435\", \"\\u0438\\u043f\", \"\\u0438\\u043f\", \"\\u0438\\u043f\", \"\\u0438\\u043f\\u043e\\u0442\\u0435\\u043a\\u0430\", \"\\u0438\\u043f\\u043e\\u0442\\u0435\\u043a\\u0430\", \"\\u0438\\u043f\\u043e\\u0442\\u0435\\u043a\\u0430\", \"\\u0438\\u0441\\u043f\\u043e\\u043b\\u043d\\u0438\\u0442\\u0435\\u043b\\u044c\\u043d\\u044b\\u0439\", \"\\u0438\\u0441\\u0442\\u043e\\u0440\\u0438\\u044f\", \"\\u0438\\u0441\\u0442\\u043e\\u0440\\u0438\\u044f\", \"\\u0438\\u0441\\u0442\\u043e\\u0440\\u0438\\u044f\", \"\\u0438\\u0441\\u0442\\u043e\\u0440\\u0438\\u044f\", \"\\u0438\\u0441\\u0442\\u043e\\u0440\\u0438\\u044f\", \"\\u0439\\u043d\", \"\\u043a\\u0430\\u043f\\u0438\\u0442\\u0430\\u043b\\u0438\\u0437\\u0430\\u0446\\u0438\\u044f\", \"\\u043a\\u0430\\u0440\\u0442\\u0430\", \"\\u043a\\u0430\\u0440\\u0442\\u0430\", \"\\u043a\\u0430\\u0441\\u043a\\u043e\", \"\\u043a\\u0430\\u0441\\u0441\\u0430\", \"\\u043a\\u0430\\u0441\\u0441\\u0430\", \"\\u043a\\u0430\\u0441\\u0441\\u0430\", \"\\u043a\\u0430\\u0441\\u0441\\u0430\", \"\\u043a\\u0430\\u0441\\u0441\\u0430\", \"\\u043a\\u0430\\u0441\\u0441\\u0438\\u0440\", \"\\u043a\\u0430\\u0441\\u0441\\u0438\\u0440\", \"\\u043a\\u0430\\u0441\\u0441\\u0438\\u0440\", \"\\u043a\\u0430\\u0441\\u0441\\u0438\\u0440\", \"\\u043a\\u0430\\u0441\\u0441\\u0438\\u0440\\u0448\\u0430\", \"\\u043a\\u0430\\u0447\\u0435\\u0441\\u0442\\u0432\\u0435\\u043d\\u043d\\u044b\\u0439\", \"\\u043a\\u0430\\u0447\\u0435\\u0441\\u0442\\u0432\\u0435\\u043d\\u043d\\u044b\\u0439\", \"\\u043a\\u0431\\u043a\", \"\\u043a\\u0432\\u0430\\u0440\\u0442\\u0438\\u0440\\u0430\", \"\\u043a\\u0432\\u0430\\u0440\\u0442\\u0438\\u0440\\u0430\", \"\\u043a\\u043b\\u0430\\u0432\\u0438\\u0430\\u0442\\u0443\\u0440\\u0430\", \"\\u043a\\u043b\\u0430\\u0441\\u0441\\u0438\\u043a\", \"\\u043a\\u043b\\u0438\\u0435\\u043d\\u0442\", \"\\u043a\\u043b\\u0438\\u0435\\u043d\\u0442\", \"\\u043a\\u043b\\u0438\\u0435\\u043d\\u0442\", \"\\u043a\\u043b\\u0438\\u0435\\u043d\\u0442\", \"\\u043a\\u043b\\u0438\\u0435\\u043d\\u0442\", \"\\u043a\\u043b\\u0438\\u043a\", \"\\u043a\\u043e\\u0434\", \"\\u043a\\u043e\\u0434\", \"\\u043a\\u043e\\u0434\", \"\\u043a\\u043e\\u043b\\u043b\\u0435\\u043a\\u0442\\u0438\\u0432\", \"\\u043a\\u043e\\u043b\\u043b\\u0435\\u043a\\u0442\\u043e\\u0440\", \"\\u043a\\u043e\\u043b\\u043b\\u0435\\u043a\\u0442\\u043e\\u0440\\u0441\\u043a\\u0438\\u0439\", \"\\u043a\\u043e\\u043c\\u0438\\u0441\\u0441\\u0438\\u044f\", \"\\u043a\\u043e\\u043c\\u0438\\u0441\\u0441\\u0438\\u044f\", \"\\u043a\\u043e\\u043c\\u0438\\u0441\\u0441\\u0438\\u044f\", \"\\u043a\\u043e\\u043c\\u0438\\u0441\\u0441\\u0438\\u044f\", \"\\u043a\\u043e\\u043c\\u043f\", \"\\u043a\\u043e\\u043d\\u0432\\u0435\\u0440\\u0442\\u0430\\u0446\\u0438\\u044f\", \"\\u043a\\u043e\\u0440\\u0440\\u0430\", \"\\u043a\\u043e\\u0442\\u043e\\u0440\\u044b\\u0439\", \"\\u043a\\u043e\\u0442\\u043e\\u0440\\u044b\\u0439\", \"\\u043a\\u043e\\u0442\\u043e\\u0440\\u044b\\u0439\", \"\\u043a\\u043e\\u0442\\u043e\\u0440\\u044b\\u0439\", \"\\u043a\\u043e\\u0442\\u043e\\u0440\\u044b\\u0439\", \"\\u043a\\u0440\\u0435\\u0434\\u0438\\u0442\", \"\\u043a\\u0440\\u0435\\u0434\\u0438\\u0442\", \"\\u043a\\u0440\\u0435\\u0434\\u0438\\u0442\", \"\\u043a\\u0440\\u0435\\u0434\\u0438\\u0442\\u043a\\u0430\", \"\\u043a\\u0440\\u0435\\u0434\\u0438\\u0442\\u043a\\u0430\", \"\\u043a\\u0440\\u0435\\u0434\\u0438\\u0442\\u043d\\u044b\\u0439\", \"\\u043a\\u0440\\u0435\\u0434\\u0438\\u0442\\u043d\\u044b\\u0439\", \"\\u043a\\u0440\\u0435\\u0434\\u0438\\u0442\\u043d\\u044b\\u0439\", \"\\u043a\\u0440\\u0435\\u0434\\u0438\\u0442\\u043d\\u044b\\u0439\", \"\\u043a\\u0443\\u043f\\u043b\\u044f\", \"\\u043a\\u0443\\u043f\\u044e\\u0440\\u043e\\u043f\\u0440\\u0438\\u0435\\u043c\\u043d\\u0438\\u043a\", \"\\u043a\\u0443\\u043f\\u044e\\u0440\\u043e\\u043f\\u0440\\u0438\\u0451\\u043c\\u043d\\u0438\\u043a\", \"\\u043b\\u0430\\u0434\\u043d\\u044b\\u0439\", \"\\u043b\\u0430\\u0434\\u043d\\u044b\\u0439\", \"\\u043b\\u0438\\u043c\\u0438\\u0442\", \"\\u043b\\u043e\\u0433\\u0438\\u043d\", \"\\u043c\\u0430\\u043b\\u044c\\u0447\\u0438\\u043a\", \"\\u043c\\u0430\\u0441\\u043b\\u043e\\u0432\\u043a\\u0430\", \"\\u043c\\u0430\\u0441\\u0442\\u0435\\u0440\\u043a\\u0430\\u0440\\u0434\", \"\\u043c\\u0430\\u0448\\u0438\\u043d\\u043a\\u0430\", \"\\u043c\\u0435\\u043d\\u0435\\u0434\\u0436\\u0435\\u0440\", \"\\u043c\\u0435\\u043d\\u0435\\u0434\\u0436\\u0435\\u0440\", \"\\u043c\\u0435\\u043d\\u0435\\u0434\\u0436\\u0435\\u0440\", \"\\u043c\\u0435\\u043d\\u0435\\u0434\\u0436\\u0435\\u0440\", \"\\u043c\\u0435\\u0441\\u044f\\u0446\", \"\\u043c\\u0435\\u0441\\u044f\\u0446\", \"\\u043c\\u0435\\u0441\\u044f\\u0446\", \"\\u043c\\u0435\\u0441\\u044f\\u0446\", \"\\u043c\\u0435\\u0441\\u044f\\u0446\", \"\\u043c\\u0438\\u043b\\u044b\\u0439\", \"\\u043c\\u0438\\u043b\\u044b\\u0439\", \"\\u043c\\u0438\\u043b\\u044f\", \"\\u043c\\u0438\\u043d\\u0443\\u0442\\u0430\", \"\\u043c\\u0438\\u043d\\u0443\\u0442\\u0430\", \"\\u043c\\u0438\\u043d\\u0443\\u0442\\u0430\", \"\\u043c\\u0438\\u043d\\u0443\\u0442\\u0430\", \"\\u043c\\u043e\\u0431\\u0438\\u043b\\u044c\\u043d\\u044b\\u0439\", \"\\u043c\\u043e\\u0431\\u0438\\u043b\\u044c\\u043d\\u044b\\u0439\", \"\\u043c\\u043e\\u0431\\u0438\\u043b\\u044c\\u043d\\u044b\\u0439\", \"\\u043c\\u043e\\u0431\\u0438\\u043b\\u044c\\u043d\\u044b\\u0439\", \"\\u043c\\u043e\\u0439\", \"\\u043c\\u043e\\u0439\", \"\\u043c\\u043e\\u0439\", \"\\u043c\\u043e\\u0439\", \"\\u043c\\u043e\\u0439\", \"\\u043c\\u043e\\u0441\\u043e\\u0431\\u043b\\u0431\\u0430\\u043d\\u043a\", \"\\u043c\\u043e\\u0447\\u044c\", \"\\u043c\\u043e\\u0447\\u044c\", \"\\u043c\\u043e\\u0447\\u044c\", \"\\u043c\\u043e\\u0447\\u044c\", \"\\u043c\\u043e\\u0447\\u044c\", \"\\u043c\\u0443\\u0436\\u0447\\u0438\\u043d\\u0430\", \"\\u043d\\u0430\\u043f\\u0438\\u0441\\u0430\\u0442\\u044c\", \"\\u043d\\u0430\\u043f\\u0438\\u0441\\u0430\\u0442\\u044c\", \"\\u043d\\u0430\\u043f\\u0438\\u0441\\u0430\\u0442\\u044c\", \"\\u043d\\u0430\\u043f\\u0438\\u0441\\u0430\\u0442\\u044c\", \"\\u043d\\u0430\\u043f\\u0438\\u0441\\u0430\\u0442\\u044c\", \"\\u043d\\u0430\\u0440\\u043e\\u0434\", \"\\u043d\\u0430\\u0440\\u043e\\u0434\", \"\\u043d\\u0430\\u0448\", \"\\u043d\\u0430\\u0448\", \"\\u043d\\u0430\\u0448\", \"\\u043d\\u0430\\u0448\", \"\\u043d\\u0431\\u043a\\u0430\", \"\\u043d\\u0434\\u0444\\u043b\", \"\\u043d\\u0435\\u0434\\u0432\\u0438\\u0436\\u0438\\u043c\\u043e\\u0441\\u0442\\u044c\", \"\\u043d\\u0435\\u0434\\u0435\\u043b\\u044f\", \"\\u043d\\u0435\\u0434\\u0435\\u043b\\u044f\", \"\\u043d\\u0435\\u0434\\u0435\\u043b\\u044f\", \"\\u043d\\u0435\\u0434\\u0435\\u043b\\u044f\", \"\\u043d\\u0435\\u0434\\u0435\\u043b\\u044f\", \"\\u043d\\u0435\\u0438\\u0441\\u043f\\u0440\\u0430\\u0432\\u043d\\u043e\\u0441\\u0442\\u044c\", \"\\u043d\\u0435\\u0438\\u0441\\u043f\\u0440\\u0430\\u0432\\u043d\\u044b\\u0439\", \"\\u043d\\u0435\\u0448\\u0442\\u0430\\u0442\\u043d\\u044b\\u0439\", \"\\u043d\\u043e\\u043c\\u0435\\u0440\", \"\\u043d\\u043e\\u043c\\u0435\\u0440\", \"\\u043d\\u043e\\u043c\\u0435\\u0440\", \"\\u043d\\u043e\\u043c\\u0435\\u0440\", \"\\u043e\\u0431\\u0435\\u0434\", \"\\u043e\\u0431\\u0435\\u0434\", \"\\u043e\\u0431\\u0435\\u0434\", \"\\u043e\\u0431\\u0435\\u0434\\u0435\\u043d\\u043d\\u044b\\u0439\", \"\\u043e\\u0431\\u0440\\u0430\\u0442\\u0438\\u0442\\u044c\\u0441\\u044f\", \"\\u043e\\u0431\\u0440\\u0430\\u0442\\u0438\\u0442\\u044c\\u0441\\u044f\", \"\\u043e\\u0431\\u0440\\u0430\\u0442\\u0438\\u0442\\u044c\\u0441\\u044f\", \"\\u043e\\u0431\\u0440\\u0430\\u0442\\u0438\\u0442\\u044c\\u0441\\u044f\", \"\\u043e\\u0431\\u0440\\u0430\\u0442\\u0438\\u0442\\u044c\\u0441\\u044f\", \"\\u043e\\u0431\\u0440\\u0430\\u0449\\u0435\\u043d\\u0438\\u0435\", \"\\u043e\\u0431\\u0440\\u0430\\u0449\\u0435\\u043d\\u0438\\u0435\", \"\\u043e\\u0431\\u0440\\u0430\\u0449\\u0435\\u043d\\u0438\\u0435\", \"\\u043e\\u0431\\u0440\\u0430\\u0449\\u0435\\u043d\\u0438\\u0435\", \"\\u043e\\u0431\\u0441\\u043b\\u0443\\u0436\\u0438\\u0432\\u0430\\u043d\\u0438\\u0435\", \"\\u043e\\u0431\\u0441\\u043b\\u0443\\u0436\\u0438\\u0432\\u0430\\u043d\\u0438\\u0435\", \"\\u043e\\u0431\\u0441\\u043b\\u0443\\u0436\\u0438\\u0432\\u0430\\u043d\\u0438\\u0435\", \"\\u043e\\u0431\\u0441\\u043b\\u0443\\u0436\\u0438\\u0432\\u0430\\u043d\\u0438\\u0435\", \"\\u043e\\u0431\\u0441\\u043b\\u0443\\u0436\\u0438\\u0432\\u0430\\u0442\\u044c\\u0441\\u044f\", \"\\u043e\\u0431\\u0441\\u043b\\u0443\\u0436\\u0438\\u0432\\u0430\\u0442\\u044c\\u0441\\u044f\", \"\\u043e\\u0431\\u0441\\u043b\\u0443\\u0436\\u0438\\u0432\\u0430\\u0442\\u044c\\u0441\\u044f\", \"\\u043e\\u0431\\u0441\\u043b\\u0443\\u0436\\u0438\\u0432\\u0430\\u0442\\u044c\\u0441\\u044f\", \"\\u043e\\u0431\\u044a\\u0435\\u043a\\u0442\", \"\\u043e\\u0432\\u0435\\u0440\\u0434\\u0440\\u0430\\u0444\\u0442\", \"\\u043e\\u0432\\u0435\\u0440\\u0434\\u0440\\u0430\\u0444\\u0442\", \"\\u043e\\u0434\\u0438\\u043d\", \"\\u043e\\u0434\\u0438\\u043d\", \"\\u043e\\u0434\\u0438\\u043d\", \"\\u043e\\u0434\\u0438\\u043d\", \"\\u043e\\u0434\\u0438\\u043d\", \"\\u043e\\u0434\\u043d\\u043e\\u0440\\u0430\\u0437\\u043e\\u0432\\u044b\\u0439\", \"\\u043e\\u0434\\u043e\\u0431\\u0440\\u0435\\u043d\\u0438\\u0435\", \"\\u043e\\u0434\\u043e\\u0431\\u0440\\u0435\\u043d\\u0438\\u0435\", \"\\u043e\\u043a\\u043d\\u043e\", \"\\u043e\\u043a\\u043d\\u043e\", \"\\u043e\\u043a\\u043e\\u0448\\u043a\\u043e\", \"\\u043e\\u043c\\u0441\", \"\\u043e\\u043f\\u0435\\u0440\\u0430\\u0446\\u0438\\u043e\\u043d\\u0438\\u0441\\u0442\", \"\\u043e\\u043f\\u0435\\u0440\\u0430\\u0446\\u0438\\u043e\\u043d\\u0438\\u0441\\u0442\", \"\\u043e\\u043f\\u0435\\u0440\\u0430\\u0446\\u0438\\u043e\\u043d\\u0438\\u0441\\u0442\", \"\\u043e\\u043f\\u0435\\u0440\\u0430\\u0446\\u0438\\u043e\\u043d\\u0438\\u0441\\u0442\", \"\\u043e\\u043f\\u0435\\u0440\\u0430\\u0446\\u0438\\u043e\\u043d\\u0438\\u0441\\u0442\\u043a\\u0430\", \"\\u043e\\u043f\\u0435\\u0440\\u0430\\u0446\\u0438\\u043e\\u043d\\u0438\\u0441\\u0442\\u043a\\u0430\", \"\\u043e\\u043f\\u0435\\u0440\\u0430\\u0446\\u0438\\u043e\\u043d\\u0438\\u0441\\u0442\\u043a\\u0430\", \"\\u043e\\u043f\\u0435\\u0440\\u0430\\u0446\\u0438\\u044f\", \"\\u043e\\u043f\\u0435\\u0440\\u0430\\u0446\\u0438\\u044f\", \"\\u043e\\u043f\\u0435\\u0440\\u0430\\u0446\\u0438\\u044f\", \"\\u043e\\u043f\\u0435\\u0440\\u0430\\u0446\\u0438\\u044f\", \"\\u043e\\u043f\\u043b\\u0430\\u0442\\u0438\\u0442\\u044c\", \"\\u043e\\u043f\\u043b\\u0430\\u0442\\u0438\\u0442\\u044c\", \"\\u043e\\u043f\\u043b\\u0430\\u0442\\u0438\\u0442\\u044c\", \"\\u043e\\u043f\\u043b\\u0430\\u0442\\u0438\\u0442\\u044c\", \"\\u043e\\u0441\\u0431\", \"\\u043e\\u0441\\u0432\\u043e\\u0431\\u043e\\u0434\\u0438\\u0442\\u044c\\u0441\\u044f\", \"\\u043e\\u0442\\u0432\\u0435\\u0442\", \"\\u043e\\u0442\\u0432\\u0435\\u0442\", \"\\u043e\\u0442\\u0432\\u0435\\u0442\", \"\\u043e\\u0442\\u0432\\u0435\\u0442\", \"\\u043e\\u0442\\u0432\\u0435\\u0442\", \"\\u043e\\u0442\\u0434\\u0435\\u043b\\u0435\\u043d\\u0438\\u0435\", \"\\u043e\\u0442\\u0434\\u0435\\u043b\\u0435\\u043d\\u0438\\u0435\", \"\\u043e\\u0442\\u0434\\u0435\\u043b\\u0435\\u043d\\u0438\\u0435\", \"\\u043e\\u0442\\u0434\\u0435\\u043b\\u0435\\u043d\\u0438\\u0435\", \"\\u043e\\u0442\\u0434\\u0435\\u043b\\u0435\\u043d\\u0438\\u0435\", \"\\u043e\\u0442\\u0435\\u043b\\u044c\", \"\\u043e\\u0442\\u043a\\u0440\\u044b\\u0432\\u0430\\u0442\\u044c\", \"\\u043e\\u0442\\u043a\\u0440\\u044b\\u0432\\u0430\\u0442\\u044c\", \"\\u043e\\u0442\\u043a\\u0440\\u044b\\u0432\\u0430\\u0442\\u044c\", \"\\u043e\\u0442\\u043a\\u0440\\u044b\\u0432\\u0430\\u0442\\u044c\", \"\\u043e\\u0442\\u043a\\u0440\\u044b\\u0442\\u0438\\u0435\", \"\\u043e\\u0442\\u043a\\u0440\\u044b\\u0442\\u0438\\u0435\", \"\\u043e\\u0442\\u043a\\u0440\\u044b\\u0442\\u0438\\u0435\", \"\\u043e\\u0442\\u043a\\u0440\\u044b\\u0442\\u0438\\u0435\", \"\\u043e\\u0442\\u043a\\u0440\\u044b\\u0442\\u044c\", \"\\u043e\\u0442\\u043a\\u0440\\u044b\\u0442\\u044c\", \"\\u043e\\u0442\\u043a\\u0440\\u044b\\u0442\\u044c\", \"\\u043e\\u0442\\u043a\\u0440\\u044b\\u0442\\u044c\", \"\\u043e\\u0442\\u043e\\u0439\\u0442\\u0438\", \"\\u043e\\u0442\\u043f\", \"\\u043e\\u0444\\u0438\\u0441\", \"\\u043e\\u0444\\u0438\\u0441\", \"\\u043e\\u0444\\u0438\\u0441\", \"\\u043e\\u0444\\u0438\\u0441\", \"\\u043e\\u0444\\u0438\\u0441\", \"\\u043e\\u0444\\u043e\\u0440\\u043c\\u043b\\u0435\\u043d\\u0438\\u0435\", \"\\u043e\\u0444\\u043e\\u0440\\u043c\\u043b\\u0435\\u043d\\u0438\\u0435\", \"\\u043e\\u0444\\u043e\\u0440\\u043c\\u043b\\u0435\\u043d\\u0438\\u0435\", \"\\u043e\\u0444\\u043e\\u0440\\u043c\\u043b\\u0435\\u043d\\u0438\\u0435\", \"\\u043e\\u0444\\u043e\\u0440\\u043c\\u043b\\u0435\\u043d\\u0438\\u0435\", \"\\u043e\\u0445\\u0440\\u0430\\u043d\\u043d\\u0438\\u043a\", \"\\u043e\\u0447\\u0435\\u043d\\u044c\", \"\\u043e\\u0447\\u0435\\u043d\\u044c\", \"\\u043e\\u0447\\u0435\\u043d\\u044c\", \"\\u043e\\u0447\\u0435\\u043d\\u044c\", \"\\u043e\\u0447\\u0435\\u043d\\u044c\", \"\\u043e\\u0447\\u0435\\u0440\\u0435\\u0434\\u044c\", \"\\u043e\\u0447\\u0435\\u0440\\u0435\\u0434\\u044c\", \"\\u043f\\u0430\\u0439\", \"\\u043f\\u0430\\u043b\\u0435\\u0446\", \"\\u043f\\u0430\\u0440\\u0435\\u043d\\u044c\", \"\\u043f\\u0430\\u0440\\u0438\\u0431\", \"\\u043f\\u0430\\u0440\\u043e\\u043b\\u044c\", \"\\u043f\\u0435\\u043d\\u044f\", \"\\u043f\\u0435\\u0440\\u0435\\u0432\\u043e\\u0434\", \"\\u043f\\u0435\\u0440\\u0435\\u0432\\u043e\\u0434\", \"\\u043f\\u0435\\u0440\\u0435\\u0432\\u043e\\u0434\", \"\\u043f\\u0435\\u0440\\u0435\\u0432\\u043e\\u0434\", \"\\u043f\\u0435\\u0440\\u0435\\u0434\", \"\\u043f\\u0435\\u0440\\u0435\\u0434\", \"\\u043f\\u0435\\u0440\\u0435\\u0434\", \"\\u043f\\u0435\\u0440\\u0435\\u0437\\u0430\\u0433\\u0440\\u0443\\u0437\\u0438\\u0442\\u044c\\u0441\\u044f\", \"\\u043f\\u0435\\u0440\\u0435\\u043f\\u043b\\u0430\\u0442\\u0430\", \"\\u043f\\u0435\\u0440\\u0435\\u0440\\u044b\\u0432\", \"\\u043f\\u0438\\u043d\", \"\\u043f\\u0438\\u043d\", \"\\u043f\\u0438\\u0441\\u044c\\u043c\\u043e\", \"\\u043f\\u0438\\u0441\\u044c\\u043c\\u043e\", \"\\u043f\\u0438\\u0441\\u044c\\u043c\\u043e\", \"\\u043f\\u0438\\u0441\\u044c\\u043c\\u043e\", \"\\u043f\\u0438\\u0444\", \"\\u043f\\u043b\\u0430\\u0442\\u0438\\u0442\\u044c\", \"\\u043f\\u043b\\u0430\\u0442\\u0438\\u0442\\u044c\", \"\\u043f\\u043b\\u0430\\u0442\\u0438\\u0442\\u044c\", \"\\u043f\\u043b\\u0430\\u0442\\u0451\\u0436\", \"\\u043f\\u043b\\u0430\\u0442\\u0451\\u0436\", \"\\u043f\\u043b\\u0430\\u0442\\u0451\\u0436\", \"\\u043f\\u043b\\u0430\\u0442\\u0451\\u0436\", \"\\u043f\\u043e\\u0433\\u0430\\u0441\\u0438\\u0442\\u044c\", \"\\u043f\\u043e\\u0433\\u0430\\u0448\\u0430\\u0442\\u044c\", \"\\u043f\\u043e\\u0433\\u0430\\u0448\\u0430\\u0442\\u044c\", \"\\u043f\\u043e\\u0433\\u0430\\u0448\\u0435\\u043d\\u0438\\u0435\", \"\\u043f\\u043e\\u0434\\u0434\\u0435\\u0440\\u0436\\u043a\\u0430\", \"\\u043f\\u043e\\u0434\\u0434\\u0435\\u0440\\u0436\\u043a\\u0430\", \"\\u043f\\u043e\\u0434\\u0434\\u0435\\u0440\\u0436\\u043a\\u0430\", \"\\u043f\\u043e\\u0434\\u043a\\u043b\\u044e\\u0447\\u0438\\u0442\\u044c\", \"\\u043f\\u043e\\u0434\\u043a\\u043b\\u044e\\u0447\\u0438\\u0442\\u044c\", \"\\u043f\\u043e\\u0434\\u043e\\u0439\\u0442\\u0438\", \"\\u043f\\u043e\\u0434\\u043e\\u0439\\u0442\\u0438\", \"\\u043f\\u043e\\u0434\\u043e\\u0439\\u0442\\u0438\", \"\\u043f\\u043e\\u0434\\u043e\\u0439\\u0442\\u0438\", \"\\u043f\\u043e\\u0437\\u0432\\u043e\\u043d\\u0438\\u0442\\u044c\", \"\\u043f\\u043e\\u0437\\u0432\\u043e\\u043d\\u0438\\u0442\\u044c\", \"\\u043f\\u043e\\u0437\\u0432\\u043e\\u043d\\u0438\\u0442\\u044c\", \"\\u043f\\u043e\\u0437\\u0432\\u043e\\u043d\\u0438\\u0442\\u044c\", \"\\u043f\\u043e\\u0437\\u0432\\u043e\\u043d\\u0438\\u0442\\u044c\", \"\\u043f\\u043e\\u043a\\u0443\\u043f\\u043a\\u0430\", \"\\u043f\\u043e\\u043a\\u0443\\u043f\\u043a\\u0430\", \"\\u043f\\u043e\\u043a\\u0443\\u043f\\u043a\\u0430\", \"\\u043f\\u043e\\u043b\\u0443\\u0447\\u0430\\u0442\\u0435\\u043b\\u044c\", \"\\u043f\\u043e\\u043b\\u0443\\u0447\\u0430\\u0442\\u0435\\u043b\\u044c\", \"\\u043f\\u043e\\u043b\\u0443\\u0447\\u0438\\u0442\\u044c\", \"\\u043f\\u043e\\u043b\\u0443\\u0447\\u0438\\u0442\\u044c\", \"\\u043f\\u043e\\u043b\\u0443\\u0447\\u0438\\u0442\\u044c\", \"\\u043f\\u043e\\u043b\\u0443\\u0447\\u0438\\u0442\\u044c\", \"\\u043f\\u043e\\u043b\\u0443\\u0447\\u0438\\u0442\\u044c\", \"\\u043f\\u043e\\u043b\\u044c\\u0437\\u043e\\u0432\\u0430\\u0442\\u044c\\u0441\\u044f\", \"\\u043f\\u043e\\u043b\\u044c\\u0437\\u043e\\u0432\\u0430\\u0442\\u044c\\u0441\\u044f\", \"\\u043f\\u043e\\u043b\\u044c\\u0437\\u043e\\u0432\\u0430\\u0442\\u044c\\u0441\\u044f\", \"\\u043f\\u043e\\u043b\\u044c\\u0437\\u043e\\u0432\\u0430\\u0442\\u044c\\u0441\\u044f\", \"\\u043f\\u043e\\u043b\\u044c\\u0437\\u043e\\u0432\\u0430\\u0442\\u044c\\u0441\\u044f\", \"\\u043f\\u043e\\u043d\\u0440\\u0430\\u0432\\u0438\\u0442\\u044c\\u0441\\u044f\", \"\\u043f\\u043e\\u043d\\u0440\\u0430\\u0432\\u0438\\u0442\\u044c\\u0441\\u044f\", \"\\u043f\\u043e\\u043d\\u0440\\u0430\\u0432\\u0438\\u0442\\u044c\\u0441\\u044f\", \"\\u043f\\u043e\\u0441\\u0430\\u0434\", \"\\u043f\\u043e\\u0441\\u043e\\u0431\\u0438\\u0435\", \"\\u043f\\u043e\\u0441\\u0442\\u0443\\u043f\\u0438\\u0442\\u044c\", \"\\u043f\\u043e\\u0441\\u0442\\u0443\\u043f\\u0438\\u0442\\u044c\", \"\\u043f\\u043e\\u0441\\u0442\\u0443\\u043f\\u0438\\u0442\\u044c\", \"\\u043f\\u043e\\u0442\\u0440\\u0435\\u0431\\u0438\\u0442\\u0435\\u043b\\u044c\", \"\\u043f\\u043e\\u0442\\u0440\\u0435\\u0431\\u0438\\u0442\\u0435\\u043b\\u044c\", \"\\u043f\\u043e\\u0442\\u0440\\u0435\\u0431\\u0438\\u0442\\u0435\\u043b\\u044c\\u0441\\u043a\\u0438\\u0439\", \"\\u043f\\u043e\\u0442\\u0440\\u0435\\u0431\\u0438\\u0442\\u0435\\u043b\\u044c\\u0441\\u043a\\u0438\\u0439\", \"\\u043f\\u0440\\u0435\\u0442\\u0435\\u043d\\u0437\\u0438\\u044f\", \"\\u043f\\u0440\\u0435\\u0442\\u0435\\u043d\\u0437\\u0438\\u044f\", \"\\u043f\\u0440\\u0435\\u0442\\u0435\\u043d\\u0437\\u0438\\u044f\", \"\\u043f\\u0440\\u0435\\u0442\\u0435\\u043d\\u0437\\u0438\\u044f\", \"\\u043f\\u0440\\u0438\\u0432\\u044f\\u0437\\u043a\\u0430\", \"\\u043f\\u0440\\u0438\\u0439\\u0442\\u0438\", \"\\u043f\\u0440\\u0438\\u0439\\u0442\\u0438\", \"\\u043f\\u0440\\u0438\\u0439\\u0442\\u0438\", \"\\u043f\\u0440\\u0438\\u0439\\u0442\\u0438\", \"\\u043f\\u0440\\u0438\\u0439\\u0442\\u0438\", \"\\u043f\\u0440\\u0438\\u043d\\u044f\\u0442\\u044c\", \"\\u043f\\u0440\\u0438\\u043d\\u044f\\u0442\\u044c\", \"\\u043f\\u0440\\u0438\\u043d\\u044f\\u0442\\u044c\", \"\\u043f\\u0440\\u0438\\u043d\\u044f\\u0442\\u044c\", \"\\u043f\\u0440\\u0438\\u0441\\u0435\\u0441\\u0442\\u044c\", \"\\u043f\\u0440\\u0438\\u0441\\u0442\\u0430\\u0432\", \"\\u043f\\u0440\\u0438\\u044f\\u0442\\u043d\\u043e\", \"\\u043f\\u0440\\u0438\\u044f\\u0442\\u043d\\u043e\", \"\\u043f\\u0440\\u0438\\u044f\\u0442\\u043d\\u043e\", \"\\u043f\\u0440\\u043e\\u0431\\u0438\\u0437\\u043d\\u0435\\u0441\\u0431\\u0430\\u043d\\u043a\", \"\\u043f\\u0440\\u043e\\u0431\\u043b\\u0435\\u043c\\u0430\", \"\\u043f\\u0440\\u043e\\u0431\\u043b\\u0435\\u043c\\u0430\", \"\\u043f\\u0440\\u043e\\u0431\\u043b\\u0435\\u043c\\u0430\", \"\\u043f\\u0440\\u043e\\u0431\\u043b\\u0435\\u043c\\u0430\", \"\\u043f\\u0440\\u043e\\u0431\\u043b\\u0435\\u043c\\u0430\", \"\\u043f\\u0440\\u043e\\u043b\\u043e\\u043d\\u0433\\u0430\\u0446\\u0438\\u044f\", \"\\u043f\\u0440\\u043e\\u043b\\u043e\\u043d\\u0433\\u0438\\u0440\\u043e\\u0432\\u0430\\u0442\\u044c\", \"\\u043f\\u0440\\u043e\\u0441\\u0438\\u0434\\u0435\\u0442\\u044c\", \"\\u043f\\u0440\\u043e\\u0441\\u0440\\u043e\\u0447\\u0438\\u0442\\u044c\", \"\\u043f\\u0440\\u043e\\u0441\\u0440\\u043e\\u0447\\u043a\\u0430\", \"\\u043f\\u0440\\u043e\\u0441\\u0442\\u043e\", \"\\u043f\\u0440\\u043e\\u0441\\u0442\\u043e\", \"\\u043f\\u0440\\u043e\\u0441\\u0442\\u043e\", \"\\u043f\\u0440\\u043e\\u0441\\u0442\\u043e\", \"\\u043f\\u0440\\u043e\\u0441\\u0442\\u043e\", \"\\u043f\\u0440\\u043e\\u0441\\u0442\\u043e\\u044f\\u0442\\u044c\", \"\\u043f\\u0440\\u043e\\u0444\\u0435\\u0441\\u0441\\u0438\\u043e\\u043d\\u0430\\u043b\\u0438\\u0437\\u043c\", \"\\u043f\\u0440\\u043e\\u0444\\u0435\\u0441\\u0441\\u0438\\u043e\\u043d\\u0430\\u043b\\u0438\\u0437\\u043c\", \"\\u043f\\u0440\\u043e\\u0444\\u0435\\u0441\\u0441\\u0438\\u043e\\u043d\\u0430\\u043b\\u0438\\u0437\\u043c\", \"\\u043f\\u0440\\u043e\\u0444\\u0435\\u0441\\u0441\\u0438\\u043e\\u043d\\u0430\\u043b\\u044c\\u043d\\u043e\", \"\\u043f\\u0440\\u043e\\u0444\\u0435\\u0441\\u0441\\u0438\\u043e\\u043d\\u0430\\u043b\\u044c\\u043d\\u044b\\u0439\", \"\\u043f\\u0440\\u043e\\u0446\\u0432\\u0435\\u0442\\u0430\\u043d\\u0438\\u0435\", \"\\u043f\\u0440\\u043e\\u0446\\u0435\\u043d\\u0442\", \"\\u043f\\u0440\\u043e\\u0446\\u0435\\u043d\\u0442\", \"\\u043f\\u0440\\u043e\\u0446\\u0435\\u043d\\u0442\", \"\\u043f\\u0440\\u043e\\u0446\\u0435\\u043d\\u0442\", \"\\u043f\\u0440\\u043e\\u0446\\u0435\\u043d\\u0442\\u043d\\u044b\\u0439\", \"\\u043f\\u0440\\u043e\\u0446\\u0435\\u043d\\u0442\\u043d\\u044b\\u0439\", \"\\u043f\\u0442\\u0441\", \"\\u0440\\u0430\\u0431\\u043e\\u0442\\u0430\", \"\\u0440\\u0430\\u0431\\u043e\\u0442\\u0430\", \"\\u0440\\u0430\\u0431\\u043e\\u0442\\u0430\", \"\\u0440\\u0430\\u0431\\u043e\\u0442\\u0430\", \"\\u0440\\u0430\\u0431\\u043e\\u0442\\u0430\", \"\\u0440\\u0430\\u0431\\u043e\\u0442\\u0430\\u0442\\u044c\", \"\\u0440\\u0430\\u0431\\u043e\\u0442\\u0430\\u0442\\u044c\", \"\\u0440\\u0430\\u0431\\u043e\\u0442\\u0430\\u0442\\u044c\", \"\\u0440\\u0430\\u0431\\u043e\\u0442\\u0430\\u0442\\u044c\", \"\\u0440\\u0430\\u0441\\u0441\\u043b\\u0435\\u0434\\u043e\\u0432\\u0430\\u043d\\u0438\\u0435\", \"\\u0440\\u0430\\u0441\\u0441\\u043b\\u0435\\u0434\\u043e\\u0432\\u0430\\u043d\\u0438\\u0435\", \"\\u0440\\u0430\\u0441\\u0441\\u043c\\u0430\\u0442\\u0440\\u0438\\u0432\\u0430\\u0442\\u044c\\u0441\\u044f\", \"\\u0440\\u0430\\u0441\\u0441\\u043c\\u0430\\u0442\\u0440\\u0438\\u0432\\u0430\\u0442\\u044c\\u0441\\u044f\", \"\\u0440\\u0430\\u0441\\u0441\\u043c\\u0430\\u0442\\u0440\\u0438\\u0432\\u0430\\u0442\\u044c\\u0441\\u044f\", \"\\u0440\\u0430\\u0441\\u0441\\u043c\\u043e\\u0442\\u0440\\u0435\\u043d\\u0438\\u0435\", \"\\u0440\\u0430\\u0441\\u0441\\u043c\\u043e\\u0442\\u0440\\u0435\\u043d\\u0438\\u0435\", \"\\u0440\\u0430\\u0441\\u0441\\u043c\\u043e\\u0442\\u0440\\u0435\\u043d\\u0438\\u0435\", \"\\u0440\\u0430\\u0441\\u0441\\u043c\\u043e\\u0442\\u0440\\u0435\\u0442\\u044c\", \"\\u0440\\u0430\\u0441\\u0441\\u043c\\u043e\\u0442\\u0440\\u0435\\u0442\\u044c\", \"\\u0440\\u0430\\u0441\\u0441\\u043c\\u043e\\u0442\\u0440\\u0435\\u0442\\u044c\", \"\\u0440\\u0430\\u0441\\u0441\\u0440\\u043e\\u0447\\u043a\\u0430\", \"\\u0440\\u0435\\u0441\\u0442\\u0440\\u0443\\u043a\\u0442\\u0443\\u0440\\u0438\\u0437\\u0430\\u0446\\u0438\\u044f\", \"\\u0440\\u0438\\u044d\\u043b\\u0442\\u043e\\u0440\", \"\\u0440\\u0443\\u0431\\u043b\\u0435\\u0432\\u0441\\u043a\\u0438\\u0439\", \"\\u0440\\u0443\\u0431\\u043b\\u044c\", \"\\u0440\\u0443\\u0431\\u043b\\u044c\", \"\\u0440\\u0443\\u0431\\u043b\\u044c\", \"\\u0440\\u0443\\u0431\\u043b\\u044c\", \"\\u0441\\u0430\\u0439\\u0442\", \"\\u0441\\u0430\\u0439\\u0442\", \"\\u0441\\u0430\\u0439\\u0442\", \"\\u0441\\u0430\\u0439\\u0442\", \"\\u0441\\u0430\\u0439\\u0442\", \"\\u0441\\u0430\\u043d\\u043a\\u0446\\u0438\\u044f\", \"\\u0441\\u0431\\u0435\\u0440\\u0431\\u0430\\u043d\\u043a\", \"\\u0441\\u0431\\u0435\\u0440\\u0431\\u0430\\u043d\\u043a\", \"\\u0441\\u0431\\u0435\\u0440\\u0431\\u0430\\u043d\\u043a\", \"\\u0441\\u0431\\u0435\\u0440\\u043a\\u0430\\u0440\\u0442\\u0430\", \"\\u0441\\u0431\\u043e\\u0439\", \"\\u0441\\u0431\\u043e\\u0439\", \"\\u0441\\u0431\\u043e\\u0439\", \"\\u0441\\u0432\\u043e\\u0439\", \"\\u0441\\u0432\\u043e\\u0439\", \"\\u0441\\u0432\\u043e\\u0439\", \"\\u0441\\u0432\\u043e\\u0439\", \"\\u0441\\u0432\\u043e\\u0439\", \"\\u0441\\u0432\\u044f\\u0437\\u043d\\u043e\\u0439\", \"\\u0441\\u0432\\u044f\\u0437\\u043d\\u043e\\u0439\", \"\\u0441\\u0434\\u0435\\u043b\\u043a\\u0430\", \"\\u0441\\u0435\\u0441\\u0442\\u044c\", \"\\u0441\\u0438\\u0434\\u0435\\u0442\\u044c\", \"\\u0441\\u0438\\u0441\\u0442\\u0435\\u043c\\u0430\", \"\\u0441\\u0438\\u0441\\u0442\\u0435\\u043c\\u0430\", \"\\u0441\\u0438\\u0441\\u0442\\u0435\\u043c\\u0430\", \"\\u0441\\u0438\\u0441\\u0442\\u0435\\u043c\\u0430\", \"\\u0441\\u0438\\u0441\\u0442\\u0435\\u043c\\u0430\", \"\\u0441\\u0438\\u0442\\u0438\\u0431\\u0430\\u043d\\u043a\", \"\\u0441\\u0438\\u0442\\u0438\\u0444\\u043e\\u043d\", \"\\u0441\\u0438\\u0442\\u0443\\u0430\\u0446\\u0438\\u044f\", \"\\u0441\\u0438\\u0442\\u0443\\u0430\\u0446\\u0438\\u044f\", \"\\u0441\\u0438\\u0442\\u0443\\u0430\\u0446\\u0438\\u044f\", \"\\u0441\\u0438\\u0442\\u0443\\u0430\\u0446\\u0438\\u044f\", \"\\u0441\\u0438\\u0442\\u0443\\u0430\\u0446\\u0438\\u044f\", \"\\u0441\\u043a\\u0430\\u0437\\u0430\\u0442\\u044c\", \"\\u0441\\u043a\\u0430\\u0437\\u0430\\u0442\\u044c\", \"\\u0441\\u043a\\u0430\\u0437\\u0430\\u0442\\u044c\", \"\\u0441\\u043a\\u0430\\u0437\\u0430\\u0442\\u044c\", \"\\u0441\\u043a\\u0430\\u0437\\u0430\\u0442\\u044c\", \"\\u0441\\u043a\\u0443\\u0448\\u0430\\u0442\\u044c\", \"\\u0441\\u043b\\u043e\\u0431\\u043e\\u0434\\u0430\", \"\\u0441\\u043c\\u0441\", \"\\u0441\\u043c\\u0441\", \"\\u0441\\u043c\\u0441\", \"\\u0441\\u043d\\u044f\\u0442\\u0438\\u0435\", \"\\u0441\\u043d\\u044f\\u0442\\u0438\\u0435\", \"\\u0441\\u043d\\u044f\\u0442\\u0438\\u0435\", \"\\u0441\\u043e\\u043e\\u0431\\u0449\\u0438\\u0442\\u044c\", \"\\u0441\\u043e\\u043e\\u0431\\u0449\\u0438\\u0442\\u044c\", \"\\u0441\\u043e\\u043e\\u0431\\u0449\\u0438\\u0442\\u044c\", \"\\u0441\\u043e\\u043e\\u0431\\u0449\\u0438\\u0442\\u044c\", \"\\u0441\\u043e\\u043e\\u0431\\u0449\\u0438\\u0442\\u044c\", \"\\u0441\\u043e\\u0442\\u0440\\u0443\\u0434\\u043d\\u0438\\u043a\", \"\\u0441\\u043e\\u0442\\u0440\\u0443\\u0434\\u043d\\u0438\\u043a\", \"\\u0441\\u043e\\u0442\\u0440\\u0443\\u0434\\u043d\\u0438\\u043a\", \"\\u0441\\u043e\\u0442\\u0440\\u0443\\u0434\\u043d\\u0438\\u043a\", \"\\u0441\\u043e\\u0442\\u0440\\u0443\\u0434\\u043d\\u0438\\u043a\", \"\\u0441\\u043f\\u0430\\u0441\\u0438\\u0431\\u043e\", \"\\u0441\\u043f\\u0430\\u0441\\u0438\\u0431\\u043e\", \"\\u0441\\u043f\\u0430\\u0441\\u0438\\u0431\\u043e\", \"\\u0441\\u043f\\u0430\\u0441\\u0438\\u0431\\u043e\", \"\\u0441\\u043f\\u0430\\u0441\\u0438\\u0431\\u043e\", \"\\u0441\\u043f\\u043e\\u0440\\u043d\\u044b\\u0439\", \"\\u0441\\u043f\\u043e\\u0440\\u043d\\u044b\\u0439\", \"\\u0441\\u043f\\u043e\\u0440\\u043d\\u044b\\u0439\", \"\\u0441\\u043f\\u0440\\u0430\\u0432\\u043a\\u0430\", \"\\u0441\\u043f\\u0440\\u0430\\u0432\\u043a\\u0430\", \"\\u0441\\u043f\\u0440\\u0430\\u0432\\u043a\\u0430\", \"\\u0441\\u043f\\u0440\\u0430\\u0448\\u0438\\u0432\\u0430\\u0442\\u044c\", \"\\u0441\\u043f\\u0440\\u0430\\u0448\\u0438\\u0432\\u0430\\u0442\\u044c\", \"\\u0441\\u043f\\u0440\\u0430\\u0448\\u0438\\u0432\\u0430\\u0442\\u044c\", \"\\u0441\\u043f\\u0440\\u0430\\u0448\\u0438\\u0432\\u0430\\u0442\\u044c\", \"\\u0441\\u043f\\u0440\\u043e\\u0441\\u0438\\u0442\\u044c\", \"\\u0441\\u043f\\u0440\\u043e\\u0441\\u0438\\u0442\\u044c\", \"\\u0441\\u043f\\u0440\\u043e\\u0441\\u0438\\u0442\\u044c\", \"\\u0441\\u043f\\u0440\\u043e\\u0441\\u0438\\u0442\\u044c\", \"\\u0441\\u043f\\u0440\\u043e\\u0441\\u0438\\u0442\\u044c\", \"\\u0441\\u0440\\u0435\\u0434\\u043d\\u0435\\u0440\\u0443\\u0441\\u0441\\u043a\\u0438\\u0439\", \"\\u0441\\u0440\\u0435\\u0434\\u0441\\u0442\\u0432\\u043e\", \"\\u0441\\u0440\\u0435\\u0434\\u0441\\u0442\\u0432\\u043e\", \"\\u0441\\u0440\\u0435\\u0434\\u0441\\u0442\\u0432\\u043e\", \"\\u0441\\u0440\\u0435\\u0434\\u0441\\u0442\\u0432\\u043e\", \"\\u0441\\u0440\\u043e\\u043a\", \"\\u0441\\u0440\\u043e\\u043a\", \"\\u0441\\u0440\\u043e\\u043a\", \"\\u0441\\u0440\\u043e\\u043a\", \"\\u0441\\u0442\\u0430\\u0432\\u043a\\u0430\", \"\\u0441\\u0442\\u0430\\u0432\\u043a\\u0430\", \"\\u0441\\u0442\\u043e\\u0439\\u043a\\u0430\", \"\\u0441\\u0442\\u043e\\u043b\", \"\\u0441\\u0442\\u043e\\u043b\", \"\\u0441\\u0442\\u043e\\u044f\\u0442\\u044c\", \"\\u0441\\u0442\\u043e\\u044f\\u0442\\u044c\", \"\\u0441\\u0442\\u0440\\u0430\\u0445\\u043e\\u0432\\u0430\\u043d\\u0438\\u0435\", \"\\u0441\\u0442\\u0440\\u0430\\u0445\\u043e\\u0432\\u0430\\u043d\\u0438\\u0435\", \"\\u0441\\u0442\\u0440\\u0430\\u0445\\u043e\\u0432\\u043a\\u0430\", \"\\u0441\\u0442\\u0440\\u0430\\u0445\\u043e\\u0432\\u043a\\u0430\", \"\\u0441\\u0442\\u0440\\u0430\\u0445\\u043e\\u0432\\u043e\\u0439\", \"\\u0441\\u0442\\u0440\\u0430\\u0445\\u043e\\u0432\\u043e\\u0439\", \"\\u0441\\u0442\\u0443\\u043b\", \"\\u0441\\u0443\\u0434\", \"\\u0441\\u0443\\u0434\", \"\\u0441\\u0443\\u0434\\u0435\\u0431\\u043d\\u044b\\u0439\", \"\\u0441\\u0443\\u043c\\u043c\\u0430\", \"\\u0441\\u0443\\u043c\\u043c\\u0430\", \"\\u0441\\u0443\\u043c\\u043c\\u0430\", \"\\u0441\\u0443\\u043c\\u043c\\u0430\", \"\\u0441\\u0443\\u043c\\u043c\\u0430\", \"\\u0441\\u0447\\u0451\\u0442\", \"\\u0441\\u0447\\u0451\\u0442\", \"\\u0441\\u0447\\u0451\\u0442\", \"\\u0441\\u0447\\u0451\\u0442\", \"\\u0441\\u0447\\u0451\\u0442\", \"\\u0441\\u044a\\u0435\\u0441\\u0442\\u044c\", \"\\u0441\\u044a\\u0435\\u0441\\u0442\\u044c\", \"\\u0441\\u044a\\u0435\\u0441\\u0442\\u044c\", \"\\u0442\\u0430\\u0431\\u043b\\u043e\", \"\\u0442\\u0430\\u043a\\u043e\\u0439\", \"\\u0442\\u0430\\u043a\\u043e\\u0439\", \"\\u0442\\u0430\\u043a\\u043e\\u0439\", \"\\u0442\\u0430\\u043a\\u043e\\u0439\", \"\\u0442\\u0430\\u043a\\u043e\\u0439\", \"\\u0442\\u0430\\u043b\\u043e\\u043d\\u0447\\u0438\\u043a\", \"\\u0442\\u0430\\u0440\\u0438\\u0444\", \"\\u0442\\u0430\\u0440\\u0438\\u0444\", \"\\u0442\\u0435\\u043b\\u0435\\u0431\\u0430\\u043d\\u043a\", \"\\u0442\\u0435\\u043b\\u0435\\u0431\\u0430\\u043d\\u043a\\u0430\", \"\\u0442\\u0435\\u043b\\u0435\\u0444\\u043e\\u043d\", \"\\u0442\\u0435\\u043b\\u0435\\u0444\\u043e\\u043d\", \"\\u0442\\u0435\\u043b\\u0435\\u0444\\u043e\\u043d\", \"\\u0442\\u0435\\u043b\\u0435\\u0444\\u043e\\u043d\", \"\\u0442\\u0435\\u043b\\u0435\\u0444\\u043e\\u043d\", \"\\u0442\\u0435\\u0440\\u043c\\u0438\\u043d\\u0430\\u043b\", \"\\u0442\\u0435\\u0440\\u043c\\u0438\\u043d\\u0430\\u043b\", \"\\u0442\\u0435\\u0440\\u043c\\u0438\\u043d\\u0430\\u043b\", \"\\u0442\\u0435\\u0447\\u0435\\u043d\\u0438\\u0435\", \"\\u0442\\u0435\\u0447\\u0435\\u043d\\u0438\\u0435\", \"\\u0442\\u0435\\u0447\\u0435\\u043d\\u0438\\u0435\", \"\\u0442\\u0435\\u0447\\u0435\\u043d\\u0438\\u0435\", \"\\u0442\\u0435\\u0447\\u0435\\u043d\\u0438\\u0435\", \"\\u0442\\u0438\\u043d\\u044c\\u043a\\u043e\\u0444\\u0444\", \"\\u0442\\u043a\\u0441\", \"\\u0442\\u043e\\u043b\\u043f\\u0430\", \"\\u0442\\u0440\\u0443\\u0434\\u043e\\u0432\\u043e\\u0439\", \"\\u0442\\u0440\\u0443\\u0434\\u043e\\u0432\\u043e\\u0439\", \"\\u0442\\u0441\\u0436\", \"\\u0442\\u0443\\u0434\\u0430\", \"\\u0442\\u0443\\u0434\\u0430\", \"\\u0442\\u0443\\u0434\\u0430\", \"\\u0442\\u0443\\u0434\\u0430\", \"\\u0442\\u0443\\u0434\\u0430\", \"\\u0443\\u0433\\u0440\\u043e\\u0437\\u0430\", \"\\u0443\\u0434\\u0431\\u044b\\u0439\", \"\\u0443\\u0439\\u0442\\u0438\", \"\\u0443\\u0439\\u0442\\u0438\", \"\\u0443\\u0439\\u0442\\u0438\", \"\\u0443\\u0439\\u0442\\u0438\", \"\\u0443\\u0439\\u0442\\u0438\", \"\\u0443\\u043f\\u043b\\u0430\\u0442\\u0438\\u0442\\u044c\", \"\\u0443\\u0441\\u043b\\u043e\\u0432\\u0438\\u0435\", \"\\u0443\\u0441\\u043b\\u043e\\u0432\\u0438\\u0435\", \"\\u0443\\u0441\\u043b\\u043e\\u0432\\u0438\\u0435\", \"\\u0443\\u0441\\u043b\\u0443\\u0433\\u0430\", \"\\u0443\\u0441\\u043b\\u0443\\u0433\\u0430\", \"\\u0443\\u0441\\u043b\\u0443\\u0433\\u0430\", \"\\u0443\\u0441\\u043b\\u0443\\u0433\\u0430\", \"\\u0443\\u0441\\u043b\\u0443\\u0433\\u0430\", \"\\u0444\\u0437\", \"\\u0445\\u043e\\u0440\\u043e\\u0448\\u0438\\u0439\", \"\\u0445\\u043e\\u0440\\u043e\\u0448\\u0438\\u0439\", \"\\u0445\\u043e\\u0440\\u043e\\u0448\\u0438\\u0439\", \"\\u0445\\u043e\\u0442\\u0435\\u0442\\u044c\", \"\\u0445\\u043e\\u0442\\u0435\\u0442\\u044c\", \"\\u0445\\u043e\\u0442\\u0435\\u0442\\u044c\", \"\\u0445\\u043e\\u0442\\u0435\\u0442\\u044c\", \"\\u0445\\u043e\\u0442\\u0435\\u0442\\u044c\", \"\\u0446\\u0430\\u0440\\u0438\\u0446\\u044b\\u043d\\u0441\\u043a\\u0438\\u0439\", \"\\u0446\\u0435\\u043d\\u0442\\u0440\", \"\\u0446\\u0435\\u043d\\u0442\\u0440\", \"\\u0446\\u0435\\u043d\\u0442\\u0440\", \"\\u0446\\u0435\\u043d\\u0442\\u0440\", \"\\u0446\\u0435\\u043d\\u0442\\u0440\", \"\\u0447\\u0430\\u0441\", \"\\u0447\\u0430\\u0441\", \"\\u0447\\u0430\\u0441\", \"\\u0447\\u0430\\u0441\", \"\\u0447\\u0435\\u043a\", \"\\u0447\\u0435\\u043a\", \"\\u0447\\u0435\\u043a\", \"\\u0447\\u0435\\u043a\", \"\\u0447\\u0435\\u043b\\u043e\\u0432\\u0435\\u043a\", \"\\u0447\\u0435\\u043b\\u043e\\u0432\\u0435\\u043a\", \"\\u0447\\u0435\\u043b\\u043e\\u0432\\u0435\\u043a\", \"\\u0447\\u0435\\u043b\\u043e\\u0432\\u0435\\u043a\", \"\\u0447\\u0438\\u043f\", \"\\u0448\\u0442\\u0440\\u0430\\u0444\", \"\\u0448\\u0442\\u0440\\u0430\\u0444\\u043d\\u043e\\u0439\", \"\\u044d\\u043b\\u0435\\u043a\\u0442\\u0440\\u043e\\u043d\", \"\\u044e\\u043d\\u0438\\u0441\\u0442\\u0440\\u0438\\u043c\", \"\\u044f\\u0447\\u0435\\u0439\\u043a\\u0430\"]}, \"R\": 30, \"lambda.step\": 0.01, \"plot.opts\": {\"xlab\": \"PC1\", \"ylab\": \"PC2\"}, \"topic.order\": [3, 2, 1, 4, 5]};\n",
       "\n",
       "function LDAvis_load_lib(url, callback){\n",
       "  var s = document.createElement('script');\n",
       "  s.src = url;\n",
       "  s.async = true;\n",
       "  s.onreadystatechange = s.onload = callback;\n",
       "  s.onerror = function(){console.warn(\"failed to load library \" + url);};\n",
       "  document.getElementsByTagName(\"head\")[0].appendChild(s);\n",
       "}\n",
       "\n",
       "if(typeof(LDAvis) !== \"undefined\"){\n",
       "   // already loaded: just create the visualization\n",
       "   !function(LDAvis){\n",
       "       new LDAvis(\"#\" + \"ldavis_el7092114360256804651055238\", ldavis_el7092114360256804651055238_data);\n",
       "   }(LDAvis);\n",
       "}else if(typeof define === \"function\" && define.amd){\n",
       "   // require.js is available: use it to load d3/LDAvis\n",
       "   require.config({paths: {d3: \"https://cdnjs.cloudflare.com/ajax/libs/d3/3.5.5/d3.min\"}});\n",
       "   require([\"d3\"], function(d3){\n",
       "      window.d3 = d3;\n",
       "      LDAvis_load_lib(\"https://cdn.rawgit.com/bmabey/pyLDAvis/files/ldavis.v1.0.0.js\", function(){\n",
       "        new LDAvis(\"#\" + \"ldavis_el7092114360256804651055238\", ldavis_el7092114360256804651055238_data);\n",
       "      });\n",
       "    });\n",
       "}else{\n",
       "    // require.js not available: dynamically load d3 & LDAvis\n",
       "    LDAvis_load_lib(\"https://cdnjs.cloudflare.com/ajax/libs/d3/3.5.5/d3.min.js\", function(){\n",
       "         LDAvis_load_lib(\"https://cdn.rawgit.com/bmabey/pyLDAvis/files/ldavis.v1.0.0.js\", function(){\n",
       "                 new LDAvis(\"#\" + \"ldavis_el7092114360256804651055238\", ldavis_el7092114360256804651055238_data);\n",
       "            })\n",
       "         });\n",
       "}\n",
       "</script>"
      ],
      "text/plain": [
       "<IPython.core.display.HTML object>"
      ]
     },
     "execution_count": 216,
     "metadata": {},
     "output_type": "execute_result"
    }
   ],
   "source": [
    "import pyLDAvis.gensim\n",
    "vis = pyLDAvis.gensim.prepare(ldamodel, corpus, dictionary)\n",
    "pyLDAvis.display(vis)"
   ]
  },
  {
   "cell_type": "markdown",
   "metadata": {},
   "source": [
    "# Часть 3"
   ]
  },
  {
   "cell_type": "code",
   "execution_count": 99,
   "metadata": {},
   "outputs": [
    {
     "data": {
      "text/plain": [
       "((39855, 13), (10511, 13))"
      ]
     },
     "execution_count": 99,
     "metadata": {},
     "output_type": "execute_result"
    }
   ],
   "source": [
    "data_minus.shape, data_plus.shape"
   ]
  },
  {
   "cell_type": "code",
   "execution_count": 100,
   "metadata": {},
   "outputs": [],
   "source": [
    "data_plus_minus = data_minus[:10000].copy()"
   ]
  },
  {
   "cell_type": "code",
   "execution_count": 101,
   "metadata": {},
   "outputs": [],
   "source": [
    "data_plus_minus = data_plus_minus.append(data_plus[:10000], ignore_index=True, sort=False)"
   ]
  },
  {
   "cell_type": "code",
   "execution_count": 102,
   "metadata": {},
   "outputs": [
    {
     "data": {
      "text/plain": [
       "(20000, 13)"
      ]
     },
     "execution_count": 102,
     "metadata": {},
     "output_type": "execute_result"
    }
   ],
   "source": [
    "data_plus_minus.shape"
   ]
  },
  {
   "cell_type": "code",
   "execution_count": 103,
   "metadata": {},
   "outputs": [],
   "source": [
    "from sklearn.model_selection import train_test_split\n",
    "from sklearn.decomposition import TruncatedSVD\n",
    "from sklearn.ensemble import RandomForestClassifier\n",
    "from sklearn.feature_extraction.text import CountVectorizer,TfidfTransformer\n",
    "from sklearn.pipeline import Pipeline\n",
    "from sklearn.model_selection import train_test_split"
   ]
  },
  {
   "cell_type": "code",
   "execution_count": 155,
   "metadata": {},
   "outputs": [],
   "source": [
    "X = data_plus_minus['wo_stop']\n",
    "Y = data_plus_minus['rating_grade']\n",
    "X_train, X_test, Y_train, Y_test = train_test_split(X,Y, test_size=0.2)"
   ]
  },
  {
   "cell_type": "code",
   "execution_count": 181,
   "metadata": {},
   "outputs": [],
   "source": [
    "pip = Pipeline([ \n",
    "    ('vect', CountVectorizer(analyzer='word', ngram_range=(1,2))), \n",
    "    ('tfidf', TfidfTransformer()), \n",
    "    #('tm', TruncatedSVD()), \n",
    "    ('clf', RandomForestClassifier(n_estimators=100,n_jobs=-1))\n",
    "])"
   ]
  },
  {
   "cell_type": "code",
   "execution_count": 182,
   "metadata": {},
   "outputs": [
    {
     "name": "stdout",
     "output_type": "stream",
     "text": [
      "Wall time: 51.3 s\n"
     ]
    },
    {
     "data": {
      "text/plain": [
       "Pipeline(memory=None,\n",
       "     steps=[('vect', CountVectorizer(analyzer='word', binary=False, decode_error='strict',\n",
       "        dtype=<class 'numpy.int64'>, encoding='utf-8', input='content',\n",
       "        lowercase=True, max_df=1.0, max_features=None, min_df=1,\n",
       "        ngram_range=(1, 2), preprocessor=None, stop_words=None,\n",
       "        strip..._jobs=-1,\n",
       "            oob_score=False, random_state=None, verbose=0,\n",
       "            warm_start=False))])"
      ]
     },
     "execution_count": 182,
     "metadata": {},
     "output_type": "execute_result"
    }
   ],
   "source": [
    "%%time\n",
    "pip.fit(X_train, Y_train)"
   ]
  },
  {
   "cell_type": "code",
   "execution_count": 183,
   "metadata": {},
   "outputs": [],
   "source": [
    "pred = pip.predict(X_test)"
   ]
  },
  {
   "cell_type": "code",
   "execution_count": 184,
   "metadata": {},
   "outputs": [],
   "source": [
    "from sklearn.metrics import *"
   ]
  },
  {
   "cell_type": "code",
   "execution_count": 185,
   "metadata": {},
   "outputs": [
    {
     "name": "stdout",
     "output_type": "stream",
     "text": [
      "F1-measure:   0.94\n",
      "Accuracy:   0.94\n"
     ]
    }
   ],
   "source": [
    "print(\"F1-measure: {0:6.2f}\".format(f1_score(Y_test, pred, average='macro')))\n",
    "print(\"Accuracy: {0:6.2f}\".format(accuracy_score(Y_test, pred)))"
   ]
  },
  {
   "cell_type": "code",
   "execution_count": 187,
   "metadata": {},
   "outputs": [],
   "source": [
    "from sklearn.decomposition import LatentDirichletAllocation"
   ]
  },
  {
   "cell_type": "code",
   "execution_count": 200,
   "metadata": {},
   "outputs": [],
   "source": [
    "pip = Pipeline([ \n",
    "    ('vect', CountVectorizer(analyzer='word', ngram_range=(1,2),max_features=1000)), \n",
    "    ('lda',  LatentDirichletAllocation(n_components=10, max_iter=5,\n",
    "                                learning_method='online',\n",
    "                                learning_offset=50.,\n",
    "                                random_state=0, n_jobs=-1)), \n",
    "    ('clf', RandomForestClassifier(n_estimators=10,n_jobs=-1))\n",
    "])"
   ]
  },
  {
   "cell_type": "code",
   "execution_count": 201,
   "metadata": {},
   "outputs": [
    {
     "name": "stdout",
     "output_type": "stream",
     "text": [
      "Wall time: 49.1 s\n"
     ]
    },
    {
     "data": {
      "text/plain": [
       "Pipeline(memory=None,\n",
       "     steps=[('vect', CountVectorizer(analyzer='word', binary=False, decode_error='strict',\n",
       "        dtype=<class 'numpy.int64'>, encoding='utf-8', input='content',\n",
       "        lowercase=True, max_df=1.0, max_features=1000, min_df=1,\n",
       "        ngram_range=(1, 2), preprocessor=None, stop_words=None,\n",
       "        strip..._jobs=-1,\n",
       "            oob_score=False, random_state=None, verbose=0,\n",
       "            warm_start=False))])"
      ]
     },
     "execution_count": 201,
     "metadata": {},
     "output_type": "execute_result"
    }
   ],
   "source": [
    "%%time\n",
    "pip.fit(X_train, Y_train)"
   ]
  },
  {
   "cell_type": "code",
   "execution_count": 202,
   "metadata": {},
   "outputs": [
    {
     "name": "stdout",
     "output_type": "stream",
     "text": [
      "F1-measure:   0.89\n",
      "Accuracy:   0.89\n"
     ]
    }
   ],
   "source": [
    "pred = pip.predict(X_test)\n",
    "print(\"F1-measure: {0:6.2f}\".format(f1_score(Y_test, pred, average='macro')))\n",
    "print(\"Accuracy: {0:6.2f}\".format(accuracy_score(Y_test, pred)))"
   ]
  },
  {
   "cell_type": "code",
   "execution_count": 191,
   "metadata": {},
   "outputs": [],
   "source": [
    "from sklearn.linear_model import LogisticRegression"
   ]
  },
  {
   "cell_type": "code",
   "execution_count": 205,
   "metadata": {},
   "outputs": [],
   "source": [
    "pip = Pipeline([ \n",
    "    ('vect', CountVectorizer(analyzer='word', ngram_range=(1,2), max_df=0.95, min_df=2, max_features=1000)), \n",
    "    ('lda',  LatentDirichletAllocation(max_iter=10,\n",
    "                                learning_method='online',\n",
    "                                learning_offset=50.,\n",
    "                                random_state=0, n_jobs=7)), \n",
    "    ('clf', LogisticRegression(C=10.0,n_jobs=7))\n",
    "])"
   ]
  },
  {
   "cell_type": "code",
   "execution_count": 206,
   "metadata": {},
   "outputs": [
    {
     "name": "stderr",
     "output_type": "stream",
     "text": [
      "C:\\ProgramData\\Anaconda3\\lib\\site-packages\\sklearn\\linear_model\\logistic.py:433: FutureWarning: Default solver will be changed to 'lbfgs' in 0.22. Specify a solver to silence this warning.\n",
      "  FutureWarning)\n",
      "C:\\ProgramData\\Anaconda3\\lib\\site-packages\\sklearn\\linear_model\\logistic.py:1297: UserWarning: 'n_jobs' > 1 does not have any effect when 'solver' is set to 'liblinear'. Got 'n_jobs' = 7.\n",
      "  \" = {}.\".format(effective_n_jobs(self.n_jobs)))\n"
     ]
    },
    {
     "name": "stdout",
     "output_type": "stream",
     "text": [
      "Wall time: 1min 18s\n"
     ]
    },
    {
     "data": {
      "text/plain": [
       "Pipeline(memory=None,\n",
       "     steps=[('vect', CountVectorizer(analyzer='word', binary=False, decode_error='strict',\n",
       "        dtype=<class 'numpy.int64'>, encoding='utf-8', input='content',\n",
       "        lowercase=True, max_df=0.95, max_features=1000, min_df=2,\n",
       "        ngram_range=(1, 2), preprocessor=None, stop_words=None,\n",
       "        stri...penalty='l2', random_state=None, solver='warn', tol=0.0001,\n",
       "          verbose=0, warm_start=False))])"
      ]
     },
     "execution_count": 206,
     "metadata": {},
     "output_type": "execute_result"
    }
   ],
   "source": [
    "%%time\n",
    "pip.fit(X_train, Y_train)"
   ]
  },
  {
   "cell_type": "code",
   "execution_count": 207,
   "metadata": {},
   "outputs": [
    {
     "name": "stdout",
     "output_type": "stream",
     "text": [
      "F1-measure:   0.88\n",
      "Accuracy:   0.88\n"
     ]
    }
   ],
   "source": [
    "pred = pip.predict(X_test)\n",
    "print(\"F1-measure: {0:6.2f}\".format(f1_score(Y_test, pred, average='macro')))\n",
    "print(\"Accuracy: {0:6.2f}\".format(accuracy_score(Y_test, pred)))"
   ]
  },
  {
   "cell_type": "code",
   "execution_count": null,
   "metadata": {},
   "outputs": [],
   "source": []
  }
 ],
 "metadata": {
  "kernelspec": {
   "display_name": "Python 3",
   "language": "python",
   "name": "python3"
  },
  "language_info": {
   "codemirror_mode": {
    "name": "ipython",
    "version": 3
   },
   "file_extension": ".py",
   "mimetype": "text/x-python",
   "name": "python",
   "nbconvert_exporter": "python",
   "pygments_lexer": "ipython3",
   "version": "3.7.1"
  }
 },
 "nbformat": 4,
 "nbformat_minor": 2
}
